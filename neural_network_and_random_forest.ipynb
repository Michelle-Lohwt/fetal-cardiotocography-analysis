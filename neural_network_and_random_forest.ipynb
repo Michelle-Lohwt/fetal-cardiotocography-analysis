{
  "cells": [
    {
      "cell_type": "markdown",
      "metadata": {
        "id": "view-in-github",
        "colab_type": "text"
      },
      "source": [
        "<a href=\"https://colab.research.google.com/github/Michelle-Lohwt/fetal-cardiotocography-analysis/blob/main/neural_network_and_random_forest.ipynb\" target=\"_parent\"><img src=\"https://colab.research.google.com/assets/colab-badge.svg\" alt=\"Open In Colab\"/></a>"
      ]
    },
    {
      "cell_type": "markdown",
      "metadata": {
        "id": "e3M3kUYErO7g"
      },
      "source": [
        "## Group Cardio_4\n",
        "\n",
        "Group Members\n",
        "1. Pan Kwong Sing (152687)\n",
        "2. Lim Phei San (152726)\n",
        "3. Lim Zi Qiang (153116)\n",
        "4. Loh Wan Teng (149104)"
      ]
    },
    {
      "cell_type": "markdown",
      "metadata": {
        "id": "zJ5xmQ7vrO7h"
      },
      "source": [
        "The team decided to use 'NSP' class as the output, so the 'CLASS' column (FHR pattern class code (1 to 10)) is dropped."
      ]
    },
    {
      "cell_type": "markdown",
      "metadata": {
        "id": "teGs8-GnrO7i"
      },
      "source": [
        "## Import Libraries and Dataset"
      ]
    },
    {
      "cell_type": "code",
      "source": [
        "pip install mlxtend --upgrade"
      ],
      "metadata": {
        "colab": {
          "base_uri": "https://localhost:8080/",
          "height": 574
        },
        "id": "uBYICL3u-tP1",
        "outputId": "4a4841f6-0903-4cff-c657-e03624c26722"
      },
      "execution_count": null,
      "outputs": [
        {
          "output_type": "stream",
          "name": "stdout",
          "text": [
            "Looking in indexes: https://pypi.org/simple, https://us-python.pkg.dev/colab-wheels/public/simple/\n",
            "Requirement already satisfied: mlxtend in /usr/local/lib/python3.7/dist-packages (0.14.0)\n",
            "Collecting mlxtend\n",
            "  Downloading mlxtend-0.20.0-py2.py3-none-any.whl (1.3 MB)\n",
            "\u001b[K     |████████████████████████████████| 1.3 MB 8.9 MB/s \n",
            "\u001b[?25hRequirement already satisfied: pandas>=0.24.2 in /usr/local/lib/python3.7/dist-packages (from mlxtend) (1.3.5)\n",
            "Requirement already satisfied: scikit-learn>=1.0.2 in /usr/local/lib/python3.7/dist-packages (from mlxtend) (1.0.2)\n",
            "Requirement already satisfied: numpy>=1.16.2 in /usr/local/lib/python3.7/dist-packages (from mlxtend) (1.21.6)\n",
            "Requirement already satisfied: matplotlib>=3.0.0 in /usr/local/lib/python3.7/dist-packages (from mlxtend) (3.2.2)\n",
            "Requirement already satisfied: scipy>=1.2.1 in /usr/local/lib/python3.7/dist-packages (from mlxtend) (1.7.3)\n",
            "Requirement already satisfied: joblib>=0.13.2 in /usr/local/lib/python3.7/dist-packages (from mlxtend) (1.1.0)\n",
            "Requirement already satisfied: setuptools in /usr/local/lib/python3.7/dist-packages (from mlxtend) (57.4.0)\n",
            "Requirement already satisfied: pyparsing!=2.0.4,!=2.1.2,!=2.1.6,>=2.0.1 in /usr/local/lib/python3.7/dist-packages (from matplotlib>=3.0.0->mlxtend) (3.0.9)\n",
            "Requirement already satisfied: kiwisolver>=1.0.1 in /usr/local/lib/python3.7/dist-packages (from matplotlib>=3.0.0->mlxtend) (1.4.3)\n",
            "Requirement already satisfied: python-dateutil>=2.1 in /usr/local/lib/python3.7/dist-packages (from matplotlib>=3.0.0->mlxtend) (2.8.2)\n",
            "Requirement already satisfied: cycler>=0.10 in /usr/local/lib/python3.7/dist-packages (from matplotlib>=3.0.0->mlxtend) (0.11.0)\n",
            "Requirement already satisfied: typing-extensions in /usr/local/lib/python3.7/dist-packages (from kiwisolver>=1.0.1->matplotlib>=3.0.0->mlxtend) (4.1.1)\n",
            "Requirement already satisfied: pytz>=2017.3 in /usr/local/lib/python3.7/dist-packages (from pandas>=0.24.2->mlxtend) (2022.1)\n",
            "Requirement already satisfied: six>=1.5 in /usr/local/lib/python3.7/dist-packages (from python-dateutil>=2.1->matplotlib>=3.0.0->mlxtend) (1.15.0)\n",
            "Requirement already satisfied: threadpoolctl>=2.0.0 in /usr/local/lib/python3.7/dist-packages (from scikit-learn>=1.0.2->mlxtend) (3.1.0)\n",
            "Installing collected packages: mlxtend\n",
            "  Attempting uninstall: mlxtend\n",
            "    Found existing installation: mlxtend 0.14.0\n",
            "    Uninstalling mlxtend-0.14.0:\n",
            "      Successfully uninstalled mlxtend-0.14.0\n",
            "Successfully installed mlxtend-0.20.0\n"
          ]
        },
        {
          "output_type": "display_data",
          "data": {
            "application/vnd.colab-display-data+json": {
              "pip_warning": {
                "packages": [
                  "mlxtend"
                ]
              }
            }
          },
          "metadata": {}
        }
      ]
    },
    {
      "cell_type": "code",
      "execution_count": null,
      "metadata": {
        "id": "5YydWPdFrO7i"
      },
      "outputs": [],
      "source": [
        "import numpy as np\n",
        "import pandas as pd\n",
        "import matplotlib.pyplot as plt\n",
        "import seaborn as sns\n",
        "import sklearn\n",
        "\n",
        "from sklearn.preprocessing import scale, FunctionTransformer, StandardScaler, OneHotEncoder\n",
        "from sklearn.model_selection import train_test_split\n",
        "from sklearn.feature_selection import mutual_info_classif, SelectKBest\n",
        "from sklearn.metrics import accuracy_score, confusion_matrix, classification_report\n",
        "\n",
        "from mlxtend.feature_selection import SequentialFeatureSelector as SFS\n",
        "from mlxtend.plotting import plot_sequential_feature_selection as plot_sfs\n",
        "\n",
        "from keras.models import Sequential\n",
        "from keras.layers import Dense\n",
        "from sklearn.preprocessing import OneHotEncoder\n",
        "from sklearn.ensemble import RandomForestClassifier\n",
        "\n",
        "import tensorflow as tf"
      ]
    },
    {
      "cell_type": "code",
      "execution_count": null,
      "metadata": {
        "id": "Mh7dqoDErO7k"
      },
      "outputs": [],
      "source": [
        "cardio_df = pd.read_csv('ctg.csv',sep=';')"
      ]
    },
    {
      "cell_type": "markdown",
      "metadata": {
        "id": "2rlS-WB4rO7k"
      },
      "source": [
        "## Exploratory Data Analysis, Data Preprocessing and Data Cleaning"
      ]
    },
    {
      "cell_type": "markdown",
      "metadata": {
        "id": "BCsHeOESrO7l"
      },
      "source": [
        "### Understanding Dataset"
      ]
    },
    {
      "cell_type": "code",
      "execution_count": null,
      "metadata": {
        "id": "uHJYK5L1rO7m",
        "colab": {
          "base_uri": "https://localhost:8080/",
          "height": 235
        },
        "outputId": "13c039f9-7b23-4a93-d066-9c325b43026b"
      },
      "outputs": [
        {
          "output_type": "execute_result",
          "data": {
            "text/plain": [
              "      LB   AC   FM   UC  ASTV  MSTV  ALTV  MLTV   DL   DS  ...    Max  Nmax  \\\n",
              "0  120.0  0.0  0.0  0.0  73.0   0.5  43.0   2.4  0.0  0.0  ...  126.0   2.0   \n",
              "1  132.0  4.0  0.0  4.0  17.0   2.1   0.0  10.4  2.0  0.0  ...  198.0   6.0   \n",
              "2  133.0  2.0  0.0  5.0  16.0   2.1   0.0  13.4  2.0  0.0  ...  198.0   5.0   \n",
              "3  134.0  2.0  0.0  6.0  16.0   2.4   0.0  23.0  2.0  0.0  ...  170.0  11.0   \n",
              "4  132.0  4.0  0.0  5.0  16.0   2.4   0.0  19.9  0.0  0.0  ...  170.0   9.0   \n",
              "\n",
              "   Nzeros   Mode   Mean  Median  Variance  Tendency  CLASS  NSP  \n",
              "0     0.0  120.0  137.0   121.0      73.0       1.0    9.0  2.0  \n",
              "1     1.0  141.0  136.0   140.0      12.0       0.0    6.0  1.0  \n",
              "2     1.0  141.0  135.0   138.0      13.0       0.0    6.0  1.0  \n",
              "3     0.0  137.0  134.0   137.0      13.0       1.0    6.0  1.0  \n",
              "4     0.0  137.0  136.0   138.0      11.0       1.0    2.0  1.0  \n",
              "\n",
              "[5 rows x 23 columns]"
            ],
            "text/html": [
              "\n",
              "  <div id=\"df-6b6e49ec-95aa-4d8b-b731-14842ae1080b\">\n",
              "    <div class=\"colab-df-container\">\n",
              "      <div>\n",
              "<style scoped>\n",
              "    .dataframe tbody tr th:only-of-type {\n",
              "        vertical-align: middle;\n",
              "    }\n",
              "\n",
              "    .dataframe tbody tr th {\n",
              "        vertical-align: top;\n",
              "    }\n",
              "\n",
              "    .dataframe thead th {\n",
              "        text-align: right;\n",
              "    }\n",
              "</style>\n",
              "<table border=\"1\" class=\"dataframe\">\n",
              "  <thead>\n",
              "    <tr style=\"text-align: right;\">\n",
              "      <th></th>\n",
              "      <th>LB</th>\n",
              "      <th>AC</th>\n",
              "      <th>FM</th>\n",
              "      <th>UC</th>\n",
              "      <th>ASTV</th>\n",
              "      <th>MSTV</th>\n",
              "      <th>ALTV</th>\n",
              "      <th>MLTV</th>\n",
              "      <th>DL</th>\n",
              "      <th>DS</th>\n",
              "      <th>...</th>\n",
              "      <th>Max</th>\n",
              "      <th>Nmax</th>\n",
              "      <th>Nzeros</th>\n",
              "      <th>Mode</th>\n",
              "      <th>Mean</th>\n",
              "      <th>Median</th>\n",
              "      <th>Variance</th>\n",
              "      <th>Tendency</th>\n",
              "      <th>CLASS</th>\n",
              "      <th>NSP</th>\n",
              "    </tr>\n",
              "  </thead>\n",
              "  <tbody>\n",
              "    <tr>\n",
              "      <th>0</th>\n",
              "      <td>120.0</td>\n",
              "      <td>0.0</td>\n",
              "      <td>0.0</td>\n",
              "      <td>0.0</td>\n",
              "      <td>73.0</td>\n",
              "      <td>0.5</td>\n",
              "      <td>43.0</td>\n",
              "      <td>2.4</td>\n",
              "      <td>0.0</td>\n",
              "      <td>0.0</td>\n",
              "      <td>...</td>\n",
              "      <td>126.0</td>\n",
              "      <td>2.0</td>\n",
              "      <td>0.0</td>\n",
              "      <td>120.0</td>\n",
              "      <td>137.0</td>\n",
              "      <td>121.0</td>\n",
              "      <td>73.0</td>\n",
              "      <td>1.0</td>\n",
              "      <td>9.0</td>\n",
              "      <td>2.0</td>\n",
              "    </tr>\n",
              "    <tr>\n",
              "      <th>1</th>\n",
              "      <td>132.0</td>\n",
              "      <td>4.0</td>\n",
              "      <td>0.0</td>\n",
              "      <td>4.0</td>\n",
              "      <td>17.0</td>\n",
              "      <td>2.1</td>\n",
              "      <td>0.0</td>\n",
              "      <td>10.4</td>\n",
              "      <td>2.0</td>\n",
              "      <td>0.0</td>\n",
              "      <td>...</td>\n",
              "      <td>198.0</td>\n",
              "      <td>6.0</td>\n",
              "      <td>1.0</td>\n",
              "      <td>141.0</td>\n",
              "      <td>136.0</td>\n",
              "      <td>140.0</td>\n",
              "      <td>12.0</td>\n",
              "      <td>0.0</td>\n",
              "      <td>6.0</td>\n",
              "      <td>1.0</td>\n",
              "    </tr>\n",
              "    <tr>\n",
              "      <th>2</th>\n",
              "      <td>133.0</td>\n",
              "      <td>2.0</td>\n",
              "      <td>0.0</td>\n",
              "      <td>5.0</td>\n",
              "      <td>16.0</td>\n",
              "      <td>2.1</td>\n",
              "      <td>0.0</td>\n",
              "      <td>13.4</td>\n",
              "      <td>2.0</td>\n",
              "      <td>0.0</td>\n",
              "      <td>...</td>\n",
              "      <td>198.0</td>\n",
              "      <td>5.0</td>\n",
              "      <td>1.0</td>\n",
              "      <td>141.0</td>\n",
              "      <td>135.0</td>\n",
              "      <td>138.0</td>\n",
              "      <td>13.0</td>\n",
              "      <td>0.0</td>\n",
              "      <td>6.0</td>\n",
              "      <td>1.0</td>\n",
              "    </tr>\n",
              "    <tr>\n",
              "      <th>3</th>\n",
              "      <td>134.0</td>\n",
              "      <td>2.0</td>\n",
              "      <td>0.0</td>\n",
              "      <td>6.0</td>\n",
              "      <td>16.0</td>\n",
              "      <td>2.4</td>\n",
              "      <td>0.0</td>\n",
              "      <td>23.0</td>\n",
              "      <td>2.0</td>\n",
              "      <td>0.0</td>\n",
              "      <td>...</td>\n",
              "      <td>170.0</td>\n",
              "      <td>11.0</td>\n",
              "      <td>0.0</td>\n",
              "      <td>137.0</td>\n",
              "      <td>134.0</td>\n",
              "      <td>137.0</td>\n",
              "      <td>13.0</td>\n",
              "      <td>1.0</td>\n",
              "      <td>6.0</td>\n",
              "      <td>1.0</td>\n",
              "    </tr>\n",
              "    <tr>\n",
              "      <th>4</th>\n",
              "      <td>132.0</td>\n",
              "      <td>4.0</td>\n",
              "      <td>0.0</td>\n",
              "      <td>5.0</td>\n",
              "      <td>16.0</td>\n",
              "      <td>2.4</td>\n",
              "      <td>0.0</td>\n",
              "      <td>19.9</td>\n",
              "      <td>0.0</td>\n",
              "      <td>0.0</td>\n",
              "      <td>...</td>\n",
              "      <td>170.0</td>\n",
              "      <td>9.0</td>\n",
              "      <td>0.0</td>\n",
              "      <td>137.0</td>\n",
              "      <td>136.0</td>\n",
              "      <td>138.0</td>\n",
              "      <td>11.0</td>\n",
              "      <td>1.0</td>\n",
              "      <td>2.0</td>\n",
              "      <td>1.0</td>\n",
              "    </tr>\n",
              "  </tbody>\n",
              "</table>\n",
              "<p>5 rows × 23 columns</p>\n",
              "</div>\n",
              "      <button class=\"colab-df-convert\" onclick=\"convertToInteractive('df-6b6e49ec-95aa-4d8b-b731-14842ae1080b')\"\n",
              "              title=\"Convert this dataframe to an interactive table.\"\n",
              "              style=\"display:none;\">\n",
              "        \n",
              "  <svg xmlns=\"http://www.w3.org/2000/svg\" height=\"24px\"viewBox=\"0 0 24 24\"\n",
              "       width=\"24px\">\n",
              "    <path d=\"M0 0h24v24H0V0z\" fill=\"none\"/>\n",
              "    <path d=\"M18.56 5.44l.94 2.06.94-2.06 2.06-.94-2.06-.94-.94-2.06-.94 2.06-2.06.94zm-11 1L8.5 8.5l.94-2.06 2.06-.94-2.06-.94L8.5 2.5l-.94 2.06-2.06.94zm10 10l.94 2.06.94-2.06 2.06-.94-2.06-.94-.94-2.06-.94 2.06-2.06.94z\"/><path d=\"M17.41 7.96l-1.37-1.37c-.4-.4-.92-.59-1.43-.59-.52 0-1.04.2-1.43.59L10.3 9.45l-7.72 7.72c-.78.78-.78 2.05 0 2.83L4 21.41c.39.39.9.59 1.41.59.51 0 1.02-.2 1.41-.59l7.78-7.78 2.81-2.81c.8-.78.8-2.07 0-2.86zM5.41 20L4 18.59l7.72-7.72 1.47 1.35L5.41 20z\"/>\n",
              "  </svg>\n",
              "      </button>\n",
              "      \n",
              "  <style>\n",
              "    .colab-df-container {\n",
              "      display:flex;\n",
              "      flex-wrap:wrap;\n",
              "      gap: 12px;\n",
              "    }\n",
              "\n",
              "    .colab-df-convert {\n",
              "      background-color: #E8F0FE;\n",
              "      border: none;\n",
              "      border-radius: 50%;\n",
              "      cursor: pointer;\n",
              "      display: none;\n",
              "      fill: #1967D2;\n",
              "      height: 32px;\n",
              "      padding: 0 0 0 0;\n",
              "      width: 32px;\n",
              "    }\n",
              "\n",
              "    .colab-df-convert:hover {\n",
              "      background-color: #E2EBFA;\n",
              "      box-shadow: 0px 1px 2px rgba(60, 64, 67, 0.3), 0px 1px 3px 1px rgba(60, 64, 67, 0.15);\n",
              "      fill: #174EA6;\n",
              "    }\n",
              "\n",
              "    [theme=dark] .colab-df-convert {\n",
              "      background-color: #3B4455;\n",
              "      fill: #D2E3FC;\n",
              "    }\n",
              "\n",
              "    [theme=dark] .colab-df-convert:hover {\n",
              "      background-color: #434B5C;\n",
              "      box-shadow: 0px 1px 3px 1px rgba(0, 0, 0, 0.15);\n",
              "      filter: drop-shadow(0px 1px 2px rgba(0, 0, 0, 0.3));\n",
              "      fill: #FFFFFF;\n",
              "    }\n",
              "  </style>\n",
              "\n",
              "      <script>\n",
              "        const buttonEl =\n",
              "          document.querySelector('#df-6b6e49ec-95aa-4d8b-b731-14842ae1080b button.colab-df-convert');\n",
              "        buttonEl.style.display =\n",
              "          google.colab.kernel.accessAllowed ? 'block' : 'none';\n",
              "\n",
              "        async function convertToInteractive(key) {\n",
              "          const element = document.querySelector('#df-6b6e49ec-95aa-4d8b-b731-14842ae1080b');\n",
              "          const dataTable =\n",
              "            await google.colab.kernel.invokeFunction('convertToInteractive',\n",
              "                                                     [key], {});\n",
              "          if (!dataTable) return;\n",
              "\n",
              "          const docLinkHtml = 'Like what you see? Visit the ' +\n",
              "            '<a target=\"_blank\" href=https://colab.research.google.com/notebooks/data_table.ipynb>data table notebook</a>'\n",
              "            + ' to learn more about interactive tables.';\n",
              "          element.innerHTML = '';\n",
              "          dataTable['output_type'] = 'display_data';\n",
              "          await google.colab.output.renderOutput(dataTable, element);\n",
              "          const docLink = document.createElement('div');\n",
              "          docLink.innerHTML = docLinkHtml;\n",
              "          element.appendChild(docLink);\n",
              "        }\n",
              "      </script>\n",
              "    </div>\n",
              "  </div>\n",
              "  "
            ]
          },
          "metadata": {},
          "execution_count": 10
        }
      ],
      "source": [
        "cardio_df.head()"
      ]
    },
    {
      "cell_type": "code",
      "execution_count": null,
      "metadata": {
        "id": "gQZ-6acPrO7n",
        "colab": {
          "base_uri": "https://localhost:8080/"
        },
        "outputId": "cba4eef1-beb7-4694-d192-db7f4b45c559"
      },
      "outputs": [
        {
          "output_type": "stream",
          "name": "stdout",
          "text": [
            "<class 'pandas.core.frame.DataFrame'>\n",
            "RangeIndex: 2129 entries, 0 to 2128\n",
            "Data columns (total 23 columns):\n",
            " #   Column    Non-Null Count  Dtype  \n",
            "---  ------    --------------  -----  \n",
            " 0   LB        2126 non-null   float64\n",
            " 1   AC        2126 non-null   float64\n",
            " 2   FM        2127 non-null   float64\n",
            " 3   UC        2127 non-null   float64\n",
            " 4   ASTV      2127 non-null   float64\n",
            " 5   MSTV      2127 non-null   float64\n",
            " 6   ALTV      2127 non-null   float64\n",
            " 7   MLTV      2127 non-null   float64\n",
            " 8   DL        2128 non-null   float64\n",
            " 9   DS        2128 non-null   float64\n",
            " 10  DP        2128 non-null   float64\n",
            " 11  Width     2126 non-null   float64\n",
            " 12  Min       2126 non-null   float64\n",
            " 13  Max       2126 non-null   float64\n",
            " 14  Nmax      2126 non-null   float64\n",
            " 15  Nzeros    2126 non-null   float64\n",
            " 16  Mode      2126 non-null   float64\n",
            " 17  Mean      2126 non-null   float64\n",
            " 18  Median    2126 non-null   float64\n",
            " 19  Variance  2126 non-null   float64\n",
            " 20  Tendency  2126 non-null   float64\n",
            " 21  CLASS     2126 non-null   float64\n",
            " 22  NSP       2126 non-null   float64\n",
            "dtypes: float64(23)\n",
            "memory usage: 382.7 KB\n"
          ]
        }
      ],
      "source": [
        "cardio_df.info()"
      ]
    },
    {
      "cell_type": "markdown",
      "metadata": {
        "id": "YwFQWJIHrO7o"
      },
      "source": [
        "### Drop 'CLASS' column"
      ]
    },
    {
      "cell_type": "code",
      "execution_count": null,
      "metadata": {
        "id": "n1AP3IMtrO7p"
      },
      "outputs": [],
      "source": [
        "cardio_df = cardio_df.drop(columns = ['CLASS'])"
      ]
    },
    {
      "cell_type": "code",
      "execution_count": null,
      "metadata": {
        "id": "jbZIOCdMrO7p",
        "colab": {
          "base_uri": "https://localhost:8080/"
        },
        "outputId": "25c797b3-ffb3-447d-9116-62092691eee3"
      },
      "outputs": [
        {
          "output_type": "execute_result",
          "data": {
            "text/plain": [
              "Index(['LB', 'AC', 'FM', 'UC', 'ASTV', 'MSTV', 'ALTV', 'MLTV', 'DL', 'DS',\n",
              "       'DP', 'Width', 'Min', 'Max', 'Nmax', 'Nzeros', 'Mode', 'Mean', 'Median',\n",
              "       'Variance', 'Tendency', 'NSP'],\n",
              "      dtype='object')"
            ]
          },
          "metadata": {},
          "execution_count": 9
        }
      ],
      "source": [
        "cardio_df.columns"
      ]
    },
    {
      "cell_type": "markdown",
      "metadata": {
        "id": "UG6O9L4UrO7p"
      },
      "source": [
        "### Drop Null or NA Rows"
      ]
    },
    {
      "cell_type": "markdown",
      "metadata": {
        "id": "VUajPX4DrO7q"
      },
      "source": [
        "If you observe the \"Non-Null Count\", there is null values exists."
      ]
    },
    {
      "cell_type": "code",
      "execution_count": null,
      "metadata": {
        "id": "JPs6BEEvrO7q",
        "colab": {
          "base_uri": "https://localhost:8080/"
        },
        "outputId": "3a894240-34fc-458d-a14c-a948a642b17a"
      },
      "outputs": [
        {
          "output_type": "execute_result",
          "data": {
            "text/plain": [
              "LB          3\n",
              "AC          3\n",
              "FM          2\n",
              "UC          2\n",
              "ASTV        2\n",
              "MSTV        2\n",
              "ALTV        2\n",
              "MLTV        2\n",
              "DL          1\n",
              "DS          1\n",
              "DP          1\n",
              "Width       3\n",
              "Min         3\n",
              "Max         3\n",
              "Nmax        3\n",
              "Nzeros      3\n",
              "Mode        3\n",
              "Mean        3\n",
              "Median      3\n",
              "Variance    3\n",
              "Tendency    3\n",
              "NSP         3\n",
              "dtype: int64"
            ]
          },
          "metadata": {},
          "execution_count": 12
        }
      ],
      "source": [
        "cardio_df.isna().sum()"
      ]
    },
    {
      "cell_type": "code",
      "execution_count": null,
      "metadata": {
        "id": "llpBZc1crO7r",
        "colab": {
          "base_uri": "https://localhost:8080/",
          "height": 173
        },
        "outputId": "73c01374-d949-495c-a3a7-397ac3ca641f"
      },
      "outputs": [
        {
          "output_type": "execute_result",
          "data": {
            "text/plain": [
              "      LB  AC     FM    UC  ASTV  MSTV  ALTV  MLTV    DL   DS  ...  Min  Max  \\\n",
              "2126 NaN NaN    NaN   NaN   NaN   NaN   NaN   NaN   NaN  NaN  ...  NaN  NaN   \n",
              "2127 NaN NaN    NaN   NaN   NaN   NaN   NaN   NaN   0.0  0.0  ...  NaN  NaN   \n",
              "2128 NaN NaN  564.0  23.0  87.0   7.0  91.0  50.7  16.0  1.0  ...  NaN  NaN   \n",
              "\n",
              "      Nmax  Nzeros  Mode  Mean  Median  Variance  Tendency  NSP  \n",
              "2126   NaN     NaN   NaN   NaN     NaN       NaN       NaN  NaN  \n",
              "2127   NaN     NaN   NaN   NaN     NaN       NaN       NaN  NaN  \n",
              "2128   NaN     NaN   NaN   NaN     NaN       NaN       NaN  NaN  \n",
              "\n",
              "[3 rows x 22 columns]"
            ],
            "text/html": [
              "\n",
              "  <div id=\"df-73cd96d1-7bf9-4810-96bf-fa6eab797da8\">\n",
              "    <div class=\"colab-df-container\">\n",
              "      <div>\n",
              "<style scoped>\n",
              "    .dataframe tbody tr th:only-of-type {\n",
              "        vertical-align: middle;\n",
              "    }\n",
              "\n",
              "    .dataframe tbody tr th {\n",
              "        vertical-align: top;\n",
              "    }\n",
              "\n",
              "    .dataframe thead th {\n",
              "        text-align: right;\n",
              "    }\n",
              "</style>\n",
              "<table border=\"1\" class=\"dataframe\">\n",
              "  <thead>\n",
              "    <tr style=\"text-align: right;\">\n",
              "      <th></th>\n",
              "      <th>LB</th>\n",
              "      <th>AC</th>\n",
              "      <th>FM</th>\n",
              "      <th>UC</th>\n",
              "      <th>ASTV</th>\n",
              "      <th>MSTV</th>\n",
              "      <th>ALTV</th>\n",
              "      <th>MLTV</th>\n",
              "      <th>DL</th>\n",
              "      <th>DS</th>\n",
              "      <th>...</th>\n",
              "      <th>Min</th>\n",
              "      <th>Max</th>\n",
              "      <th>Nmax</th>\n",
              "      <th>Nzeros</th>\n",
              "      <th>Mode</th>\n",
              "      <th>Mean</th>\n",
              "      <th>Median</th>\n",
              "      <th>Variance</th>\n",
              "      <th>Tendency</th>\n",
              "      <th>NSP</th>\n",
              "    </tr>\n",
              "  </thead>\n",
              "  <tbody>\n",
              "    <tr>\n",
              "      <th>2126</th>\n",
              "      <td>NaN</td>\n",
              "      <td>NaN</td>\n",
              "      <td>NaN</td>\n",
              "      <td>NaN</td>\n",
              "      <td>NaN</td>\n",
              "      <td>NaN</td>\n",
              "      <td>NaN</td>\n",
              "      <td>NaN</td>\n",
              "      <td>NaN</td>\n",
              "      <td>NaN</td>\n",
              "      <td>...</td>\n",
              "      <td>NaN</td>\n",
              "      <td>NaN</td>\n",
              "      <td>NaN</td>\n",
              "      <td>NaN</td>\n",
              "      <td>NaN</td>\n",
              "      <td>NaN</td>\n",
              "      <td>NaN</td>\n",
              "      <td>NaN</td>\n",
              "      <td>NaN</td>\n",
              "      <td>NaN</td>\n",
              "    </tr>\n",
              "    <tr>\n",
              "      <th>2127</th>\n",
              "      <td>NaN</td>\n",
              "      <td>NaN</td>\n",
              "      <td>NaN</td>\n",
              "      <td>NaN</td>\n",
              "      <td>NaN</td>\n",
              "      <td>NaN</td>\n",
              "      <td>NaN</td>\n",
              "      <td>NaN</td>\n",
              "      <td>0.0</td>\n",
              "      <td>0.0</td>\n",
              "      <td>...</td>\n",
              "      <td>NaN</td>\n",
              "      <td>NaN</td>\n",
              "      <td>NaN</td>\n",
              "      <td>NaN</td>\n",
              "      <td>NaN</td>\n",
              "      <td>NaN</td>\n",
              "      <td>NaN</td>\n",
              "      <td>NaN</td>\n",
              "      <td>NaN</td>\n",
              "      <td>NaN</td>\n",
              "    </tr>\n",
              "    <tr>\n",
              "      <th>2128</th>\n",
              "      <td>NaN</td>\n",
              "      <td>NaN</td>\n",
              "      <td>564.0</td>\n",
              "      <td>23.0</td>\n",
              "      <td>87.0</td>\n",
              "      <td>7.0</td>\n",
              "      <td>91.0</td>\n",
              "      <td>50.7</td>\n",
              "      <td>16.0</td>\n",
              "      <td>1.0</td>\n",
              "      <td>...</td>\n",
              "      <td>NaN</td>\n",
              "      <td>NaN</td>\n",
              "      <td>NaN</td>\n",
              "      <td>NaN</td>\n",
              "      <td>NaN</td>\n",
              "      <td>NaN</td>\n",
              "      <td>NaN</td>\n",
              "      <td>NaN</td>\n",
              "      <td>NaN</td>\n",
              "      <td>NaN</td>\n",
              "    </tr>\n",
              "  </tbody>\n",
              "</table>\n",
              "<p>3 rows × 22 columns</p>\n",
              "</div>\n",
              "      <button class=\"colab-df-convert\" onclick=\"convertToInteractive('df-73cd96d1-7bf9-4810-96bf-fa6eab797da8')\"\n",
              "              title=\"Convert this dataframe to an interactive table.\"\n",
              "              style=\"display:none;\">\n",
              "        \n",
              "  <svg xmlns=\"http://www.w3.org/2000/svg\" height=\"24px\"viewBox=\"0 0 24 24\"\n",
              "       width=\"24px\">\n",
              "    <path d=\"M0 0h24v24H0V0z\" fill=\"none\"/>\n",
              "    <path d=\"M18.56 5.44l.94 2.06.94-2.06 2.06-.94-2.06-.94-.94-2.06-.94 2.06-2.06.94zm-11 1L8.5 8.5l.94-2.06 2.06-.94-2.06-.94L8.5 2.5l-.94 2.06-2.06.94zm10 10l.94 2.06.94-2.06 2.06-.94-2.06-.94-.94-2.06-.94 2.06-2.06.94z\"/><path d=\"M17.41 7.96l-1.37-1.37c-.4-.4-.92-.59-1.43-.59-.52 0-1.04.2-1.43.59L10.3 9.45l-7.72 7.72c-.78.78-.78 2.05 0 2.83L4 21.41c.39.39.9.59 1.41.59.51 0 1.02-.2 1.41-.59l7.78-7.78 2.81-2.81c.8-.78.8-2.07 0-2.86zM5.41 20L4 18.59l7.72-7.72 1.47 1.35L5.41 20z\"/>\n",
              "  </svg>\n",
              "      </button>\n",
              "      \n",
              "  <style>\n",
              "    .colab-df-container {\n",
              "      display:flex;\n",
              "      flex-wrap:wrap;\n",
              "      gap: 12px;\n",
              "    }\n",
              "\n",
              "    .colab-df-convert {\n",
              "      background-color: #E8F0FE;\n",
              "      border: none;\n",
              "      border-radius: 50%;\n",
              "      cursor: pointer;\n",
              "      display: none;\n",
              "      fill: #1967D2;\n",
              "      height: 32px;\n",
              "      padding: 0 0 0 0;\n",
              "      width: 32px;\n",
              "    }\n",
              "\n",
              "    .colab-df-convert:hover {\n",
              "      background-color: #E2EBFA;\n",
              "      box-shadow: 0px 1px 2px rgba(60, 64, 67, 0.3), 0px 1px 3px 1px rgba(60, 64, 67, 0.15);\n",
              "      fill: #174EA6;\n",
              "    }\n",
              "\n",
              "    [theme=dark] .colab-df-convert {\n",
              "      background-color: #3B4455;\n",
              "      fill: #D2E3FC;\n",
              "    }\n",
              "\n",
              "    [theme=dark] .colab-df-convert:hover {\n",
              "      background-color: #434B5C;\n",
              "      box-shadow: 0px 1px 3px 1px rgba(0, 0, 0, 0.15);\n",
              "      filter: drop-shadow(0px 1px 2px rgba(0, 0, 0, 0.3));\n",
              "      fill: #FFFFFF;\n",
              "    }\n",
              "  </style>\n",
              "\n",
              "      <script>\n",
              "        const buttonEl =\n",
              "          document.querySelector('#df-73cd96d1-7bf9-4810-96bf-fa6eab797da8 button.colab-df-convert');\n",
              "        buttonEl.style.display =\n",
              "          google.colab.kernel.accessAllowed ? 'block' : 'none';\n",
              "\n",
              "        async function convertToInteractive(key) {\n",
              "          const element = document.querySelector('#df-73cd96d1-7bf9-4810-96bf-fa6eab797da8');\n",
              "          const dataTable =\n",
              "            await google.colab.kernel.invokeFunction('convertToInteractive',\n",
              "                                                     [key], {});\n",
              "          if (!dataTable) return;\n",
              "\n",
              "          const docLinkHtml = 'Like what you see? Visit the ' +\n",
              "            '<a target=\"_blank\" href=https://colab.research.google.com/notebooks/data_table.ipynb>data table notebook</a>'\n",
              "            + ' to learn more about interactive tables.';\n",
              "          element.innerHTML = '';\n",
              "          dataTable['output_type'] = 'display_data';\n",
              "          await google.colab.output.renderOutput(dataTable, element);\n",
              "          const docLink = document.createElement('div');\n",
              "          docLink.innerHTML = docLinkHtml;\n",
              "          element.appendChild(docLink);\n",
              "        }\n",
              "      </script>\n",
              "    </div>\n",
              "  </div>\n",
              "  "
            ]
          },
          "metadata": {},
          "execution_count": 13
        }
      ],
      "source": [
        "# Check null rows in dataset\n",
        "null_rows = cardio_df[cardio_df.isna().any(axis=1)]\n",
        "null_rows"
      ]
    },
    {
      "cell_type": "markdown",
      "metadata": {
        "id": "1g2spmS9rO7r"
      },
      "source": [
        "Since there is only 3 rows that consists of \"NA\", the team decided to remove them as it does not has high proportion of the overall rows of values."
      ]
    },
    {
      "cell_type": "code",
      "execution_count": null,
      "metadata": {
        "id": "Gt_DTOvRrO7r"
      },
      "outputs": [],
      "source": [
        "# Remove null rows\n",
        "cardio_df = cardio_df.dropna()"
      ]
    },
    {
      "cell_type": "code",
      "execution_count": null,
      "metadata": {
        "id": "ztgswVBxrO7s",
        "colab": {
          "base_uri": "https://localhost:8080/"
        },
        "outputId": "89d2952f-7e81-41fc-d546-4d838fa29dfe"
      },
      "outputs": [
        {
          "output_type": "stream",
          "name": "stdout",
          "text": [
            "<class 'pandas.core.frame.DataFrame'>\n",
            "Int64Index: 2126 entries, 0 to 2125\n",
            "Data columns (total 22 columns):\n",
            " #   Column    Non-Null Count  Dtype  \n",
            "---  ------    --------------  -----  \n",
            " 0   LB        2126 non-null   float64\n",
            " 1   AC        2126 non-null   float64\n",
            " 2   FM        2126 non-null   float64\n",
            " 3   UC        2126 non-null   float64\n",
            " 4   ASTV      2126 non-null   float64\n",
            " 5   MSTV      2126 non-null   float64\n",
            " 6   ALTV      2126 non-null   float64\n",
            " 7   MLTV      2126 non-null   float64\n",
            " 8   DL        2126 non-null   float64\n",
            " 9   DS        2126 non-null   float64\n",
            " 10  DP        2126 non-null   float64\n",
            " 11  Width     2126 non-null   float64\n",
            " 12  Min       2126 non-null   float64\n",
            " 13  Max       2126 non-null   float64\n",
            " 14  Nmax      2126 non-null   float64\n",
            " 15  Nzeros    2126 non-null   float64\n",
            " 16  Mode      2126 non-null   float64\n",
            " 17  Mean      2126 non-null   float64\n",
            " 18  Median    2126 non-null   float64\n",
            " 19  Variance  2126 non-null   float64\n",
            " 20  Tendency  2126 non-null   float64\n",
            " 21  NSP       2126 non-null   float64\n",
            "dtypes: float64(22)\n",
            "memory usage: 382.0 KB\n"
          ]
        }
      ],
      "source": [
        "# Check dataframe info again\n",
        "cardio_df.info()"
      ]
    },
    {
      "cell_type": "code",
      "execution_count": null,
      "metadata": {
        "id": "0uwRlXjDrO7s",
        "colab": {
          "base_uri": "https://localhost:8080/"
        },
        "outputId": "1703a87e-acaf-430b-e678-f40940c0d711"
      },
      "outputs": [
        {
          "output_type": "execute_result",
          "data": {
            "text/plain": [
              "LB          0\n",
              "AC          0\n",
              "FM          0\n",
              "UC          0\n",
              "ASTV        0\n",
              "MSTV        0\n",
              "ALTV        0\n",
              "MLTV        0\n",
              "DL          0\n",
              "DS          0\n",
              "DP          0\n",
              "Width       0\n",
              "Min         0\n",
              "Max         0\n",
              "Nmax        0\n",
              "Nzeros      0\n",
              "Mode        0\n",
              "Mean        0\n",
              "Median      0\n",
              "Variance    0\n",
              "Tendency    0\n",
              "NSP         0\n",
              "dtype: int64"
            ]
          },
          "metadata": {},
          "execution_count": 14
        }
      ],
      "source": [
        "# Check null values again\n",
        "cardio_df.isna().sum()"
      ]
    },
    {
      "cell_type": "markdown",
      "metadata": {
        "id": "danfPNjTrO7t"
      },
      "source": [
        "### Drop Duplicated Rows"
      ]
    },
    {
      "cell_type": "code",
      "execution_count": null,
      "metadata": {
        "id": "F7OddfourO7t",
        "colab": {
          "base_uri": "https://localhost:8080/"
        },
        "outputId": "4c45fbeb-3a0a-40fc-c122-418f4914af37"
      },
      "outputs": [
        {
          "output_type": "execute_result",
          "data": {
            "text/plain": [
              "(2126, 22)"
            ]
          },
          "metadata": {},
          "execution_count": 15
        }
      ],
      "source": [
        "cardio_df.shape"
      ]
    },
    {
      "cell_type": "code",
      "execution_count": null,
      "metadata": {
        "id": "Y96IHoPbrO7t"
      },
      "outputs": [],
      "source": [
        "cardio_df = cardio_df.drop_duplicates()"
      ]
    },
    {
      "cell_type": "code",
      "execution_count": null,
      "metadata": {
        "id": "T4bT6wYErO7u",
        "colab": {
          "base_uri": "https://localhost:8080/"
        },
        "outputId": "ca492b47-ac7d-4b2d-e648-83bc1581dcfe"
      },
      "outputs": [
        {
          "output_type": "execute_result",
          "data": {
            "text/plain": [
              "(2112, 22)"
            ]
          },
          "metadata": {},
          "execution_count": 17
        }
      ],
      "source": [
        "cardio_df.shape"
      ]
    },
    {
      "cell_type": "markdown",
      "metadata": {
        "id": "I6j0Sw5DrO7u"
      },
      "source": [
        "### Outliers Treament"
      ]
    },
    {
      "cell_type": "code",
      "execution_count": null,
      "metadata": {
        "id": "Gs_d770drO7u",
        "colab": {
          "base_uri": "https://localhost:8080/",
          "height": 394
        },
        "outputId": "bfa5a822-4135-46fc-c0b3-a9ef97580c0f"
      },
      "outputs": [
        {
          "output_type": "execute_result",
          "data": {
            "text/plain": [
              "                LB           AC           FM           UC         ASTV  \\\n",
              "count  2112.000000  2112.000000  2112.000000  2112.000000  2112.000000   \n",
              "mean    133.296875     2.733902     7.267992     3.678504    46.978693   \n",
              "std       9.833066     3.567741    37.244378     2.844685    17.167716   \n",
              "min     106.000000     0.000000     0.000000     0.000000    12.000000   \n",
              "25%     126.000000     0.000000     0.000000     1.000000    32.000000   \n",
              "50%     133.000000     1.000000     0.000000     3.000000    49.000000   \n",
              "75%     140.000000     4.000000     2.000000     5.000000    61.000000   \n",
              "max     160.000000    26.000000   564.000000    23.000000    87.000000   \n",
              "\n",
              "              MSTV         ALTV         MLTV           DL           DS  ...  \\\n",
              "count  2112.000000  2112.000000  2112.000000  2112.000000  2112.000000  ...   \n",
              "mean      1.335559     9.759943     8.169176     1.580492     0.003314  ...   \n",
              "std       0.884232    18.270136     5.633034     2.504219     0.057489  ...   \n",
              "min       0.200000     0.000000     0.000000     0.000000     0.000000  ...   \n",
              "25%       0.700000     0.000000     4.600000     0.000000     0.000000  ...   \n",
              "50%       1.200000     0.000000     7.400000     0.000000     0.000000  ...   \n",
              "75%       1.700000    11.000000    10.800000     3.000000     0.000000  ...   \n",
              "max       7.000000    91.000000    50.700000    16.000000     1.000000  ...   \n",
              "\n",
              "               Min          Max         Nmax       Nzeros         Mode  \\\n",
              "count  2112.000000  2112.000000  2112.000000  2112.000000  2112.000000   \n",
              "mean     93.539299   164.105587     4.078598     0.325758   137.448390   \n",
              "std      29.546379    17.947492     2.951603     0.707903    16.403636   \n",
              "min      50.000000   122.000000     0.000000     0.000000    60.000000   \n",
              "25%      67.000000   152.000000     2.000000     0.000000   129.000000   \n",
              "50%      93.000000   162.000000     4.000000     0.000000   139.000000   \n",
              "75%     120.000000   174.000000     6.000000     0.000000   148.000000   \n",
              "max     159.000000   238.000000    18.000000    10.000000   187.000000   \n",
              "\n",
              "              Mean       Median     Variance     Tendency          NSP  \n",
              "count  2112.000000  2112.000000  2112.000000  2112.000000  2112.000000  \n",
              "mean    134.592803   138.083333    18.916193     0.318655     1.303030  \n",
              "std      15.610971    14.479658    29.042726     0.611180     0.613314  \n",
              "min      73.000000    77.000000     0.000000    -1.000000     1.000000  \n",
              "25%     125.000000   129.000000     2.000000     0.000000     1.000000  \n",
              "50%     136.000000   139.000000     7.000000     0.000000     1.000000  \n",
              "75%     145.000000   148.000000    24.000000     1.000000     1.000000  \n",
              "max     182.000000   186.000000   269.000000     1.000000     3.000000  \n",
              "\n",
              "[8 rows x 22 columns]"
            ],
            "text/html": [
              "\n",
              "  <div id=\"df-a2694fa9-d6e2-48a8-a850-f0a127a17531\">\n",
              "    <div class=\"colab-df-container\">\n",
              "      <div>\n",
              "<style scoped>\n",
              "    .dataframe tbody tr th:only-of-type {\n",
              "        vertical-align: middle;\n",
              "    }\n",
              "\n",
              "    .dataframe tbody tr th {\n",
              "        vertical-align: top;\n",
              "    }\n",
              "\n",
              "    .dataframe thead th {\n",
              "        text-align: right;\n",
              "    }\n",
              "</style>\n",
              "<table border=\"1\" class=\"dataframe\">\n",
              "  <thead>\n",
              "    <tr style=\"text-align: right;\">\n",
              "      <th></th>\n",
              "      <th>LB</th>\n",
              "      <th>AC</th>\n",
              "      <th>FM</th>\n",
              "      <th>UC</th>\n",
              "      <th>ASTV</th>\n",
              "      <th>MSTV</th>\n",
              "      <th>ALTV</th>\n",
              "      <th>MLTV</th>\n",
              "      <th>DL</th>\n",
              "      <th>DS</th>\n",
              "      <th>...</th>\n",
              "      <th>Min</th>\n",
              "      <th>Max</th>\n",
              "      <th>Nmax</th>\n",
              "      <th>Nzeros</th>\n",
              "      <th>Mode</th>\n",
              "      <th>Mean</th>\n",
              "      <th>Median</th>\n",
              "      <th>Variance</th>\n",
              "      <th>Tendency</th>\n",
              "      <th>NSP</th>\n",
              "    </tr>\n",
              "  </thead>\n",
              "  <tbody>\n",
              "    <tr>\n",
              "      <th>count</th>\n",
              "      <td>2112.000000</td>\n",
              "      <td>2112.000000</td>\n",
              "      <td>2112.000000</td>\n",
              "      <td>2112.000000</td>\n",
              "      <td>2112.000000</td>\n",
              "      <td>2112.000000</td>\n",
              "      <td>2112.000000</td>\n",
              "      <td>2112.000000</td>\n",
              "      <td>2112.000000</td>\n",
              "      <td>2112.000000</td>\n",
              "      <td>...</td>\n",
              "      <td>2112.000000</td>\n",
              "      <td>2112.000000</td>\n",
              "      <td>2112.000000</td>\n",
              "      <td>2112.000000</td>\n",
              "      <td>2112.000000</td>\n",
              "      <td>2112.000000</td>\n",
              "      <td>2112.000000</td>\n",
              "      <td>2112.000000</td>\n",
              "      <td>2112.000000</td>\n",
              "      <td>2112.000000</td>\n",
              "    </tr>\n",
              "    <tr>\n",
              "      <th>mean</th>\n",
              "      <td>133.296875</td>\n",
              "      <td>2.733902</td>\n",
              "      <td>7.267992</td>\n",
              "      <td>3.678504</td>\n",
              "      <td>46.978693</td>\n",
              "      <td>1.335559</td>\n",
              "      <td>9.759943</td>\n",
              "      <td>8.169176</td>\n",
              "      <td>1.580492</td>\n",
              "      <td>0.003314</td>\n",
              "      <td>...</td>\n",
              "      <td>93.539299</td>\n",
              "      <td>164.105587</td>\n",
              "      <td>4.078598</td>\n",
              "      <td>0.325758</td>\n",
              "      <td>137.448390</td>\n",
              "      <td>134.592803</td>\n",
              "      <td>138.083333</td>\n",
              "      <td>18.916193</td>\n",
              "      <td>0.318655</td>\n",
              "      <td>1.303030</td>\n",
              "    </tr>\n",
              "    <tr>\n",
              "      <th>std</th>\n",
              "      <td>9.833066</td>\n",
              "      <td>3.567741</td>\n",
              "      <td>37.244378</td>\n",
              "      <td>2.844685</td>\n",
              "      <td>17.167716</td>\n",
              "      <td>0.884232</td>\n",
              "      <td>18.270136</td>\n",
              "      <td>5.633034</td>\n",
              "      <td>2.504219</td>\n",
              "      <td>0.057489</td>\n",
              "      <td>...</td>\n",
              "      <td>29.546379</td>\n",
              "      <td>17.947492</td>\n",
              "      <td>2.951603</td>\n",
              "      <td>0.707903</td>\n",
              "      <td>16.403636</td>\n",
              "      <td>15.610971</td>\n",
              "      <td>14.479658</td>\n",
              "      <td>29.042726</td>\n",
              "      <td>0.611180</td>\n",
              "      <td>0.613314</td>\n",
              "    </tr>\n",
              "    <tr>\n",
              "      <th>min</th>\n",
              "      <td>106.000000</td>\n",
              "      <td>0.000000</td>\n",
              "      <td>0.000000</td>\n",
              "      <td>0.000000</td>\n",
              "      <td>12.000000</td>\n",
              "      <td>0.200000</td>\n",
              "      <td>0.000000</td>\n",
              "      <td>0.000000</td>\n",
              "      <td>0.000000</td>\n",
              "      <td>0.000000</td>\n",
              "      <td>...</td>\n",
              "      <td>50.000000</td>\n",
              "      <td>122.000000</td>\n",
              "      <td>0.000000</td>\n",
              "      <td>0.000000</td>\n",
              "      <td>60.000000</td>\n",
              "      <td>73.000000</td>\n",
              "      <td>77.000000</td>\n",
              "      <td>0.000000</td>\n",
              "      <td>-1.000000</td>\n",
              "      <td>1.000000</td>\n",
              "    </tr>\n",
              "    <tr>\n",
              "      <th>25%</th>\n",
              "      <td>126.000000</td>\n",
              "      <td>0.000000</td>\n",
              "      <td>0.000000</td>\n",
              "      <td>1.000000</td>\n",
              "      <td>32.000000</td>\n",
              "      <td>0.700000</td>\n",
              "      <td>0.000000</td>\n",
              "      <td>4.600000</td>\n",
              "      <td>0.000000</td>\n",
              "      <td>0.000000</td>\n",
              "      <td>...</td>\n",
              "      <td>67.000000</td>\n",
              "      <td>152.000000</td>\n",
              "      <td>2.000000</td>\n",
              "      <td>0.000000</td>\n",
              "      <td>129.000000</td>\n",
              "      <td>125.000000</td>\n",
              "      <td>129.000000</td>\n",
              "      <td>2.000000</td>\n",
              "      <td>0.000000</td>\n",
              "      <td>1.000000</td>\n",
              "    </tr>\n",
              "    <tr>\n",
              "      <th>50%</th>\n",
              "      <td>133.000000</td>\n",
              "      <td>1.000000</td>\n",
              "      <td>0.000000</td>\n",
              "      <td>3.000000</td>\n",
              "      <td>49.000000</td>\n",
              "      <td>1.200000</td>\n",
              "      <td>0.000000</td>\n",
              "      <td>7.400000</td>\n",
              "      <td>0.000000</td>\n",
              "      <td>0.000000</td>\n",
              "      <td>...</td>\n",
              "      <td>93.000000</td>\n",
              "      <td>162.000000</td>\n",
              "      <td>4.000000</td>\n",
              "      <td>0.000000</td>\n",
              "      <td>139.000000</td>\n",
              "      <td>136.000000</td>\n",
              "      <td>139.000000</td>\n",
              "      <td>7.000000</td>\n",
              "      <td>0.000000</td>\n",
              "      <td>1.000000</td>\n",
              "    </tr>\n",
              "    <tr>\n",
              "      <th>75%</th>\n",
              "      <td>140.000000</td>\n",
              "      <td>4.000000</td>\n",
              "      <td>2.000000</td>\n",
              "      <td>5.000000</td>\n",
              "      <td>61.000000</td>\n",
              "      <td>1.700000</td>\n",
              "      <td>11.000000</td>\n",
              "      <td>10.800000</td>\n",
              "      <td>3.000000</td>\n",
              "      <td>0.000000</td>\n",
              "      <td>...</td>\n",
              "      <td>120.000000</td>\n",
              "      <td>174.000000</td>\n",
              "      <td>6.000000</td>\n",
              "      <td>0.000000</td>\n",
              "      <td>148.000000</td>\n",
              "      <td>145.000000</td>\n",
              "      <td>148.000000</td>\n",
              "      <td>24.000000</td>\n",
              "      <td>1.000000</td>\n",
              "      <td>1.000000</td>\n",
              "    </tr>\n",
              "    <tr>\n",
              "      <th>max</th>\n",
              "      <td>160.000000</td>\n",
              "      <td>26.000000</td>\n",
              "      <td>564.000000</td>\n",
              "      <td>23.000000</td>\n",
              "      <td>87.000000</td>\n",
              "      <td>7.000000</td>\n",
              "      <td>91.000000</td>\n",
              "      <td>50.700000</td>\n",
              "      <td>16.000000</td>\n",
              "      <td>1.000000</td>\n",
              "      <td>...</td>\n",
              "      <td>159.000000</td>\n",
              "      <td>238.000000</td>\n",
              "      <td>18.000000</td>\n",
              "      <td>10.000000</td>\n",
              "      <td>187.000000</td>\n",
              "      <td>182.000000</td>\n",
              "      <td>186.000000</td>\n",
              "      <td>269.000000</td>\n",
              "      <td>1.000000</td>\n",
              "      <td>3.000000</td>\n",
              "    </tr>\n",
              "  </tbody>\n",
              "</table>\n",
              "<p>8 rows × 22 columns</p>\n",
              "</div>\n",
              "      <button class=\"colab-df-convert\" onclick=\"convertToInteractive('df-a2694fa9-d6e2-48a8-a850-f0a127a17531')\"\n",
              "              title=\"Convert this dataframe to an interactive table.\"\n",
              "              style=\"display:none;\">\n",
              "        \n",
              "  <svg xmlns=\"http://www.w3.org/2000/svg\" height=\"24px\"viewBox=\"0 0 24 24\"\n",
              "       width=\"24px\">\n",
              "    <path d=\"M0 0h24v24H0V0z\" fill=\"none\"/>\n",
              "    <path d=\"M18.56 5.44l.94 2.06.94-2.06 2.06-.94-2.06-.94-.94-2.06-.94 2.06-2.06.94zm-11 1L8.5 8.5l.94-2.06 2.06-.94-2.06-.94L8.5 2.5l-.94 2.06-2.06.94zm10 10l.94 2.06.94-2.06 2.06-.94-2.06-.94-.94-2.06-.94 2.06-2.06.94z\"/><path d=\"M17.41 7.96l-1.37-1.37c-.4-.4-.92-.59-1.43-.59-.52 0-1.04.2-1.43.59L10.3 9.45l-7.72 7.72c-.78.78-.78 2.05 0 2.83L4 21.41c.39.39.9.59 1.41.59.51 0 1.02-.2 1.41-.59l7.78-7.78 2.81-2.81c.8-.78.8-2.07 0-2.86zM5.41 20L4 18.59l7.72-7.72 1.47 1.35L5.41 20z\"/>\n",
              "  </svg>\n",
              "      </button>\n",
              "      \n",
              "  <style>\n",
              "    .colab-df-container {\n",
              "      display:flex;\n",
              "      flex-wrap:wrap;\n",
              "      gap: 12px;\n",
              "    }\n",
              "\n",
              "    .colab-df-convert {\n",
              "      background-color: #E8F0FE;\n",
              "      border: none;\n",
              "      border-radius: 50%;\n",
              "      cursor: pointer;\n",
              "      display: none;\n",
              "      fill: #1967D2;\n",
              "      height: 32px;\n",
              "      padding: 0 0 0 0;\n",
              "      width: 32px;\n",
              "    }\n",
              "\n",
              "    .colab-df-convert:hover {\n",
              "      background-color: #E2EBFA;\n",
              "      box-shadow: 0px 1px 2px rgba(60, 64, 67, 0.3), 0px 1px 3px 1px rgba(60, 64, 67, 0.15);\n",
              "      fill: #174EA6;\n",
              "    }\n",
              "\n",
              "    [theme=dark] .colab-df-convert {\n",
              "      background-color: #3B4455;\n",
              "      fill: #D2E3FC;\n",
              "    }\n",
              "\n",
              "    [theme=dark] .colab-df-convert:hover {\n",
              "      background-color: #434B5C;\n",
              "      box-shadow: 0px 1px 3px 1px rgba(0, 0, 0, 0.15);\n",
              "      filter: drop-shadow(0px 1px 2px rgba(0, 0, 0, 0.3));\n",
              "      fill: #FFFFFF;\n",
              "    }\n",
              "  </style>\n",
              "\n",
              "      <script>\n",
              "        const buttonEl =\n",
              "          document.querySelector('#df-a2694fa9-d6e2-48a8-a850-f0a127a17531 button.colab-df-convert');\n",
              "        buttonEl.style.display =\n",
              "          google.colab.kernel.accessAllowed ? 'block' : 'none';\n",
              "\n",
              "        async function convertToInteractive(key) {\n",
              "          const element = document.querySelector('#df-a2694fa9-d6e2-48a8-a850-f0a127a17531');\n",
              "          const dataTable =\n",
              "            await google.colab.kernel.invokeFunction('convertToInteractive',\n",
              "                                                     [key], {});\n",
              "          if (!dataTable) return;\n",
              "\n",
              "          const docLinkHtml = 'Like what you see? Visit the ' +\n",
              "            '<a target=\"_blank\" href=https://colab.research.google.com/notebooks/data_table.ipynb>data table notebook</a>'\n",
              "            + ' to learn more about interactive tables.';\n",
              "          element.innerHTML = '';\n",
              "          dataTable['output_type'] = 'display_data';\n",
              "          await google.colab.output.renderOutput(dataTable, element);\n",
              "          const docLink = document.createElement('div');\n",
              "          docLink.innerHTML = docLinkHtml;\n",
              "          element.appendChild(docLink);\n",
              "        }\n",
              "      </script>\n",
              "    </div>\n",
              "  </div>\n",
              "  "
            ]
          },
          "metadata": {},
          "execution_count": 18
        }
      ],
      "source": [
        "cardio_df.describe(include = 'all')"
      ]
    },
    {
      "cell_type": "code",
      "execution_count": null,
      "metadata": {
        "id": "5m7LMTsqrO7v",
        "colab": {
          "base_uri": "https://localhost:8080/"
        },
        "outputId": "63c40495-3f5d-49a4-a057-860ca442f905"
      },
      "outputs": [
        {
          "output_type": "execute_result",
          "data": {
            "text/plain": [
              "Index(['LB', 'AC', 'FM', 'UC', 'ASTV', 'MSTV', 'ALTV', 'MLTV', 'DL', 'DS',\n",
              "       'DP', 'Width', 'Min', 'Max', 'Nmax', 'Nzeros', 'Mode', 'Mean', 'Median',\n",
              "       'Variance', 'Tendency', 'NSP'],\n",
              "      dtype='object')"
            ]
          },
          "metadata": {},
          "execution_count": 19
        }
      ],
      "source": [
        "cardio_df.columns"
      ]
    },
    {
      "cell_type": "code",
      "execution_count": null,
      "metadata": {
        "id": "YLeEWyDPrO7v",
        "colab": {
          "base_uri": "https://localhost:8080/",
          "height": 915
        },
        "outputId": "c2b467ab-3c71-46c7-9904-97bcd6b5629b"
      },
      "outputs": [
        {
          "output_type": "stream",
          "name": "stderr",
          "text": [
            "/usr/local/lib/python3.7/dist-packages/ipykernel_launcher.py:4: UserWarning: To output multiple subplots, the figure containing the passed axes is being cleared\n",
            "  after removing the cwd from sys.path.\n"
          ]
        },
        {
          "output_type": "display_data",
          "data": {
            "text/plain": [
              "<Figure size 1080x1080 with 25 Axes>"
            ],
            "image/png": "[encoded data removed]"
          },
          "metadata": {
            "needs_background": "light"
          }
        }
      ],
      "source": [
        "# Histogram for all features\n",
        "features = cardio_df.drop(columns=['NSP'])\n",
        "fig, ax = plt.subplots(1, 1, figsize=(15, 15))\n",
        "features.hist(ax=ax)\n",
        "plt.show()"
      ]
    },
    {
      "cell_type": "code",
      "execution_count": null,
      "metadata": {
        "id": "TAG747BHrO7v",
        "colab": {
          "base_uri": "https://localhost:8080/",
          "height": 622
        },
        "outputId": "8d7ef92b-bfdf-4474-c40c-ca43245e0a3f"
      },
      "outputs": [
        {
          "output_type": "display_data",
          "data": {
            "text/plain": [
              "<Figure size 720x720 with 1 Axes>"
            ],
            "image/png": "[encoded data removed]"
          },
          "metadata": {
            "needs_background": "light"
          }
        }
      ],
      "source": [
        "# Boxplots for feature distributions\n",
        "fig, ax = plt.subplots(figsize=(10, 10))\n",
        "outliers_plot = pd.DataFrame(scale(features), columns = features.columns)\n",
        "outliers_plot.boxplot(ax=ax, rot=45)\n",
        "plt.show()"
      ]
    },
    {
      "cell_type": "markdown",
      "metadata": {
        "id": "DWjtLJiarO7w"
      },
      "source": [
        "There are a few features that are more than 5 times deviated from the normal distribution, which the reasons are but not limited to:\n",
        "1. Measurement Error\n",
        "2. Sampling problems\n",
        "3. Instrument Error\n",
        "\n",
        ". If the outliers are errors, this can negatively impact the performance of our classifiers.\n",
        "\n",
        "Since the team has no sufficient information whether the outliers are due to errors, outliers treatment is not performed."
      ]
    },
    {
      "cell_type": "markdown",
      "metadata": {
        "id": "xl__0f2wrO7w"
      },
      "source": [
        "### Correlation of Features"
      ]
    },
    {
      "cell_type": "code",
      "execution_count": null,
      "metadata": {
        "id": "vBRODZDgrO7w",
        "colab": {
          "base_uri": "https://localhost:8080/",
          "height": 894
        },
        "outputId": "2f694da4-7b98-427a-d5c6-cafc3e294658"
      },
      "outputs": [
        {
          "output_type": "display_data",
          "data": {
            "text/plain": [
              "<Figure size 1440x1080 with 2 Axes>"
            ],
            "image/png": "[encoded data removed]"
          },
          "metadata": {
            "needs_background": "light"
          }
        }
      ],
      "source": [
        "# Feature correlation heatmap\n",
        "fig, ax = plt.subplots(1, 1, figsize=(20, 15))\n",
        "corr = cardio_df.corr()\n",
        "sns.heatmap(corr, mask = np.triu(corr), cmap = 'rainbow', annot=True, ax=ax)\n",
        "plt.xticks(rotation=45)\n",
        "plt.show()"
      ]
    },
    {
      "cell_type": "markdown",
      "metadata": {
        "id": "YBBO6I_orO7x"
      },
      "source": [
        "The map does not show any strong positive correlation between the features describing the NSP class. The significant positive correlation describing the NSP class on the map are:\n",
        "1. DP (# of prolongued decelerations per second)\n",
        "2. ASTV (percentage of time with abnormal short term variability)\n",
        "3. ALTV value (percentage of time with abnormal long term variability).\n",
        "\n",
        "These 3 columns should be paid attention during feature selection."
      ]
    },
    {
      "cell_type": "markdown",
      "metadata": {
        "id": "iuYA_pM9rO7x"
      },
      "source": [
        "## Feature Selection"
      ]
    },
    {
      "cell_type": "markdown",
      "metadata": {
        "id": "HILqHzFirO7x"
      },
      "source": [
        "#### Splitting training and testing set"
      ]
    },
    {
      "cell_type": "code",
      "execution_count": null,
      "metadata": {
        "id": "CsAo8RNurO7x"
      },
      "outputs": [],
      "source": [
        "X = cardio_df.drop(columns = ['NSP'])\n",
        "y = cardio_df['NSP']"
      ]
    },
    {
      "cell_type": "code",
      "execution_count": null,
      "metadata": {
        "id": "VsfWl7P4rO7y",
        "colab": {
          "base_uri": "https://localhost:8080/"
        },
        "outputId": "c7140fcf-cb55-4fa3-abc6-21de524c57c9"
      },
      "outputs": [
        {
          "output_type": "execute_result",
          "data": {
            "text/plain": [
              "Index(['LB', 'AC', 'FM', 'UC', 'ASTV', 'MSTV', 'ALTV', 'MLTV', 'DL', 'DS',\n",
              "       'DP', 'Width', 'Min', 'Max', 'Nmax', 'Nzeros', 'Mode', 'Mean', 'Median',\n",
              "       'Variance', 'Tendency'],\n",
              "      dtype='object')"
            ]
          },
          "metadata": {},
          "execution_count": 20
        }
      ],
      "source": [
        "# Get feature names\n",
        "features = X.columns\n",
        "features"
      ]
    },
    {
      "cell_type": "code",
      "execution_count": null,
      "metadata": {
        "id": "u7QbS8wyrO7y",
        "colab": {
          "base_uri": "https://localhost:8080/"
        },
        "outputId": "2b63bc7a-908b-47c0-8a84-1ca714e2b184"
      },
      "outputs": [
        {
          "output_type": "stream",
          "name": "stdout",
          "text": [
            "X train size :  (1900, 21)\n",
            "y train size :  (1900,)\n",
            "X test size :  (212, 21)\n",
            "y test size :  (212,)\n"
          ]
        }
      ],
      "source": [
        "X_train, X_test, y_train, y_test = train_test_split(X, y, test_size=0.1, random_state=101, stratify=y)\n",
        "\n",
        "print('X train size : ', X_train.shape)\n",
        "print('y train size : ', y_train.shape)\n",
        "print('X test size : ', X_test.shape)\n",
        "print('y test size : ', y_test.shape)"
      ]
    },
    {
      "cell_type": "code",
      "execution_count": null,
      "metadata": {
        "id": "UX0gaUE_rO7y"
      },
      "outputs": [],
      "source": [
        "# Feature Scaling\n",
        "scaler = StandardScaler()\n",
        "X_train = pd.DataFrame(scaler.fit_transform(X_train))\n",
        "X_test = pd.DataFrame(scaler.transform(X_test))"
      ]
    },
    {
      "cell_type": "code",
      "source": [
        "# Put back columns name\n",
        "X_train.columns = X.columns\n",
        "X_test.columns = X.columns"
      ],
      "metadata": {
        "id": "jz-HuUqKTBtL"
      },
      "execution_count": null,
      "outputs": []
    },
    {
      "cell_type": "markdown",
      "source": [
        "#### Feature Selection with Wrapper Method using Random Forest"
      ],
      "metadata": {
        "id": "THfgLFc0o3Wv"
      }
    },
    {
      "cell_type": "code",
      "source": [
        "seed = 42"
      ],
      "metadata": {
        "id": "tXOdy12aRv2Q"
      },
      "execution_count": null,
      "outputs": []
    },
    {
      "cell_type": "code",
      "source": [
        "random_forest = RandomForestClassifier(n_estimators=100, criterion='gini', max_depth=2,\n",
        "                                      min_samples_split=2, min_samples_leaf=1, min_weight_fraction_leaf=0.0, max_features='auto',\n",
        "                                      bootstrap=True, oob_score=False, n_jobs=-1, random_state=seed, class_weight='balanced')"
      ],
      "metadata": {
        "id": "WIDSgpAhTjnG"
      },
      "execution_count": null,
      "outputs": []
    },
    {
      "cell_type": "code",
      "source": [
        "rf_sbs = SFS(random_forest, \n",
        "            k_features='best', forward=False, \n",
        "            floating=False, verbose=2, scoring='accuracy', cv = 5)"
      ],
      "metadata": {
        "id": "Olo1_MLuTrL8"
      },
      "execution_count": null,
      "outputs": []
    },
    {
      "cell_type": "code",
      "source": [
        "rf_sbs.fit(X_train, y_train, custom_feature_names = features)"
      ],
      "metadata": {
        "id": "uuCNuDgZUIhN",
        "colab": {
          "base_uri": "https://localhost:8080/"
        },
        "outputId": "87a852ca-5b0d-433c-f800-23b0dd086e8b"
      },
      "execution_count": null,
      "outputs": [
        {
          "output_type": "stream",
          "name": "stderr",
          "text": [
            "[Parallel(n_jobs=1)]: Using backend SequentialBackend with 1 concurrent workers.\n",
            "[Parallel(n_jobs=1)]: Done   1 out of   1 | elapsed:    1.9s remaining:    0.0s\n",
            "[Parallel(n_jobs=1)]: Done  21 out of  21 | elapsed:   41.2s finished\n",
            "\n",
            "[2022-07-17 03:17:28] Features: 20/1 -- score: 0.8521052631578947[Parallel(n_jobs=1)]: Using backend SequentialBackend with 1 concurrent workers.\n",
            "[Parallel(n_jobs=1)]: Done   1 out of   1 | elapsed:    2.3s remaining:    0.0s\n",
            "[Parallel(n_jobs=1)]: Done  20 out of  20 | elapsed:   40.6s finished\n",
            "\n",
            "[2022-07-17 03:18:09] Features: 19/1 -- score: 0.8542105263157895[Parallel(n_jobs=1)]: Using backend SequentialBackend with 1 concurrent workers.\n",
            "[Parallel(n_jobs=1)]: Done   1 out of   1 | elapsed:    1.9s remaining:    0.0s\n",
            "[Parallel(n_jobs=1)]: Done  19 out of  19 | elapsed:   38.2s finished\n",
            "\n",
            "[2022-07-17 03:18:47] Features: 18/1 -- score: 0.8642105263157894[Parallel(n_jobs=1)]: Using backend SequentialBackend with 1 concurrent workers.\n",
            "[Parallel(n_jobs=1)]: Done   1 out of   1 | elapsed:    2.0s remaining:    0.0s\n",
            "[Parallel(n_jobs=1)]: Done  18 out of  18 | elapsed:   35.9s finished\n",
            "\n",
            "[2022-07-17 03:19:23] Features: 17/1 -- score: 0.8731578947368421[Parallel(n_jobs=1)]: Using backend SequentialBackend with 1 concurrent workers.\n",
            "[Parallel(n_jobs=1)]: Done   1 out of   1 | elapsed:    2.0s remaining:    0.0s\n",
            "[Parallel(n_jobs=1)]: Done  17 out of  17 | elapsed:   32.9s finished\n",
            "\n",
            "[2022-07-17 03:19:56] Features: 16/1 -- score: 0.8657894736842104[Parallel(n_jobs=1)]: Using backend SequentialBackend with 1 concurrent workers.\n",
            "[Parallel(n_jobs=1)]: Done   1 out of   1 | elapsed:    2.0s remaining:    0.0s\n",
            "[Parallel(n_jobs=1)]: Done  16 out of  16 | elapsed:   31.5s finished\n",
            "\n",
            "[2022-07-17 03:20:27] Features: 15/1 -- score: 0.8636842105263158[Parallel(n_jobs=1)]: Using backend SequentialBackend with 1 concurrent workers.\n",
            "[Parallel(n_jobs=1)]: Done   1 out of   1 | elapsed:    1.9s remaining:    0.0s\n",
            "[Parallel(n_jobs=1)]: Done  15 out of  15 | elapsed:   28.1s finished\n",
            "\n",
            "[2022-07-17 03:20:55] Features: 14/1 -- score: 0.8673684210526316[Parallel(n_jobs=1)]: Using backend SequentialBackend with 1 concurrent workers.\n",
            "[Parallel(n_jobs=1)]: Done   1 out of   1 | elapsed:    1.8s remaining:    0.0s\n",
            "[Parallel(n_jobs=1)]: Done  14 out of  14 | elapsed:   26.6s finished\n",
            "\n",
            "[2022-07-17 03:21:22] Features: 13/1 -- score: 0.868421052631579[Parallel(n_jobs=1)]: Using backend SequentialBackend with 1 concurrent workers.\n",
            "[Parallel(n_jobs=1)]: Done   1 out of   1 | elapsed:    1.9s remaining:    0.0s\n",
            "[Parallel(n_jobs=1)]: Done  13 out of  13 | elapsed:   27.9s finished\n",
            "\n",
            "[2022-07-17 03:21:50] Features: 12/1 -- score: 0.8647368421052631[Parallel(n_jobs=1)]: Using backend SequentialBackend with 1 concurrent workers.\n",
            "[Parallel(n_jobs=1)]: Done   1 out of   1 | elapsed:    1.9s remaining:    0.0s\n",
            "[Parallel(n_jobs=1)]: Done  12 out of  12 | elapsed:   22.3s finished\n",
            "\n",
            "[2022-07-17 03:22:12] Features: 11/1 -- score: 0.8563157894736841[Parallel(n_jobs=1)]: Using backend SequentialBackend with 1 concurrent workers.\n",
            "[Parallel(n_jobs=1)]: Done   1 out of   1 | elapsed:    2.0s remaining:    0.0s\n",
            "[Parallel(n_jobs=1)]: Done  11 out of  11 | elapsed:   21.4s finished\n",
            "\n",
            "[2022-07-17 03:22:33] Features: 10/1 -- score: 0.8626315789473684[Parallel(n_jobs=1)]: Using backend SequentialBackend with 1 concurrent workers.\n",
            "[Parallel(n_jobs=1)]: Done   1 out of   1 | elapsed:    1.9s remaining:    0.0s\n",
            "[Parallel(n_jobs=1)]: Done  10 out of  10 | elapsed:   20.3s finished\n",
            "\n",
            "[2022-07-17 03:22:54] Features: 9/1 -- score: 0.8426315789473684[Parallel(n_jobs=1)]: Using backend SequentialBackend with 1 concurrent workers.\n",
            "[Parallel(n_jobs=1)]: Done   1 out of   1 | elapsed:    1.9s remaining:    0.0s\n",
            "[Parallel(n_jobs=1)]: Done   9 out of   9 | elapsed:   16.7s finished\n",
            "\n",
            "[2022-07-17 03:23:11] Features: 8/1 -- score: 0.8457894736842105[Parallel(n_jobs=1)]: Using backend SequentialBackend with 1 concurrent workers.\n",
            "[Parallel(n_jobs=1)]: Done   1 out of   1 | elapsed:    1.9s remaining:    0.0s\n",
            "[Parallel(n_jobs=1)]: Done   8 out of   8 | elapsed:   16.1s finished\n",
            "\n",
            "[2022-07-17 03:23:27] Features: 7/1 -- score: 0.8410526315789474[Parallel(n_jobs=1)]: Using backend SequentialBackend with 1 concurrent workers.\n",
            "[Parallel(n_jobs=1)]: Done   1 out of   1 | elapsed:    1.9s remaining:    0.0s\n",
            "[Parallel(n_jobs=1)]: Done   7 out of   7 | elapsed:   13.1s finished\n",
            "\n",
            "[2022-07-17 03:23:40] Features: 6/1 -- score: 0.8426315789473685[Parallel(n_jobs=1)]: Using backend SequentialBackend with 1 concurrent workers.\n",
            "[Parallel(n_jobs=1)]: Done   1 out of   1 | elapsed:    1.8s remaining:    0.0s\n",
            "[Parallel(n_jobs=1)]: Done   6 out of   6 | elapsed:   11.0s finished\n",
            "\n",
            "[2022-07-17 03:23:51] Features: 5/1 -- score: 0.8494736842105264[Parallel(n_jobs=1)]: Using backend SequentialBackend with 1 concurrent workers.\n",
            "[Parallel(n_jobs=1)]: Done   1 out of   1 | elapsed:    1.8s remaining:    0.0s\n",
            "[Parallel(n_jobs=1)]: Done   5 out of   5 | elapsed:    9.3s finished\n",
            "\n",
            "[2022-07-17 03:24:00] Features: 4/1 -- score: 0.8352631578947367[Parallel(n_jobs=1)]: Using backend SequentialBackend with 1 concurrent workers.\n",
            "[Parallel(n_jobs=1)]: Done   1 out of   1 | elapsed:    2.0s remaining:    0.0s\n",
            "[Parallel(n_jobs=1)]: Done   4 out of   4 | elapsed:    8.2s finished\n",
            "\n",
            "[2022-07-17 03:24:08] Features: 3/1 -- score: 0.8373684210526318[Parallel(n_jobs=1)]: Using backend SequentialBackend with 1 concurrent workers.\n",
            "[Parallel(n_jobs=1)]: Done   1 out of   1 | elapsed:    1.8s remaining:    0.0s\n",
            "[Parallel(n_jobs=1)]: Done   3 out of   3 | elapsed:    5.5s finished\n",
            "\n",
            "[2022-07-17 03:24:14] Features: 2/1 -- score: 0.8426315789473684[Parallel(n_jobs=1)]: Using backend SequentialBackend with 1 concurrent workers.\n",
            "[Parallel(n_jobs=1)]: Done   1 out of   1 | elapsed:    1.8s remaining:    0.0s\n",
            "[Parallel(n_jobs=1)]: Done   2 out of   2 | elapsed:    3.7s finished\n",
            "\n",
            "[2022-07-17 03:24:17] Features: 1/1 -- score: 0.6373684210526316"
          ]
        },
        {
          "output_type": "execute_result",
          "data": {
            "text/plain": [
              "SequentialFeatureSelector(estimator=RandomForestClassifier(class_weight='balanced',\n",
              "                                                           max_depth=2,\n",
              "                                                           n_jobs=-1,\n",
              "                                                           random_state=42),\n",
              "                          forward=False, k_features='best', scoring='accuracy',\n",
              "                          verbose=2)"
            ]
          },
          "metadata": {},
          "execution_count": 27
        }
      ]
    },
    {
      "cell_type": "code",
      "source": [
        "figl = plot_sfs(rf_sbs.get_metric_dict(confidence_interval=0.95), kind='std_err')\n",
        "\n",
        "plt.title('Random Forest Sequential Backward Selection')\n",
        "plt.show()"
      ],
      "metadata": {
        "id": "FcDTC7FPUNWF",
        "colab": {
          "base_uri": "https://localhost:8080/",
          "height": 295
        },
        "outputId": "84ee6727-4cbc-4596-daf3-1da5910fe3d3"
      },
      "execution_count": null,
      "outputs": [
        {
          "output_type": "display_data",
          "data": {
            "text/plain": [
              "<Figure size 432x288 with 1 Axes>"
            ],
            "image/png": "[encoded data removed]"
          },
          "metadata": {
            "needs_background": "light"
          }
        }
      ]
    },
    {
      "cell_type": "code",
      "source": [
        "sbs_summary = pd.DataFrame.from_dict(rf_sbs.get_metric_dict()).T\n",
        "print(sbs_summary[[\"feature_idx\", \"avg_score\"]].sort_values(by='avg_score', ascending=False))"
      ],
      "metadata": {
        "id": "IXRUWPlAUP-0",
        "colab": {
          "base_uri": "https://localhost:8080/"
        },
        "outputId": "ed600327-fb4c-438a-c4c1-3f66c2133e4b"
      },
      "execution_count": null,
      "outputs": [
        {
          "output_type": "stream",
          "name": "stdout",
          "text": [
            "                                          feature_idx avg_score\n",
            "17  (0, 2, 3, 4, 5, 6, 8, 9, 10, 11, 12, 14, 15, 1...  0.873158\n",
            "13    (0, 4, 5, 6, 8, 10, 11, 12, 14, 16, 17, 19, 20)  0.868421\n",
            "14  (0, 4, 5, 6, 8, 10, 11, 12, 14, 15, 16, 17, 19...  0.867368\n",
            "16  (0, 3, 4, 5, 6, 8, 9, 10, 11, 12, 14, 15, 16, ...  0.865789\n",
            "12        (0, 4, 5, 6, 8, 10, 11, 12, 14, 16, 17, 19)  0.864737\n",
            "18  (0, 2, 3, 4, 5, 6, 8, 9, 10, 11, 12, 13, 14, 1...  0.864211\n",
            "15  (0, 3, 4, 5, 6, 8, 10, 11, 12, 14, 15, 16, 17,...  0.863684\n",
            "10               (0, 4, 5, 8, 10, 11, 12, 14, 17, 19)  0.862632\n",
            "11           (0, 4, 5, 8, 10, 11, 12, 14, 16, 17, 19)  0.856316\n",
            "19  (0, 1, 2, 3, 4, 5, 6, 8, 9, 10, 11, 12, 13, 14...  0.854211\n",
            "20  (0, 1, 2, 3, 4, 5, 6, 7, 8, 9, 10, 11, 12, 13,...  0.852105\n",
            "5                                  (4, 5, 14, 17, 19)  0.849474\n",
            "8                      (4, 5, 10, 11, 12, 14, 17, 19)  0.845789\n",
            "6                              (4, 5, 11, 14, 17, 19)  0.842632\n",
            "2                                             (5, 17)  0.842632\n",
            "9                   (4, 5, 8, 10, 11, 12, 14, 17, 19)  0.842632\n",
            "7                          (4, 5, 10, 11, 14, 17, 19)  0.841053\n",
            "21  (0, 1, 2, 3, 4, 5, 6, 7, 8, 9, 10, 11, 12, 13,...  0.840526\n",
            "3                                         (5, 14, 17)  0.837368\n",
            "4                                     (5, 14, 17, 19)  0.835263\n",
            "1                                                (5,)  0.637368\n"
          ]
        }
      ]
    },
    {
      "cell_type": "code",
      "source": [
        "# Indices of the best features\n",
        "rf_sbs.k_feature_names_, rf_sbs.k_feature_idx_"
      ],
      "metadata": {
        "id": "eBe8x08aUeZO",
        "colab": {
          "base_uri": "https://localhost:8080/"
        },
        "outputId": "b591ed04-454c-4709-f264-653ddf01ea38"
      },
      "execution_count": null,
      "outputs": [
        {
          "output_type": "execute_result",
          "data": {
            "text/plain": [
              "(('LB',\n",
              "  'FM',\n",
              "  'UC',\n",
              "  'ASTV',\n",
              "  'MSTV',\n",
              "  'ALTV',\n",
              "  'DL',\n",
              "  'DS',\n",
              "  'DP',\n",
              "  'Width',\n",
              "  'Min',\n",
              "  'Nmax',\n",
              "  'Nzeros',\n",
              "  'Mode',\n",
              "  'Mean',\n",
              "  'Variance',\n",
              "  'Tendency'),\n",
              " (0, 2, 3, 4, 5, 6, 8, 9, 10, 11, 12, 14, 15, 16, 17, 19, 20))"
            ]
          },
          "metadata": {},
          "execution_count": 34
        }
      ]
    },
    {
      "cell_type": "markdown",
      "source": [
        "#### Training and Testing set after feature selection"
      ],
      "metadata": {
        "id": "i9yqjlSkUx_9"
      }
    },
    {
      "cell_type": "code",
      "source": [
        "X_train_featured = X_train.iloc[:,np.array(rf_sbs.k_feature_idx_)]\n",
        "X_test_featured = X_test.iloc[:,np.array(rf_sbs.k_feature_idx_)]"
      ],
      "metadata": {
        "id": "oJIq6XXYUqBS"
      },
      "execution_count": null,
      "outputs": []
    },
    {
      "cell_type": "markdown",
      "source": [
        "## Model Training and Confusion Matrix Report"
      ],
      "metadata": {
        "id": "PXGNzRFVWqgX"
      }
    },
    {
      "cell_type": "code",
      "source": [
        "print('X train size : ', X_train_featured.shape)\n",
        "print('y train size : ', y_train.shape)\n",
        "print('X test size : ', X_test_featured.shape)\n",
        "print('y test size : ', y_test.shape)"
      ],
      "metadata": {
        "id": "OIJHdOZCW-lx",
        "colab": {
          "base_uri": "https://localhost:8080/"
        },
        "outputId": "7aad645a-69f1-4dd3-c8a1-19614e3f3ac3"
      },
      "execution_count": null,
      "outputs": [
        {
          "output_type": "stream",
          "name": "stdout",
          "text": [
            "X train size :  (1900, 17)\n",
            "y train size :  (1900,)\n",
            "X test size :  (212, 17)\n",
            "y test size :  (212,)\n"
          ]
        }
      ]
    },
    {
      "cell_type": "markdown",
      "metadata": {
        "id": "OVkc1cGKrO7z"
      },
      "source": [
        "### Confusion Matrix Report Function"
      ]
    },
    {
      "cell_type": "code",
      "source": [
        "def cof_mat(cf_matrix, model):\n",
        "  group_counts = [\"{0:0.0f}\".format(value) for value in\n",
        "                cf_matrix.flatten()]\n",
        "\n",
        "  group_percentages = [\"{0:.2%}\".format(value) for value in\n",
        "                      cf_matrix.flatten()/np.sum(cf_matrix)]\n",
        "\n",
        "  labels = [f\"{v1}\\n{v2}\\n\" for v1, v2 in\n",
        "            zip(group_counts,group_percentages)]\n",
        "\n",
        "  labels = np.asarray(labels).reshape(3,3)\n",
        "\n",
        "  ax = sns.heatmap(cf_matrix, annot=labels, fmt='', cmap='Blues')\n",
        "\n",
        "  ax.set_title(model + ' Model Confusion Matrix\\n\\n');\n",
        "  ax.set_xlabel('\\nPredicted Category')\n",
        "  ax.set_ylabel('Actual Category');\n",
        "\n",
        "  ## Ticket labels - List must be in alphabetical order\n",
        "  ax.xaxis.set_ticklabels(['Normal','Suspect', 'Pathologic'])\n",
        "  ax.yaxis.set_ticklabels(['Normal','Suspect', 'Pathologic'])\n",
        "\n",
        "  ## Display the visualization of the Confusion Matrix.\n",
        "  plt.show()"
      ],
      "metadata": {
        "id": "eA-Rq6YuBvLd"
      },
      "execution_count": null,
      "outputs": []
    },
    {
      "cell_type": "markdown",
      "metadata": {
        "id": "OCiuj-plrO7y"
      },
      "source": [
        "### Artificial Neural Network (ANN)"
      ]
    },
    {
      "cell_type": "markdown",
      "source": [
        "#### Model Training"
      ],
      "metadata": {
        "id": "my99fWRIYfJg"
      }
    },
    {
      "cell_type": "markdown",
      "metadata": {
        "id": "0yYVHU07rO7z"
      },
      "source": [
        "A simple Artificial Neural Network of 4 layers (1 input, 1 output, and 2 hidden layers) is built. "
      ]
    },
    {
      "cell_type": "code",
      "source": [
        "tf.config.run_functions_eagerly(True)"
      ],
      "metadata": {
        "id": "TVUL4fqW8yKY"
      },
      "execution_count": null,
      "outputs": []
    },
    {
      "cell_type": "code",
      "source": [
        "ohe = OneHotEncoder()\n",
        "y_train_ann = ohe.fit_transform(np.array(y_train).reshape(-1, 1)).toarray()"
      ],
      "metadata": {
        "id": "mGtOMeca8rcz"
      },
      "execution_count": null,
      "outputs": []
    },
    {
      "cell_type": "markdown",
      "source": [
        "Number of hidden neurons in the hidden layer: `2/3 the size of the input layer + size of the output layer`.\n",
        "\n",
        "1. Size of input layer: number of columns of `X_train_featured`.\n",
        "2. Size of output layer: 3.\n",
        "\n",
        "Reference: [StackExchange](https://stats.stackexchange.com/questions/181/how-to-choose-the-number-of-hidden-layers-and-nodes-in-a-feedforward-neural-netw)"
      ],
      "metadata": {
        "id": "MuushaNjl4NL"
      }
    },
    {
      "cell_type": "code",
      "source": [
        "output_size = 3"
      ],
      "metadata": {
        "id": "4_YSWaQc0Pb_"
      },
      "execution_count": null,
      "outputs": []
    },
    {
      "cell_type": "code",
      "source": [
        "# Output dimension of each layer\n",
        "output_dim = int(np.ceil(X_train_featured.shape[1] * 2/3) + output_size)"
      ],
      "metadata": {
        "id": "pi7YY5G8lb80"
      },
      "execution_count": null,
      "outputs": []
    },
    {
      "cell_type": "code",
      "source": [
        "output_dim"
      ],
      "metadata": {
        "id": "nwnK_uOsp6u4",
        "colab": {
          "base_uri": "https://localhost:8080/"
        },
        "outputId": "f9b21ed5-42d0-4084-b62b-27c01a0b5355"
      },
      "execution_count": null,
      "outputs": [
        {
          "output_type": "execute_result",
          "data": {
            "text/plain": [
              "15"
            ]
          },
          "metadata": {},
          "execution_count": 42
        }
      ]
    },
    {
      "cell_type": "code",
      "execution_count": null,
      "metadata": {
        "id": "vDOlG20LrO7z"
      },
      "outputs": [],
      "source": [
        "# ANN model\n",
        "\n",
        "# Initializing the ANN\n",
        "ann_model = Sequential()\n",
        "\n",
        "# Adding the input layer and the first hidden layer\n",
        "ann_model.add(Dense(output_dim, activation = 'relu', input_dim = X_train_featured.shape[1]))\n",
        "\n",
        "# Adding the second hidden layer\n",
        "ann_model.add(Dense(output_dim, activation = 'relu'))\n",
        "\n",
        "# Adding the output layer\n",
        "ann_model.add(Dense(output_size, activation = 'softmax'))\n",
        "\n",
        "# Compiling the ANN\n",
        "ann_model.compile(optimizer = 'adam', loss = 'categorical_crossentropy', metrics = ['accuracy'])"
      ]
    },
    {
      "cell_type": "code",
      "source": [
        "ann_model.summary()"
      ],
      "metadata": {
        "id": "6zpXfXEvyl3c",
        "colab": {
          "base_uri": "https://localhost:8080/"
        },
        "outputId": "b30977e9-51a5-4f07-8d43-1ab0ad5d5e8a"
      },
      "execution_count": null,
      "outputs": [
        {
          "output_type": "stream",
          "name": "stdout",
          "text": [
            "Model: \"sequential\"\n",
            "_________________________________________________________________\n",
            " Layer (type)                Output Shape              Param #   \n",
            "=================================================================\n",
            " dense (Dense)               (None, 15)                270       \n",
            "                                                                 \n",
            " dense_1 (Dense)             (None, 15)                240       \n",
            "                                                                 \n",
            " dense_2 (Dense)             (None, 3)                 48        \n",
            "                                                                 \n",
            "=================================================================\n",
            "Total params: 558\n",
            "Trainable params: 558\n",
            "Non-trainable params: 0\n",
            "_________________________________________________________________\n"
          ]
        }
      ]
    },
    {
      "cell_type": "markdown",
      "source": [
        "In general: \n",
        "\n",
        "- Larger batch sizes result in faster progress in training, but don't always converge fast. Smaller batch sizes train slower, but can converge faster, so one can choose any batch_size depends on training time and RAM usage.\n",
        "\n",
        "- Models improve with more epochs of training, to a point. They'll start to plateau in accuracy as they converge.\n",
        "\n",
        "Note: We will test \n",
        "- `batch_size` with power of 2 from 32 to 64 and\n",
        "- `epochs` with 128 and 256,\n",
        "\n",
        "to maximise the usage of GPU processing and to find out the model with highest accuracy with differenct batch size and number of epoch.\n",
        "\n",
        "Reference: [Stackoverflow](https://stackoverflow.com/questions/35050753/how-big-should-batch-size-and-number-of-epochs-be-when-fitting-a-model)\n",
        "\n",
        "We will only test 2 values for both `batch_size` and `epochs` as recommended in the reference mentioned above because of time constrains."
      ],
      "metadata": {
        "id": "x5TOBr82Ey7U"
      }
    },
    {
      "cell_type": "code",
      "source": [
        "batches = [32, 64]\n",
        "epochs = [128, 256]"
      ],
      "metadata": {
        "id": "4Q1uttPIPSGX"
      },
      "execution_count": null,
      "outputs": []
    },
    {
      "cell_type": "code",
      "source": [
        "max_accuracy = float('-inf')\n",
        "\n",
        "for epoch in epochs:\n",
        "  for batch in batches:\n",
        "    ann_model.fit(X_train_featured, y_train_ann, batch_size = batch, epochs = epoch, validation_split = 0.1)  # Fitting the ANN to the Training set and Validation Set\n",
        "    y_pred = ann_model.predict(X_test_featured) # Predict output\n",
        "    y_pred_labels = [(np.argmax(label) + 1) for label in y_pred]  # Convert output to an array with correct input (1: Normal, 2: Suspect, 3: Pathologic) with y_test\n",
        "    accuracy = accuracy_score(y_test, y_pred_labels)  # Calculate accuracy score\n",
        "\n",
        "    # Find maximum accuracy \n",
        "    if accuracy > max_accuracy:\n",
        "      max_accuracy = accuracy\n",
        "      cf_matrix = confusion_matrix(y_test, y_pred_labels) # Generate confusion matrix\n",
        "      clf_report = classification_report(y_test, y_pred_labels) # Generate classification report\n",
        "      batch_size = batch\n",
        "      epoch_size = epoch"
      ],
      "metadata": {
        "id": "koBTUJc5P5oc",
        "colab": {
          "base_uri": "https://localhost:8080/"
        },
        "outputId": "7522177e-aec9-4b82-cba4-b4a61077fa67"
      },
      "execution_count": null,
      "outputs": [
        {
          "output_type": "stream",
          "name": "stdout",
          "text": [
            "Epoch 1/128\n"
          ]
        },
        {
          "output_type": "stream",
          "name": "stderr",
          "text": [
            "/usr/local/lib/python3.7/dist-packages/tensorflow/python/data/ops/structured_function.py:265: UserWarning: Even though the `tf.config.experimental_run_functions_eagerly` option is set, this option does not apply to tf.data functions. To force eager execution of tf.data functions, please use `tf.data.experimental.enable_debug_mode()`.\n",
            "  \"Even though the `tf.config.experimental_run_functions_eagerly` \"\n",
            "/usr/local/lib/python3.7/dist-packages/tensorflow/python/data/ops/structured_function.py:265: UserWarning: Even though the `tf.config.experimental_run_functions_eagerly` option is set, this option does not apply to tf.data functions. To force eager execution of tf.data functions, please use `tf.data.experimental.enable_debug_mode()`.\n",
            "  \"Even though the `tf.config.experimental_run_functions_eagerly` \"\n"
          ]
        },
        {
          "output_type": "stream",
          "name": "stdout",
          "text": [
            "54/54 [==============================] - 2s 20ms/step - loss: 1.1413 - accuracy: 0.3257 - val_loss: 0.9526 - val_accuracy: 0.6526\n",
            "Epoch 2/128\n",
            " 4/54 [=>............................] - ETA: 0s - loss: 0.9841 - accuracy: 0.6953"
          ]
        },
        {
          "output_type": "stream",
          "name": "stderr",
          "text": [
            "/usr/local/lib/python3.7/dist-packages/tensorflow/python/data/ops/structured_function.py:265: UserWarning: Even though the `tf.config.experimental_run_functions_eagerly` option is set, this option does not apply to tf.data functions. To force eager execution of tf.data functions, please use `tf.data.experimental.enable_debug_mode()`.\n",
            "  \"Even though the `tf.config.experimental_run_functions_eagerly` \"\n"
          ]
        },
        {
          "output_type": "stream",
          "name": "stdout",
          "text": [
            "54/54 [==============================] - 1s 19ms/step - loss: 0.8417 - accuracy: 0.7760 - val_loss: 0.7411 - val_accuracy: 0.8263\n",
            "Epoch 3/128\n",
            "54/54 [==============================] - 1s 19ms/step - loss: 0.6332 - accuracy: 0.8257 - val_loss: 0.5702 - val_accuracy: 0.8053\n",
            "Epoch 4/128\n",
            "54/54 [==============================] - 1s 24ms/step - loss: 0.4752 - accuracy: 0.8404 - val_loss: 0.4562 - val_accuracy: 0.8316\n",
            "Epoch 5/128\n",
            "54/54 [==============================] - 1s 26ms/step - loss: 0.3798 - accuracy: 0.8813 - val_loss: 0.3938 - val_accuracy: 0.8526\n",
            "Epoch 6/128\n",
            "54/54 [==============================] - 1s 19ms/step - loss: 0.3317 - accuracy: 0.8889 - val_loss: 0.3600 - val_accuracy: 0.8632\n",
            "Epoch 7/128\n",
            "54/54 [==============================] - 1s 18ms/step - loss: 0.3044 - accuracy: 0.8936 - val_loss: 0.3411 - val_accuracy: 0.8684\n",
            "Epoch 8/128\n",
            "54/54 [==============================] - 1s 18ms/step - loss: 0.2874 - accuracy: 0.9018 - val_loss: 0.3305 - val_accuracy: 0.8684\n",
            "Epoch 9/128\n",
            "54/54 [==============================] - 1s 18ms/step - loss: 0.2784 - accuracy: 0.8994 - val_loss: 0.3207 - val_accuracy: 0.8789\n",
            "Epoch 10/128\n",
            "54/54 [==============================] - 1s 19ms/step - loss: 0.2700 - accuracy: 0.8977 - val_loss: 0.3167 - val_accuracy: 0.8632\n",
            "Epoch 11/128\n",
            "54/54 [==============================] - 1s 19ms/step - loss: 0.2650 - accuracy: 0.8994 - val_loss: 0.3090 - val_accuracy: 0.8789\n",
            "Epoch 12/128\n",
            "54/54 [==============================] - 1s 19ms/step - loss: 0.2593 - accuracy: 0.9006 - val_loss: 0.3063 - val_accuracy: 0.8789\n",
            "Epoch 13/128\n",
            "54/54 [==============================] - 1s 18ms/step - loss: 0.2524 - accuracy: 0.9053 - val_loss: 0.3057 - val_accuracy: 0.8789\n",
            "Epoch 14/128\n",
            "54/54 [==============================] - 1s 18ms/step - loss: 0.2492 - accuracy: 0.9012 - val_loss: 0.3024 - val_accuracy: 0.8842\n",
            "Epoch 15/128\n",
            "54/54 [==============================] - 1s 18ms/step - loss: 0.2446 - accuracy: 0.9047 - val_loss: 0.3003 - val_accuracy: 0.8842\n",
            "Epoch 16/128\n",
            "54/54 [==============================] - 1s 18ms/step - loss: 0.2421 - accuracy: 0.9053 - val_loss: 0.2973 - val_accuracy: 0.8895\n",
            "Epoch 17/128\n",
            "54/54 [==============================] - 1s 19ms/step - loss: 0.2394 - accuracy: 0.9058 - val_loss: 0.2960 - val_accuracy: 0.8789\n",
            "Epoch 18/128\n",
            "54/54 [==============================] - 1s 18ms/step - loss: 0.2355 - accuracy: 0.9047 - val_loss: 0.2930 - val_accuracy: 0.8947\n",
            "Epoch 19/128\n",
            "54/54 [==============================] - 1s 18ms/step - loss: 0.2337 - accuracy: 0.9076 - val_loss: 0.2924 - val_accuracy: 0.8947\n",
            "Epoch 20/128\n",
            "54/54 [==============================] - 1s 19ms/step - loss: 0.2318 - accuracy: 0.9082 - val_loss: 0.2924 - val_accuracy: 0.8895\n",
            "Epoch 21/128\n",
            "54/54 [==============================] - 1s 19ms/step - loss: 0.2289 - accuracy: 0.9111 - val_loss: 0.2902 - val_accuracy: 0.9000\n",
            "Epoch 22/128\n",
            "54/54 [==============================] - 1s 18ms/step - loss: 0.2280 - accuracy: 0.9111 - val_loss: 0.2895 - val_accuracy: 0.8947\n",
            "Epoch 23/128\n",
            "54/54 [==============================] - 1s 18ms/step - loss: 0.2254 - accuracy: 0.9094 - val_loss: 0.2882 - val_accuracy: 0.9105\n",
            "Epoch 24/128\n",
            "54/54 [==============================] - 1s 18ms/step - loss: 0.2233 - accuracy: 0.9123 - val_loss: 0.2861 - val_accuracy: 0.8842\n",
            "Epoch 25/128\n",
            "54/54 [==============================] - 1s 21ms/step - loss: 0.2217 - accuracy: 0.9123 - val_loss: 0.2861 - val_accuracy: 0.8947\n",
            "Epoch 26/128\n",
            "54/54 [==============================] - 1s 18ms/step - loss: 0.2212 - accuracy: 0.9123 - val_loss: 0.2890 - val_accuracy: 0.8895\n",
            "Epoch 27/128\n",
            "54/54 [==============================] - 1s 18ms/step - loss: 0.2214 - accuracy: 0.9070 - val_loss: 0.2801 - val_accuracy: 0.9000\n",
            "Epoch 28/128\n",
            "54/54 [==============================] - 1s 18ms/step - loss: 0.2175 - accuracy: 0.9140 - val_loss: 0.2831 - val_accuracy: 0.8947\n",
            "Epoch 29/128\n",
            "54/54 [==============================] - 1s 17ms/step - loss: 0.2161 - accuracy: 0.9140 - val_loss: 0.2791 - val_accuracy: 0.8947\n",
            "Epoch 30/128\n",
            "54/54 [==============================] - 1s 18ms/step - loss: 0.2154 - accuracy: 0.9111 - val_loss: 0.2798 - val_accuracy: 0.9000\n",
            "Epoch 31/128\n",
            "54/54 [==============================] - 1s 18ms/step - loss: 0.2118 - accuracy: 0.9123 - val_loss: 0.2809 - val_accuracy: 0.9000\n",
            "Epoch 32/128\n",
            "54/54 [==============================] - 1s 18ms/step - loss: 0.2109 - accuracy: 0.9140 - val_loss: 0.2799 - val_accuracy: 0.8947\n",
            "Epoch 33/128\n",
            "54/54 [==============================] - 1s 19ms/step - loss: 0.2088 - accuracy: 0.9152 - val_loss: 0.2771 - val_accuracy: 0.9000\n",
            "Epoch 34/128\n",
            "54/54 [==============================] - 1s 19ms/step - loss: 0.2093 - accuracy: 0.9117 - val_loss: 0.2792 - val_accuracy: 0.8947\n",
            "Epoch 35/128\n",
            "54/54 [==============================] - 1s 18ms/step - loss: 0.2058 - accuracy: 0.9099 - val_loss: 0.2823 - val_accuracy: 0.8947\n",
            "Epoch 36/128\n",
            "54/54 [==============================] - 1s 19ms/step - loss: 0.2031 - accuracy: 0.9135 - val_loss: 0.2801 - val_accuracy: 0.8895\n",
            "Epoch 37/128\n",
            "54/54 [==============================] - 1s 18ms/step - loss: 0.2016 - accuracy: 0.9152 - val_loss: 0.2822 - val_accuracy: 0.8947\n",
            "Epoch 38/128\n",
            "54/54 [==============================] - 1s 18ms/step - loss: 0.1998 - accuracy: 0.9123 - val_loss: 0.2823 - val_accuracy: 0.8895\n",
            "Epoch 39/128\n",
            "54/54 [==============================] - 1s 19ms/step - loss: 0.1978 - accuracy: 0.9170 - val_loss: 0.2883 - val_accuracy: 0.8947\n",
            "Epoch 40/128\n",
            "54/54 [==============================] - 1s 18ms/step - loss: 0.1971 - accuracy: 0.9187 - val_loss: 0.2868 - val_accuracy: 0.8947\n",
            "Epoch 41/128\n",
            "54/54 [==============================] - 1s 18ms/step - loss: 0.1963 - accuracy: 0.9205 - val_loss: 0.2936 - val_accuracy: 0.9000\n",
            "Epoch 42/128\n",
            "54/54 [==============================] - 1s 18ms/step - loss: 0.1959 - accuracy: 0.9187 - val_loss: 0.2853 - val_accuracy: 0.8895\n",
            "Epoch 43/128\n",
            "54/54 [==============================] - 1s 18ms/step - loss: 0.1947 - accuracy: 0.9211 - val_loss: 0.2848 - val_accuracy: 0.8947\n",
            "Epoch 44/128\n",
            "54/54 [==============================] - 1s 18ms/step - loss: 0.1936 - accuracy: 0.9170 - val_loss: 0.2833 - val_accuracy: 0.8895\n",
            "Epoch 45/128\n",
            "54/54 [==============================] - 1s 19ms/step - loss: 0.1932 - accuracy: 0.9211 - val_loss: 0.2919 - val_accuracy: 0.9000\n",
            "Epoch 46/128\n",
            "54/54 [==============================] - 1s 18ms/step - loss: 0.1904 - accuracy: 0.9211 - val_loss: 0.2885 - val_accuracy: 0.8895\n",
            "Epoch 47/128\n",
            "54/54 [==============================] - 1s 18ms/step - loss: 0.1888 - accuracy: 0.9234 - val_loss: 0.2869 - val_accuracy: 0.8895\n",
            "Epoch 48/128\n",
            "54/54 [==============================] - 1s 18ms/step - loss: 0.1888 - accuracy: 0.9205 - val_loss: 0.2824 - val_accuracy: 0.8895\n",
            "Epoch 49/128\n",
            "54/54 [==============================] - 1s 20ms/step - loss: 0.1879 - accuracy: 0.9240 - val_loss: 0.2867 - val_accuracy: 0.8789\n",
            "Epoch 50/128\n",
            "54/54 [==============================] - 1s 19ms/step - loss: 0.1869 - accuracy: 0.9211 - val_loss: 0.2877 - val_accuracy: 0.8842\n",
            "Epoch 51/128\n",
            "54/54 [==============================] - 1s 18ms/step - loss: 0.1842 - accuracy: 0.9216 - val_loss: 0.2937 - val_accuracy: 0.8947\n",
            "Epoch 52/128\n",
            "54/54 [==============================] - 1s 18ms/step - loss: 0.1832 - accuracy: 0.9251 - val_loss: 0.2872 - val_accuracy: 0.8895\n",
            "Epoch 53/128\n",
            "54/54 [==============================] - 1s 20ms/step - loss: 0.1812 - accuracy: 0.9275 - val_loss: 0.2914 - val_accuracy: 0.8895\n",
            "Epoch 54/128\n",
            "54/54 [==============================] - 1s 19ms/step - loss: 0.1801 - accuracy: 0.9234 - val_loss: 0.2931 - val_accuracy: 0.9000\n",
            "Epoch 55/128\n",
            "54/54 [==============================] - 1s 19ms/step - loss: 0.1814 - accuracy: 0.9246 - val_loss: 0.2864 - val_accuracy: 0.8842\n",
            "Epoch 56/128\n",
            "54/54 [==============================] - 1s 18ms/step - loss: 0.1821 - accuracy: 0.9269 - val_loss: 0.2906 - val_accuracy: 0.8842\n",
            "Epoch 57/128\n",
            "54/54 [==============================] - 1s 18ms/step - loss: 0.1787 - accuracy: 0.9246 - val_loss: 0.2914 - val_accuracy: 0.8789\n",
            "Epoch 58/128\n",
            "54/54 [==============================] - 1s 21ms/step - loss: 0.1772 - accuracy: 0.9251 - val_loss: 0.2956 - val_accuracy: 0.8947\n",
            "Epoch 59/128\n",
            "54/54 [==============================] - 2s 44ms/step - loss: 0.1766 - accuracy: 0.9263 - val_loss: 0.2992 - val_accuracy: 0.8842\n",
            "Epoch 60/128\n",
            "54/54 [==============================] - 3s 50ms/step - loss: 0.1744 - accuracy: 0.9281 - val_loss: 0.2955 - val_accuracy: 0.8842\n",
            "Epoch 61/128\n",
            "54/54 [==============================] - 3s 51ms/step - loss: 0.1763 - accuracy: 0.9263 - val_loss: 0.3011 - val_accuracy: 0.8842\n",
            "Epoch 62/128\n",
            "54/54 [==============================] - 2s 38ms/step - loss: 0.1756 - accuracy: 0.9263 - val_loss: 0.3014 - val_accuracy: 0.9000\n",
            "Epoch 63/128\n",
            "54/54 [==============================] - 2s 33ms/step - loss: 0.1727 - accuracy: 0.9275 - val_loss: 0.2923 - val_accuracy: 0.8842\n",
            "Epoch 64/128\n",
            "54/54 [==============================] - 2s 43ms/step - loss: 0.1711 - accuracy: 0.9269 - val_loss: 0.3019 - val_accuracy: 0.8947\n",
            "Epoch 65/128\n",
            "54/54 [==============================] - 3s 58ms/step - loss: 0.1701 - accuracy: 0.9281 - val_loss: 0.3039 - val_accuracy: 0.8842\n",
            "Epoch 66/128\n",
            "54/54 [==============================] - 3s 52ms/step - loss: 0.1700 - accuracy: 0.9287 - val_loss: 0.2975 - val_accuracy: 0.8895\n",
            "Epoch 67/128\n",
            "54/54 [==============================] - 2s 44ms/step - loss: 0.1683 - accuracy: 0.9281 - val_loss: 0.2997 - val_accuracy: 0.8947\n",
            "Epoch 68/128\n",
            "54/54 [==============================] - 1s 26ms/step - loss: 0.1680 - accuracy: 0.9298 - val_loss: 0.2992 - val_accuracy: 0.8842\n",
            "Epoch 69/128\n",
            "54/54 [==============================] - 1s 24ms/step - loss: 0.1671 - accuracy: 0.9327 - val_loss: 0.3059 - val_accuracy: 0.8895\n",
            "Epoch 70/128\n",
            "54/54 [==============================] - 1s 26ms/step - loss: 0.1663 - accuracy: 0.9316 - val_loss: 0.3054 - val_accuracy: 0.8947\n",
            "Epoch 71/128\n",
            "54/54 [==============================] - 1s 20ms/step - loss: 0.1651 - accuracy: 0.9310 - val_loss: 0.3010 - val_accuracy: 0.8842\n",
            "Epoch 72/128\n",
            "54/54 [==============================] - 1s 18ms/step - loss: 0.1635 - accuracy: 0.9310 - val_loss: 0.3144 - val_accuracy: 0.8842\n",
            "Epoch 73/128\n",
            "54/54 [==============================] - 1s 18ms/step - loss: 0.1641 - accuracy: 0.9310 - val_loss: 0.3125 - val_accuracy: 0.8895\n",
            "Epoch 74/128\n",
            "54/54 [==============================] - 1s 19ms/step - loss: 0.1630 - accuracy: 0.9316 - val_loss: 0.3093 - val_accuracy: 0.8895\n",
            "Epoch 75/128\n",
            "54/54 [==============================] - 1s 18ms/step - loss: 0.1610 - accuracy: 0.9310 - val_loss: 0.3088 - val_accuracy: 0.8842\n",
            "Epoch 76/128\n",
            "54/54 [==============================] - 1s 18ms/step - loss: 0.1598 - accuracy: 0.9333 - val_loss: 0.3123 - val_accuracy: 0.8842\n",
            "Epoch 77/128\n",
            "54/54 [==============================] - 1s 19ms/step - loss: 0.1600 - accuracy: 0.9327 - val_loss: 0.3242 - val_accuracy: 0.8895\n",
            "Epoch 78/128\n",
            "54/54 [==============================] - 1s 20ms/step - loss: 0.1593 - accuracy: 0.9304 - val_loss: 0.3142 - val_accuracy: 0.8789\n",
            "Epoch 79/128\n",
            "54/54 [==============================] - 1s 21ms/step - loss: 0.1593 - accuracy: 0.9339 - val_loss: 0.3133 - val_accuracy: 0.8789\n",
            "Epoch 80/128\n",
            "54/54 [==============================] - 1s 19ms/step - loss: 0.1586 - accuracy: 0.9333 - val_loss: 0.3187 - val_accuracy: 0.8895\n",
            "Epoch 81/128\n",
            "54/54 [==============================] - 1s 18ms/step - loss: 0.1579 - accuracy: 0.9322 - val_loss: 0.3112 - val_accuracy: 0.8789\n",
            "Epoch 82/128\n",
            "54/54 [==============================] - 1s 18ms/step - loss: 0.1569 - accuracy: 0.9351 - val_loss: 0.3213 - val_accuracy: 0.8737\n",
            "Epoch 83/128\n",
            "54/54 [==============================] - 1s 18ms/step - loss: 0.1583 - accuracy: 0.9333 - val_loss: 0.3222 - val_accuracy: 0.8842\n",
            "Epoch 84/128\n",
            "54/54 [==============================] - 1s 18ms/step - loss: 0.1556 - accuracy: 0.9392 - val_loss: 0.3199 - val_accuracy: 0.8789\n",
            "Epoch 85/128\n",
            "54/54 [==============================] - 1s 19ms/step - loss: 0.1546 - accuracy: 0.9345 - val_loss: 0.3219 - val_accuracy: 0.8789\n",
            "Epoch 86/128\n",
            "54/54 [==============================] - 1s 20ms/step - loss: 0.1531 - accuracy: 0.9380 - val_loss: 0.3156 - val_accuracy: 0.8842\n",
            "Epoch 87/128\n",
            "54/54 [==============================] - 1s 19ms/step - loss: 0.1531 - accuracy: 0.9357 - val_loss: 0.3168 - val_accuracy: 0.8789\n",
            "Epoch 88/128\n",
            "54/54 [==============================] - 1s 18ms/step - loss: 0.1519 - accuracy: 0.9374 - val_loss: 0.3201 - val_accuracy: 0.8737\n",
            "Epoch 89/128\n",
            "54/54 [==============================] - 1s 20ms/step - loss: 0.1531 - accuracy: 0.9386 - val_loss: 0.3246 - val_accuracy: 0.8842\n",
            "Epoch 90/128\n",
            "54/54 [==============================] - 1s 18ms/step - loss: 0.1505 - accuracy: 0.9386 - val_loss: 0.3230 - val_accuracy: 0.8789\n",
            "Epoch 91/128\n",
            "54/54 [==============================] - 1s 18ms/step - loss: 0.1503 - accuracy: 0.9374 - val_loss: 0.3173 - val_accuracy: 0.8737\n",
            "Epoch 92/128\n",
            "54/54 [==============================] - 1s 18ms/step - loss: 0.1513 - accuracy: 0.9363 - val_loss: 0.3389 - val_accuracy: 0.8789\n",
            "Epoch 93/128\n",
            "54/54 [==============================] - 1s 18ms/step - loss: 0.1497 - accuracy: 0.9404 - val_loss: 0.3362 - val_accuracy: 0.8789\n",
            "Epoch 94/128\n",
            "54/54 [==============================] - 1s 18ms/step - loss: 0.1483 - accuracy: 0.9386 - val_loss: 0.3332 - val_accuracy: 0.8842\n",
            "Epoch 95/128\n",
            "54/54 [==============================] - 1s 18ms/step - loss: 0.1510 - accuracy: 0.9357 - val_loss: 0.3253 - val_accuracy: 0.8789\n",
            "Epoch 96/128\n",
            "54/54 [==============================] - 1s 18ms/step - loss: 0.1486 - accuracy: 0.9404 - val_loss: 0.3270 - val_accuracy: 0.8789\n",
            "Epoch 97/128\n",
            "54/54 [==============================] - 1s 18ms/step - loss: 0.1467 - accuracy: 0.9421 - val_loss: 0.3260 - val_accuracy: 0.8789\n",
            "Epoch 98/128\n",
            "54/54 [==============================] - 1s 18ms/step - loss: 0.1461 - accuracy: 0.9398 - val_loss: 0.3324 - val_accuracy: 0.8789\n",
            "Epoch 99/128\n",
            "54/54 [==============================] - 1s 18ms/step - loss: 0.1460 - accuracy: 0.9415 - val_loss: 0.3368 - val_accuracy: 0.8789\n",
            "Epoch 100/128\n",
            "54/54 [==============================] - 1s 18ms/step - loss: 0.1446 - accuracy: 0.9404 - val_loss: 0.3393 - val_accuracy: 0.8842\n",
            "Epoch 101/128\n",
            "54/54 [==============================] - 1s 18ms/step - loss: 0.1454 - accuracy: 0.9433 - val_loss: 0.3412 - val_accuracy: 0.8737\n",
            "Epoch 102/128\n",
            "54/54 [==============================] - 1s 18ms/step - loss: 0.1444 - accuracy: 0.9398 - val_loss: 0.3437 - val_accuracy: 0.8789\n",
            "Epoch 103/128\n",
            "54/54 [==============================] - 1s 19ms/step - loss: 0.1424 - accuracy: 0.9450 - val_loss: 0.3357 - val_accuracy: 0.8789\n",
            "Epoch 104/128\n",
            "54/54 [==============================] - 1s 18ms/step - loss: 0.1421 - accuracy: 0.9456 - val_loss: 0.3407 - val_accuracy: 0.8737\n",
            "Epoch 105/128\n",
            "54/54 [==============================] - 1s 18ms/step - loss: 0.1411 - accuracy: 0.9439 - val_loss: 0.3503 - val_accuracy: 0.8842\n",
            "Epoch 106/128\n",
            "54/54 [==============================] - 1s 18ms/step - loss: 0.1422 - accuracy: 0.9444 - val_loss: 0.3465 - val_accuracy: 0.8737\n",
            "Epoch 107/128\n",
            "54/54 [==============================] - 1s 18ms/step - loss: 0.1393 - accuracy: 0.9485 - val_loss: 0.3480 - val_accuracy: 0.8789\n",
            "Epoch 108/128\n",
            "54/54 [==============================] - 1s 19ms/step - loss: 0.1388 - accuracy: 0.9450 - val_loss: 0.3414 - val_accuracy: 0.8789\n",
            "Epoch 109/128\n",
            "54/54 [==============================] - 1s 19ms/step - loss: 0.1374 - accuracy: 0.9480 - val_loss: 0.3452 - val_accuracy: 0.8789\n",
            "Epoch 110/128\n",
            "54/54 [==============================] - 1s 19ms/step - loss: 0.1366 - accuracy: 0.9485 - val_loss: 0.3397 - val_accuracy: 0.8737\n",
            "Epoch 111/128\n",
            "54/54 [==============================] - 1s 18ms/step - loss: 0.1374 - accuracy: 0.9474 - val_loss: 0.3497 - val_accuracy: 0.8842\n",
            "Epoch 112/128\n",
            "54/54 [==============================] - 1s 18ms/step - loss: 0.1363 - accuracy: 0.9480 - val_loss: 0.3481 - val_accuracy: 0.8789\n",
            "Epoch 113/128\n",
            "54/54 [==============================] - 1s 19ms/step - loss: 0.1353 - accuracy: 0.9450 - val_loss: 0.3549 - val_accuracy: 0.8737\n",
            "Epoch 114/128\n",
            "54/54 [==============================] - 1s 18ms/step - loss: 0.1348 - accuracy: 0.9503 - val_loss: 0.3546 - val_accuracy: 0.8789\n",
            "Epoch 115/128\n",
            "54/54 [==============================] - 1s 18ms/step - loss: 0.1347 - accuracy: 0.9468 - val_loss: 0.3414 - val_accuracy: 0.8789\n",
            "Epoch 116/128\n",
            "54/54 [==============================] - 1s 18ms/step - loss: 0.1325 - accuracy: 0.9520 - val_loss: 0.3516 - val_accuracy: 0.8789\n",
            "Epoch 117/128\n",
            "54/54 [==============================] - 1s 19ms/step - loss: 0.1338 - accuracy: 0.9491 - val_loss: 0.3519 - val_accuracy: 0.8789\n",
            "Epoch 118/128\n",
            "54/54 [==============================] - 1s 18ms/step - loss: 0.1320 - accuracy: 0.9520 - val_loss: 0.3646 - val_accuracy: 0.8842\n",
            "Epoch 119/128\n",
            "54/54 [==============================] - 1s 18ms/step - loss: 0.1316 - accuracy: 0.9491 - val_loss: 0.3610 - val_accuracy: 0.8789\n",
            "Epoch 120/128\n",
            "54/54 [==============================] - 1s 18ms/step - loss: 0.1305 - accuracy: 0.9462 - val_loss: 0.3597 - val_accuracy: 0.8789\n",
            "Epoch 121/128\n",
            "54/54 [==============================] - 1s 19ms/step - loss: 0.1311 - accuracy: 0.9444 - val_loss: 0.3532 - val_accuracy: 0.8789\n",
            "Epoch 122/128\n",
            "54/54 [==============================] - 1s 18ms/step - loss: 0.1316 - accuracy: 0.9491 - val_loss: 0.3522 - val_accuracy: 0.8789\n",
            "Epoch 123/128\n",
            "54/54 [==============================] - 1s 18ms/step - loss: 0.1298 - accuracy: 0.9497 - val_loss: 0.3567 - val_accuracy: 0.8842\n",
            "Epoch 124/128\n",
            "54/54 [==============================] - 1s 20ms/step - loss: 0.1292 - accuracy: 0.9532 - val_loss: 0.3474 - val_accuracy: 0.8789\n",
            "Epoch 125/128\n",
            "54/54 [==============================] - 1s 18ms/step - loss: 0.1284 - accuracy: 0.9515 - val_loss: 0.3526 - val_accuracy: 0.8789\n",
            "Epoch 126/128\n",
            "54/54 [==============================] - 1s 18ms/step - loss: 0.1286 - accuracy: 0.9485 - val_loss: 0.3517 - val_accuracy: 0.8789\n",
            "Epoch 127/128\n",
            "54/54 [==============================] - 1s 18ms/step - loss: 0.1266 - accuracy: 0.9561 - val_loss: 0.3610 - val_accuracy: 0.8842\n",
            "Epoch 128/128\n",
            "54/54 [==============================] - 1s 18ms/step - loss: 0.1268 - accuracy: 0.9526 - val_loss: 0.3771 - val_accuracy: 0.8842\n",
            "Epoch 1/128\n",
            " 1/27 [>.............................] - ETA: 0s - loss: 0.1520 - accuracy: 0.9531"
          ]
        },
        {
          "output_type": "stream",
          "name": "stderr",
          "text": [
            "/usr/local/lib/python3.7/dist-packages/tensorflow/python/data/ops/structured_function.py:265: UserWarning: Even though the `tf.config.experimental_run_functions_eagerly` option is set, this option does not apply to tf.data functions. To force eager execution of tf.data functions, please use `tf.data.experimental.enable_debug_mode()`.\n",
            "  \"Even though the `tf.config.experimental_run_functions_eagerly` \"\n",
            "/usr/local/lib/python3.7/dist-packages/tensorflow/python/data/ops/structured_function.py:265: UserWarning: Even though the `tf.config.experimental_run_functions_eagerly` option is set, this option does not apply to tf.data functions. To force eager execution of tf.data functions, please use `tf.data.experimental.enable_debug_mode()`.\n",
            "  \"Even though the `tf.config.experimental_run_functions_eagerly` \"\n",
            "/usr/local/lib/python3.7/dist-packages/tensorflow/python/data/ops/structured_function.py:265: UserWarning: Even though the `tf.config.experimental_run_functions_eagerly` option is set, this option does not apply to tf.data functions. To force eager execution of tf.data functions, please use `tf.data.experimental.enable_debug_mode()`.\n",
            "  \"Even though the `tf.config.experimental_run_functions_eagerly` \"\n"
          ]
        },
        {
          "output_type": "stream",
          "name": "stdout",
          "text": [
            "27/27 [==============================] - 1s 22ms/step - loss: 0.1241 - accuracy: 0.9538 - val_loss: 0.3545 - val_accuracy: 0.8895\n",
            "Epoch 2/128\n",
            " 5/27 [====>.........................] - ETA: 0s - loss: 0.0946 - accuracy: 0.9688"
          ]
        },
        {
          "output_type": "stream",
          "name": "stderr",
          "text": [
            "/usr/local/lib/python3.7/dist-packages/tensorflow/python/data/ops/structured_function.py:265: UserWarning: Even though the `tf.config.experimental_run_functions_eagerly` option is set, this option does not apply to tf.data functions. To force eager execution of tf.data functions, please use `tf.data.experimental.enable_debug_mode()`.\n",
            "  \"Even though the `tf.config.experimental_run_functions_eagerly` \"\n"
          ]
        },
        {
          "output_type": "stream",
          "name": "stdout",
          "text": [
            "27/27 [==============================] - 1s 20ms/step - loss: 0.1235 - accuracy: 0.9544 - val_loss: 0.3601 - val_accuracy: 0.8789\n",
            "Epoch 3/128\n",
            "27/27 [==============================] - 1s 21ms/step - loss: 0.1226 - accuracy: 0.9567 - val_loss: 0.3509 - val_accuracy: 0.8842\n",
            "Epoch 4/128\n",
            "27/27 [==============================] - 0s 17ms/step - loss: 0.1228 - accuracy: 0.9538 - val_loss: 0.3565 - val_accuracy: 0.8789\n",
            "Epoch 5/128\n",
            "27/27 [==============================] - 0s 18ms/step - loss: 0.1224 - accuracy: 0.9544 - val_loss: 0.3532 - val_accuracy: 0.8789\n",
            "Epoch 6/128\n",
            "27/27 [==============================] - 1s 20ms/step - loss: 0.1225 - accuracy: 0.9544 - val_loss: 0.3525 - val_accuracy: 0.8842\n",
            "Epoch 7/128\n",
            "27/27 [==============================] - 1s 19ms/step - loss: 0.1213 - accuracy: 0.9556 - val_loss: 0.3560 - val_accuracy: 0.8789\n",
            "Epoch 8/128\n",
            "27/27 [==============================] - 0s 18ms/step - loss: 0.1210 - accuracy: 0.9573 - val_loss: 0.3522 - val_accuracy: 0.8842\n",
            "Epoch 9/128\n",
            "27/27 [==============================] - 1s 20ms/step - loss: 0.1206 - accuracy: 0.9550 - val_loss: 0.3534 - val_accuracy: 0.8789\n",
            "Epoch 10/128\n",
            "27/27 [==============================] - 1s 20ms/step - loss: 0.1205 - accuracy: 0.9532 - val_loss: 0.3478 - val_accuracy: 0.8842\n",
            "Epoch 11/128\n",
            "27/27 [==============================] - 0s 18ms/step - loss: 0.1199 - accuracy: 0.9579 - val_loss: 0.3526 - val_accuracy: 0.8789\n",
            "Epoch 12/128\n",
            "27/27 [==============================] - 0s 18ms/step - loss: 0.1197 - accuracy: 0.9567 - val_loss: 0.3477 - val_accuracy: 0.8789\n",
            "Epoch 13/128\n",
            "27/27 [==============================] - 1s 21ms/step - loss: 0.1196 - accuracy: 0.9567 - val_loss: 0.3535 - val_accuracy: 0.8789\n",
            "Epoch 14/128\n",
            "27/27 [==============================] - 1s 20ms/step - loss: 0.1210 - accuracy: 0.9544 - val_loss: 0.3471 - val_accuracy: 0.8842\n",
            "Epoch 15/128\n",
            "27/27 [==============================] - 1s 20ms/step - loss: 0.1186 - accuracy: 0.9567 - val_loss: 0.3544 - val_accuracy: 0.8789\n",
            "Epoch 16/128\n",
            "27/27 [==============================] - 1s 20ms/step - loss: 0.1189 - accuracy: 0.9561 - val_loss: 0.3487 - val_accuracy: 0.8842\n",
            "Epoch 17/128\n",
            "27/27 [==============================] - 1s 20ms/step - loss: 0.1195 - accuracy: 0.9550 - val_loss: 0.3549 - val_accuracy: 0.8789\n",
            "Epoch 18/128\n",
            "27/27 [==============================] - 1s 19ms/step - loss: 0.1182 - accuracy: 0.9556 - val_loss: 0.3523 - val_accuracy: 0.8842\n",
            "Epoch 19/128\n",
            "27/27 [==============================] - 1s 20ms/step - loss: 0.1178 - accuracy: 0.9579 - val_loss: 0.3522 - val_accuracy: 0.8789\n",
            "Epoch 20/128\n",
            "27/27 [==============================] - 1s 21ms/step - loss: 0.1186 - accuracy: 0.9579 - val_loss: 0.3555 - val_accuracy: 0.8789\n",
            "Epoch 21/128\n",
            "27/27 [==============================] - 1s 20ms/step - loss: 0.1176 - accuracy: 0.9567 - val_loss: 0.3533 - val_accuracy: 0.8842\n",
            "Epoch 22/128\n",
            "27/27 [==============================] - 0s 18ms/step - loss: 0.1178 - accuracy: 0.9544 - val_loss: 0.3588 - val_accuracy: 0.8842\n",
            "Epoch 23/128\n",
            "27/27 [==============================] - 1s 21ms/step - loss: 0.1182 - accuracy: 0.9550 - val_loss: 0.3505 - val_accuracy: 0.8789\n",
            "Epoch 24/128\n",
            "27/27 [==============================] - 1s 20ms/step - loss: 0.1168 - accuracy: 0.9573 - val_loss: 0.3526 - val_accuracy: 0.8842\n",
            "Epoch 25/128\n",
            "27/27 [==============================] - 1s 21ms/step - loss: 0.1164 - accuracy: 0.9561 - val_loss: 0.3539 - val_accuracy: 0.8842\n",
            "Epoch 26/128\n",
            "27/27 [==============================] - 1s 20ms/step - loss: 0.1173 - accuracy: 0.9573 - val_loss: 0.3557 - val_accuracy: 0.8842\n",
            "Epoch 27/128\n",
            "27/27 [==============================] - 1s 20ms/step - loss: 0.1168 - accuracy: 0.9585 - val_loss: 0.3514 - val_accuracy: 0.8842\n",
            "Epoch 28/128\n",
            "27/27 [==============================] - 1s 20ms/step - loss: 0.1169 - accuracy: 0.9550 - val_loss: 0.3618 - val_accuracy: 0.8842\n",
            "Epoch 29/128\n",
            "27/27 [==============================] - 0s 18ms/step - loss: 0.1154 - accuracy: 0.9596 - val_loss: 0.3521 - val_accuracy: 0.8842\n",
            "Epoch 30/128\n",
            "27/27 [==============================] - 0s 18ms/step - loss: 0.1150 - accuracy: 0.9585 - val_loss: 0.3513 - val_accuracy: 0.8842\n",
            "Epoch 31/128\n",
            "27/27 [==============================] - 0s 18ms/step - loss: 0.1154 - accuracy: 0.9550 - val_loss: 0.3542 - val_accuracy: 0.8789\n",
            "Epoch 32/128\n",
            "27/27 [==============================] - 1s 20ms/step - loss: 0.1147 - accuracy: 0.9556 - val_loss: 0.3550 - val_accuracy: 0.8842\n",
            "Epoch 33/128\n",
            "27/27 [==============================] - 1s 19ms/step - loss: 0.1142 - accuracy: 0.9561 - val_loss: 0.3572 - val_accuracy: 0.8842\n",
            "Epoch 34/128\n",
            "27/27 [==============================] - 1s 21ms/step - loss: 0.1138 - accuracy: 0.9591 - val_loss: 0.3537 - val_accuracy: 0.8842\n",
            "Epoch 35/128\n",
            "27/27 [==============================] - 0s 18ms/step - loss: 0.1137 - accuracy: 0.9579 - val_loss: 0.3647 - val_accuracy: 0.8842\n",
            "Epoch 36/128\n",
            "27/27 [==============================] - 1s 20ms/step - loss: 0.1143 - accuracy: 0.9567 - val_loss: 0.3559 - val_accuracy: 0.8842\n",
            "Epoch 37/128\n",
            "27/27 [==============================] - 1s 19ms/step - loss: 0.1133 - accuracy: 0.9585 - val_loss: 0.3475 - val_accuracy: 0.8842\n",
            "Epoch 38/128\n",
            "27/27 [==============================] - 1s 19ms/step - loss: 0.1131 - accuracy: 0.9567 - val_loss: 0.3555 - val_accuracy: 0.8842\n",
            "Epoch 39/128\n",
            "27/27 [==============================] - 1s 20ms/step - loss: 0.1131 - accuracy: 0.9596 - val_loss: 0.3480 - val_accuracy: 0.8842\n",
            "Epoch 40/128\n",
            "27/27 [==============================] - 1s 21ms/step - loss: 0.1120 - accuracy: 0.9585 - val_loss: 0.3629 - val_accuracy: 0.8789\n",
            "Epoch 41/128\n",
            "27/27 [==============================] - 1s 20ms/step - loss: 0.1118 - accuracy: 0.9602 - val_loss: 0.3480 - val_accuracy: 0.8895\n",
            "Epoch 42/128\n",
            "27/27 [==============================] - 1s 21ms/step - loss: 0.1133 - accuracy: 0.9585 - val_loss: 0.3565 - val_accuracy: 0.8895\n",
            "Epoch 43/128\n",
            "27/27 [==============================] - 1s 21ms/step - loss: 0.1112 - accuracy: 0.9579 - val_loss: 0.3614 - val_accuracy: 0.8895\n",
            "Epoch 44/128\n",
            "27/27 [==============================] - 1s 20ms/step - loss: 0.1116 - accuracy: 0.9579 - val_loss: 0.3595 - val_accuracy: 0.8789\n",
            "Epoch 45/128\n",
            "27/27 [==============================] - 1s 21ms/step - loss: 0.1106 - accuracy: 0.9591 - val_loss: 0.3581 - val_accuracy: 0.8842\n",
            "Epoch 46/128\n",
            "27/27 [==============================] - 1s 19ms/step - loss: 0.1105 - accuracy: 0.9591 - val_loss: 0.3577 - val_accuracy: 0.8842\n",
            "Epoch 47/128\n",
            "27/27 [==============================] - 1s 22ms/step - loss: 0.1113 - accuracy: 0.9608 - val_loss: 0.3568 - val_accuracy: 0.8895\n",
            "Epoch 48/128\n",
            "27/27 [==============================] - 1s 21ms/step - loss: 0.1103 - accuracy: 0.9602 - val_loss: 0.3576 - val_accuracy: 0.8842\n",
            "Epoch 49/128\n",
            "27/27 [==============================] - 1s 19ms/step - loss: 0.1097 - accuracy: 0.9585 - val_loss: 0.3633 - val_accuracy: 0.8895\n",
            "Epoch 50/128\n",
            "27/27 [==============================] - 1s 19ms/step - loss: 0.1107 - accuracy: 0.9608 - val_loss: 0.3498 - val_accuracy: 0.8895\n",
            "Epoch 51/128\n",
            "27/27 [==============================] - 0s 18ms/step - loss: 0.1098 - accuracy: 0.9591 - val_loss: 0.3699 - val_accuracy: 0.8842\n",
            "Epoch 52/128\n",
            "27/27 [==============================] - 1s 20ms/step - loss: 0.1111 - accuracy: 0.9591 - val_loss: 0.3537 - val_accuracy: 0.8842\n",
            "Epoch 53/128\n",
            "27/27 [==============================] - 1s 19ms/step - loss: 0.1103 - accuracy: 0.9596 - val_loss: 0.3575 - val_accuracy: 0.8789\n",
            "Epoch 54/128\n",
            "27/27 [==============================] - 0s 18ms/step - loss: 0.1090 - accuracy: 0.9602 - val_loss: 0.3609 - val_accuracy: 0.8895\n",
            "Epoch 55/128\n",
            "27/27 [==============================] - 1s 19ms/step - loss: 0.1095 - accuracy: 0.9614 - val_loss: 0.3598 - val_accuracy: 0.8895\n",
            "Epoch 56/128\n",
            "27/27 [==============================] - 1s 19ms/step - loss: 0.1096 - accuracy: 0.9567 - val_loss: 0.3517 - val_accuracy: 0.8842\n",
            "Epoch 57/128\n",
            "27/27 [==============================] - 1s 21ms/step - loss: 0.1086 - accuracy: 0.9632 - val_loss: 0.3554 - val_accuracy: 0.8947\n",
            "Epoch 58/128\n",
            "27/27 [==============================] - 1s 18ms/step - loss: 0.1095 - accuracy: 0.9596 - val_loss: 0.3621 - val_accuracy: 0.8842\n",
            "Epoch 59/128\n",
            "27/27 [==============================] - 1s 20ms/step - loss: 0.1084 - accuracy: 0.9614 - val_loss: 0.3477 - val_accuracy: 0.8895\n",
            "Epoch 60/128\n",
            "27/27 [==============================] - 1s 20ms/step - loss: 0.1063 - accuracy: 0.9608 - val_loss: 0.3602 - val_accuracy: 0.9000\n",
            "Epoch 61/128\n",
            "27/27 [==============================] - 1s 19ms/step - loss: 0.1070 - accuracy: 0.9620 - val_loss: 0.3526 - val_accuracy: 0.8895\n",
            "Epoch 62/128\n",
            "27/27 [==============================] - 1s 21ms/step - loss: 0.1069 - accuracy: 0.9620 - val_loss: 0.3533 - val_accuracy: 0.8895\n",
            "Epoch 63/128\n",
            "27/27 [==============================] - 1s 20ms/step - loss: 0.1084 - accuracy: 0.9579 - val_loss: 0.3648 - val_accuracy: 0.8895\n",
            "Epoch 64/128\n",
            "27/27 [==============================] - 1s 19ms/step - loss: 0.1071 - accuracy: 0.9620 - val_loss: 0.3537 - val_accuracy: 0.9000\n",
            "Epoch 65/128\n",
            "27/27 [==============================] - 1s 20ms/step - loss: 0.1059 - accuracy: 0.9632 - val_loss: 0.3587 - val_accuracy: 0.9000\n",
            "Epoch 66/128\n",
            "27/27 [==============================] - 1s 20ms/step - loss: 0.1052 - accuracy: 0.9614 - val_loss: 0.3543 - val_accuracy: 0.8895\n",
            "Epoch 67/128\n",
            "27/27 [==============================] - 1s 20ms/step - loss: 0.1049 - accuracy: 0.9602 - val_loss: 0.3517 - val_accuracy: 0.8895\n",
            "Epoch 68/128\n",
            "27/27 [==============================] - 1s 20ms/step - loss: 0.1052 - accuracy: 0.9614 - val_loss: 0.3524 - val_accuracy: 0.8947\n",
            "Epoch 69/128\n",
            "27/27 [==============================] - 1s 20ms/step - loss: 0.1047 - accuracy: 0.9608 - val_loss: 0.3514 - val_accuracy: 0.9000\n",
            "Epoch 70/128\n",
            "27/27 [==============================] - 1s 19ms/step - loss: 0.1047 - accuracy: 0.9620 - val_loss: 0.3546 - val_accuracy: 0.8842\n",
            "Epoch 71/128\n",
            "27/27 [==============================] - 1s 18ms/step - loss: 0.1039 - accuracy: 0.9614 - val_loss: 0.3524 - val_accuracy: 0.9000\n",
            "Epoch 72/128\n",
            "27/27 [==============================] - 1s 21ms/step - loss: 0.1031 - accuracy: 0.9643 - val_loss: 0.3586 - val_accuracy: 0.8947\n",
            "Epoch 73/128\n",
            "27/27 [==============================] - 1s 21ms/step - loss: 0.1034 - accuracy: 0.9632 - val_loss: 0.3496 - val_accuracy: 0.8895\n",
            "Epoch 74/128\n",
            "27/27 [==============================] - 0s 18ms/step - loss: 0.1039 - accuracy: 0.9614 - val_loss: 0.3563 - val_accuracy: 0.8895\n",
            "Epoch 75/128\n",
            "27/27 [==============================] - 1s 19ms/step - loss: 0.1035 - accuracy: 0.9626 - val_loss: 0.3571 - val_accuracy: 0.8895\n",
            "Epoch 76/128\n",
            "27/27 [==============================] - 1s 20ms/step - loss: 0.1027 - accuracy: 0.9626 - val_loss: 0.3485 - val_accuracy: 0.9000\n",
            "Epoch 77/128\n",
            "27/27 [==============================] - 1s 19ms/step - loss: 0.1036 - accuracy: 0.9602 - val_loss: 0.3504 - val_accuracy: 0.8895\n",
            "Epoch 78/128\n",
            "27/27 [==============================] - 1s 20ms/step - loss: 0.1042 - accuracy: 0.9620 - val_loss: 0.3602 - val_accuracy: 0.9053\n",
            "Epoch 79/128\n",
            "27/27 [==============================] - 1s 20ms/step - loss: 0.1024 - accuracy: 0.9608 - val_loss: 0.3532 - val_accuracy: 0.9000\n",
            "Epoch 80/128\n",
            "27/27 [==============================] - 1s 19ms/step - loss: 0.1041 - accuracy: 0.9608 - val_loss: 0.3626 - val_accuracy: 0.9000\n",
            "Epoch 81/128\n",
            "27/27 [==============================] - 1s 22ms/step - loss: 0.1023 - accuracy: 0.9608 - val_loss: 0.3496 - val_accuracy: 0.8947\n",
            "Epoch 82/128\n",
            "27/27 [==============================] - 1s 28ms/step - loss: 0.1021 - accuracy: 0.9632 - val_loss: 0.3551 - val_accuracy: 0.9000\n",
            "Epoch 83/128\n",
            "27/27 [==============================] - 1s 28ms/step - loss: 0.1013 - accuracy: 0.9632 - val_loss: 0.3507 - val_accuracy: 0.9000\n",
            "Epoch 84/128\n",
            "27/27 [==============================] - 1s 28ms/step - loss: 0.1017 - accuracy: 0.9637 - val_loss: 0.3585 - val_accuracy: 0.8947\n",
            "Epoch 85/128\n",
            "27/27 [==============================] - 1s 20ms/step - loss: 0.1010 - accuracy: 0.9632 - val_loss: 0.3595 - val_accuracy: 0.8895\n",
            "Epoch 86/128\n",
            "27/27 [==============================] - 1s 19ms/step - loss: 0.1020 - accuracy: 0.9620 - val_loss: 0.3640 - val_accuracy: 0.9000\n",
            "Epoch 87/128\n",
            "27/27 [==============================] - 1s 19ms/step - loss: 0.1038 - accuracy: 0.9614 - val_loss: 0.3466 - val_accuracy: 0.8895\n",
            "Epoch 88/128\n",
            "27/27 [==============================] - 1s 20ms/step - loss: 0.1007 - accuracy: 0.9661 - val_loss: 0.3645 - val_accuracy: 0.9000\n",
            "Epoch 89/128\n",
            "27/27 [==============================] - 1s 20ms/step - loss: 0.1008 - accuracy: 0.9626 - val_loss: 0.3483 - val_accuracy: 0.8895\n",
            "Epoch 90/128\n",
            "27/27 [==============================] - 1s 19ms/step - loss: 0.1007 - accuracy: 0.9643 - val_loss: 0.3582 - val_accuracy: 0.8895\n",
            "Epoch 91/128\n",
            "27/27 [==============================] - 1s 21ms/step - loss: 0.1000 - accuracy: 0.9637 - val_loss: 0.3659 - val_accuracy: 0.9053\n",
            "Epoch 92/128\n",
            "27/27 [==============================] - 1s 18ms/step - loss: 0.1013 - accuracy: 0.9614 - val_loss: 0.3640 - val_accuracy: 0.9000\n",
            "Epoch 93/128\n",
            "27/27 [==============================] - 0s 18ms/step - loss: 0.0993 - accuracy: 0.9637 - val_loss: 0.3544 - val_accuracy: 0.9000\n",
            "Epoch 94/128\n",
            "27/27 [==============================] - 1s 20ms/step - loss: 0.0999 - accuracy: 0.9620 - val_loss: 0.3479 - val_accuracy: 0.8895\n",
            "Epoch 95/128\n",
            "27/27 [==============================] - 1s 20ms/step - loss: 0.0981 - accuracy: 0.9649 - val_loss: 0.3591 - val_accuracy: 0.9000\n",
            "Epoch 96/128\n",
            "27/27 [==============================] - 1s 18ms/step - loss: 0.0982 - accuracy: 0.9649 - val_loss: 0.3587 - val_accuracy: 0.9000\n",
            "Epoch 97/128\n",
            "27/27 [==============================] - 1s 19ms/step - loss: 0.0978 - accuracy: 0.9614 - val_loss: 0.3637 - val_accuracy: 0.9053\n",
            "Epoch 98/128\n",
            "27/27 [==============================] - 1s 20ms/step - loss: 0.0990 - accuracy: 0.9637 - val_loss: 0.3506 - val_accuracy: 0.9000\n",
            "Epoch 99/128\n",
            "27/27 [==============================] - 1s 20ms/step - loss: 0.0974 - accuracy: 0.9643 - val_loss: 0.3609 - val_accuracy: 0.9105\n",
            "Epoch 100/128\n",
            "27/27 [==============================] - 1s 20ms/step - loss: 0.0985 - accuracy: 0.9643 - val_loss: 0.3485 - val_accuracy: 0.8947\n",
            "Epoch 101/128\n",
            "27/27 [==============================] - 0s 18ms/step - loss: 0.0963 - accuracy: 0.9661 - val_loss: 0.3556 - val_accuracy: 0.9053\n",
            "Epoch 102/128\n",
            "27/27 [==============================] - 1s 21ms/step - loss: 0.0968 - accuracy: 0.9649 - val_loss: 0.3498 - val_accuracy: 0.8947\n",
            "Epoch 103/128\n",
            "27/27 [==============================] - 1s 21ms/step - loss: 0.0990 - accuracy: 0.9649 - val_loss: 0.3592 - val_accuracy: 0.9053\n",
            "Epoch 104/128\n",
            "27/27 [==============================] - 0s 18ms/step - loss: 0.0960 - accuracy: 0.9673 - val_loss: 0.3565 - val_accuracy: 0.9053\n",
            "Epoch 105/128\n",
            "27/27 [==============================] - 1s 19ms/step - loss: 0.0951 - accuracy: 0.9667 - val_loss: 0.3677 - val_accuracy: 0.9000\n",
            "Epoch 106/128\n",
            "27/27 [==============================] - 1s 19ms/step - loss: 0.0966 - accuracy: 0.9655 - val_loss: 0.3728 - val_accuracy: 0.9105\n",
            "Epoch 107/128\n",
            "27/27 [==============================] - 1s 20ms/step - loss: 0.0955 - accuracy: 0.9643 - val_loss: 0.3606 - val_accuracy: 0.9000\n",
            "Epoch 108/128\n",
            "27/27 [==============================] - 0s 18ms/step - loss: 0.0974 - accuracy: 0.9643 - val_loss: 0.3484 - val_accuracy: 0.9000\n",
            "Epoch 109/128\n",
            "27/27 [==============================] - 1s 20ms/step - loss: 0.0959 - accuracy: 0.9661 - val_loss: 0.3609 - val_accuracy: 0.9000\n",
            "Epoch 110/128\n",
            "27/27 [==============================] - 1s 21ms/step - loss: 0.0956 - accuracy: 0.9667 - val_loss: 0.3532 - val_accuracy: 0.9053\n",
            "Epoch 111/128\n",
            "27/27 [==============================] - 1s 21ms/step - loss: 0.0947 - accuracy: 0.9655 - val_loss: 0.3609 - val_accuracy: 0.9053\n",
            "Epoch 112/128\n",
            "27/27 [==============================] - 1s 20ms/step - loss: 0.0960 - accuracy: 0.9620 - val_loss: 0.3591 - val_accuracy: 0.9105\n",
            "Epoch 113/128\n",
            "27/27 [==============================] - 1s 20ms/step - loss: 0.0936 - accuracy: 0.9667 - val_loss: 0.3578 - val_accuracy: 0.9053\n",
            "Epoch 114/128\n",
            "27/27 [==============================] - 1s 19ms/step - loss: 0.0944 - accuracy: 0.9667 - val_loss: 0.3560 - val_accuracy: 0.9053\n",
            "Epoch 115/128\n",
            "27/27 [==============================] - 1s 20ms/step - loss: 0.0927 - accuracy: 0.9684 - val_loss: 0.3753 - val_accuracy: 0.9000\n",
            "Epoch 116/128\n",
            "27/27 [==============================] - 1s 21ms/step - loss: 0.0942 - accuracy: 0.9643 - val_loss: 0.3552 - val_accuracy: 0.9053\n",
            "Epoch 117/128\n",
            "27/27 [==============================] - 1s 21ms/step - loss: 0.0927 - accuracy: 0.9678 - val_loss: 0.3694 - val_accuracy: 0.9105\n",
            "Epoch 118/128\n",
            "27/27 [==============================] - 1s 20ms/step - loss: 0.0929 - accuracy: 0.9649 - val_loss: 0.3568 - val_accuracy: 0.9000\n",
            "Epoch 119/128\n",
            "27/27 [==============================] - 1s 19ms/step - loss: 0.0939 - accuracy: 0.9667 - val_loss: 0.3469 - val_accuracy: 0.9000\n",
            "Epoch 120/128\n",
            "27/27 [==============================] - 1s 20ms/step - loss: 0.0925 - accuracy: 0.9655 - val_loss: 0.3638 - val_accuracy: 0.9053\n",
            "Epoch 121/128\n",
            "27/27 [==============================] - 1s 21ms/step - loss: 0.0922 - accuracy: 0.9667 - val_loss: 0.3649 - val_accuracy: 0.9105\n",
            "Epoch 122/128\n",
            "27/27 [==============================] - 1s 20ms/step - loss: 0.0924 - accuracy: 0.9655 - val_loss: 0.3479 - val_accuracy: 0.8947\n",
            "Epoch 123/128\n",
            "27/27 [==============================] - 1s 20ms/step - loss: 0.0904 - accuracy: 0.9643 - val_loss: 0.3676 - val_accuracy: 0.9053\n",
            "Epoch 124/128\n",
            "27/27 [==============================] - 1s 19ms/step - loss: 0.0906 - accuracy: 0.9667 - val_loss: 0.3579 - val_accuracy: 0.9053\n",
            "Epoch 125/128\n",
            "27/27 [==============================] - 1s 20ms/step - loss: 0.0897 - accuracy: 0.9678 - val_loss: 0.3558 - val_accuracy: 0.9053\n",
            "Epoch 126/128\n",
            "27/27 [==============================] - 1s 20ms/step - loss: 0.0903 - accuracy: 0.9649 - val_loss: 0.3564 - val_accuracy: 0.9105\n",
            "Epoch 127/128\n",
            "27/27 [==============================] - 1s 48ms/step - loss: 0.0907 - accuracy: 0.9673 - val_loss: 0.3590 - val_accuracy: 0.9000\n",
            "Epoch 128/128\n",
            "27/27 [==============================] - 1s 21ms/step - loss: 0.0918 - accuracy: 0.9673 - val_loss: 0.3674 - val_accuracy: 0.9105\n",
            "Epoch 1/256\n",
            " 5/54 [=>............................] - ETA: 0s - loss: 0.1189 - accuracy: 0.9563"
          ]
        },
        {
          "output_type": "stream",
          "name": "stderr",
          "text": [
            "/usr/local/lib/python3.7/dist-packages/tensorflow/python/data/ops/structured_function.py:265: UserWarning: Even though the `tf.config.experimental_run_functions_eagerly` option is set, this option does not apply to tf.data functions. To force eager execution of tf.data functions, please use `tf.data.experimental.enable_debug_mode()`.\n",
            "  \"Even though the `tf.config.experimental_run_functions_eagerly` \"\n",
            "/usr/local/lib/python3.7/dist-packages/tensorflow/python/data/ops/structured_function.py:265: UserWarning: Even though the `tf.config.experimental_run_functions_eagerly` option is set, this option does not apply to tf.data functions. To force eager execution of tf.data functions, please use `tf.data.experimental.enable_debug_mode()`.\n",
            "  \"Even though the `tf.config.experimental_run_functions_eagerly` \"\n",
            "/usr/local/lib/python3.7/dist-packages/tensorflow/python/data/ops/structured_function.py:265: UserWarning: Even though the `tf.config.experimental_run_functions_eagerly` option is set, this option does not apply to tf.data functions. To force eager execution of tf.data functions, please use `tf.data.experimental.enable_debug_mode()`.\n",
            "  \"Even though the `tf.config.experimental_run_functions_eagerly` \"\n"
          ]
        },
        {
          "output_type": "stream",
          "name": "stdout",
          "text": [
            "54/54 [==============================] - 1s 19ms/step - loss: 0.0948 - accuracy: 0.9673 - val_loss: 0.3822 - val_accuracy: 0.9053\n",
            "Epoch 2/256\n",
            " 4/54 [=>............................] - ETA: 0s - loss: 0.0783 - accuracy: 0.9688"
          ]
        },
        {
          "output_type": "stream",
          "name": "stderr",
          "text": [
            "/usr/local/lib/python3.7/dist-packages/tensorflow/python/data/ops/structured_function.py:265: UserWarning: Even though the `tf.config.experimental_run_functions_eagerly` option is set, this option does not apply to tf.data functions. To force eager execution of tf.data functions, please use `tf.data.experimental.enable_debug_mode()`.\n",
            "  \"Even though the `tf.config.experimental_run_functions_eagerly` \"\n"
          ]
        },
        {
          "output_type": "stream",
          "name": "stdout",
          "text": [
            "54/54 [==============================] - 1s 18ms/step - loss: 0.0956 - accuracy: 0.9678 - val_loss: 0.3386 - val_accuracy: 0.9000\n",
            "Epoch 3/256\n",
            "54/54 [==============================] - 1s 18ms/step - loss: 0.0956 - accuracy: 0.9637 - val_loss: 0.3679 - val_accuracy: 0.9000\n",
            "Epoch 4/256\n",
            "54/54 [==============================] - 1s 18ms/step - loss: 0.0943 - accuracy: 0.9649 - val_loss: 0.3468 - val_accuracy: 0.9000\n",
            "Epoch 5/256\n",
            "54/54 [==============================] - 1s 18ms/step - loss: 0.0942 - accuracy: 0.9637 - val_loss: 0.3506 - val_accuracy: 0.9105\n",
            "Epoch 6/256\n",
            "54/54 [==============================] - 1s 19ms/step - loss: 0.0897 - accuracy: 0.9667 - val_loss: 0.3521 - val_accuracy: 0.9000\n",
            "Epoch 7/256\n",
            "54/54 [==============================] - 1s 19ms/step - loss: 0.0954 - accuracy: 0.9643 - val_loss: 0.3475 - val_accuracy: 0.9000\n",
            "Epoch 8/256\n",
            "54/54 [==============================] - 1s 17ms/step - loss: 0.0925 - accuracy: 0.9626 - val_loss: 0.3368 - val_accuracy: 0.9053\n",
            "Epoch 9/256\n",
            "54/54 [==============================] - 1s 19ms/step - loss: 0.0926 - accuracy: 0.9649 - val_loss: 0.3532 - val_accuracy: 0.9000\n",
            "Epoch 10/256\n",
            "54/54 [==============================] - 1s 18ms/step - loss: 0.0901 - accuracy: 0.9632 - val_loss: 0.3634 - val_accuracy: 0.9105\n",
            "Epoch 11/256\n",
            "54/54 [==============================] - 1s 19ms/step - loss: 0.0885 - accuracy: 0.9673 - val_loss: 0.3419 - val_accuracy: 0.9053\n",
            "Epoch 12/256\n",
            "54/54 [==============================] - 1s 18ms/step - loss: 0.0897 - accuracy: 0.9637 - val_loss: 0.3476 - val_accuracy: 0.9000\n",
            "Epoch 13/256\n",
            "54/54 [==============================] - 1s 18ms/step - loss: 0.0884 - accuracy: 0.9678 - val_loss: 0.3410 - val_accuracy: 0.9053\n",
            "Epoch 14/256\n",
            "54/54 [==============================] - 1s 18ms/step - loss: 0.0889 - accuracy: 0.9661 - val_loss: 0.3536 - val_accuracy: 0.9158\n",
            "Epoch 15/256\n",
            "54/54 [==============================] - 1s 18ms/step - loss: 0.0865 - accuracy: 0.9673 - val_loss: 0.3295 - val_accuracy: 0.8947\n",
            "Epoch 16/256\n",
            "54/54 [==============================] - 1s 18ms/step - loss: 0.0880 - accuracy: 0.9655 - val_loss: 0.3290 - val_accuracy: 0.9053\n",
            "Epoch 17/256\n",
            "54/54 [==============================] - 1s 19ms/step - loss: 0.0863 - accuracy: 0.9678 - val_loss: 0.3541 - val_accuracy: 0.9053\n",
            "Epoch 18/256\n",
            "54/54 [==============================] - 1s 19ms/step - loss: 0.0864 - accuracy: 0.9673 - val_loss: 0.3467 - val_accuracy: 0.9000\n",
            "Epoch 19/256\n",
            "54/54 [==============================] - 1s 19ms/step - loss: 0.0865 - accuracy: 0.9696 - val_loss: 0.3517 - val_accuracy: 0.9053\n",
            "Epoch 20/256\n",
            "54/54 [==============================] - 1s 18ms/step - loss: 0.0883 - accuracy: 0.9655 - val_loss: 0.3540 - val_accuracy: 0.9105\n",
            "Epoch 21/256\n",
            "54/54 [==============================] - 1s 19ms/step - loss: 0.0844 - accuracy: 0.9667 - val_loss: 0.3473 - val_accuracy: 0.9105\n",
            "Epoch 22/256\n",
            "54/54 [==============================] - 1s 19ms/step - loss: 0.0881 - accuracy: 0.9661 - val_loss: 0.3696 - val_accuracy: 0.9105\n",
            "Epoch 23/256\n",
            "54/54 [==============================] - 1s 19ms/step - loss: 0.0850 - accuracy: 0.9684 - val_loss: 0.3525 - val_accuracy: 0.9105\n",
            "Epoch 24/256\n",
            "54/54 [==============================] - 1s 19ms/step - loss: 0.0860 - accuracy: 0.9690 - val_loss: 0.3520 - val_accuracy: 0.8947\n",
            "Epoch 25/256\n",
            "54/54 [==============================] - 1s 18ms/step - loss: 0.0861 - accuracy: 0.9684 - val_loss: 0.3675 - val_accuracy: 0.9105\n",
            "Epoch 26/256\n",
            "54/54 [==============================] - 1s 19ms/step - loss: 0.0840 - accuracy: 0.9702 - val_loss: 0.3749 - val_accuracy: 0.9105\n",
            "Epoch 27/256\n",
            "54/54 [==============================] - 1s 21ms/step - loss: 0.0849 - accuracy: 0.9684 - val_loss: 0.3601 - val_accuracy: 0.9000\n",
            "Epoch 28/256\n",
            "54/54 [==============================] - 1s 20ms/step - loss: 0.0853 - accuracy: 0.9673 - val_loss: 0.3676 - val_accuracy: 0.9158\n",
            "Epoch 29/256\n",
            "54/54 [==============================] - 1s 19ms/step - loss: 0.0841 - accuracy: 0.9702 - val_loss: 0.3499 - val_accuracy: 0.9105\n",
            "Epoch 30/256\n",
            "54/54 [==============================] - 1s 19ms/step - loss: 0.0824 - accuracy: 0.9661 - val_loss: 0.3363 - val_accuracy: 0.9053\n",
            "Epoch 31/256\n",
            "54/54 [==============================] - 1s 18ms/step - loss: 0.0856 - accuracy: 0.9673 - val_loss: 0.3663 - val_accuracy: 0.9053\n",
            "Epoch 32/256\n",
            "54/54 [==============================] - 1s 18ms/step - loss: 0.0828 - accuracy: 0.9708 - val_loss: 0.3553 - val_accuracy: 0.8947\n",
            "Epoch 33/256\n",
            "54/54 [==============================] - 1s 21ms/step - loss: 0.0832 - accuracy: 0.9696 - val_loss: 0.3545 - val_accuracy: 0.9053\n",
            "Epoch 34/256\n",
            "54/54 [==============================] - 1s 19ms/step - loss: 0.0841 - accuracy: 0.9667 - val_loss: 0.3615 - val_accuracy: 0.9053\n",
            "Epoch 35/256\n",
            "54/54 [==============================] - 1s 18ms/step - loss: 0.0855 - accuracy: 0.9667 - val_loss: 0.3460 - val_accuracy: 0.9158\n",
            "Epoch 36/256\n",
            "54/54 [==============================] - 1s 19ms/step - loss: 0.0815 - accuracy: 0.9731 - val_loss: 0.3641 - val_accuracy: 0.9053\n",
            "Epoch 37/256\n",
            "54/54 [==============================] - 1s 19ms/step - loss: 0.0820 - accuracy: 0.9708 - val_loss: 0.3571 - val_accuracy: 0.9158\n",
            "Epoch 38/256\n",
            "54/54 [==============================] - 1s 19ms/step - loss: 0.0813 - accuracy: 0.9696 - val_loss: 0.3570 - val_accuracy: 0.9105\n",
            "Epoch 39/256\n",
            "54/54 [==============================] - 1s 18ms/step - loss: 0.0822 - accuracy: 0.9713 - val_loss: 0.3335 - val_accuracy: 0.8947\n",
            "Epoch 40/256\n",
            "54/54 [==============================] - 1s 19ms/step - loss: 0.0814 - accuracy: 0.9713 - val_loss: 0.3429 - val_accuracy: 0.9105\n",
            "Epoch 41/256\n",
            "54/54 [==============================] - 1s 19ms/step - loss: 0.0815 - accuracy: 0.9702 - val_loss: 0.3784 - val_accuracy: 0.9105\n",
            "Epoch 42/256\n",
            "54/54 [==============================] - 1s 19ms/step - loss: 0.0815 - accuracy: 0.9702 - val_loss: 0.3456 - val_accuracy: 0.9105\n",
            "Epoch 43/256\n",
            "54/54 [==============================] - 1s 18ms/step - loss: 0.0786 - accuracy: 0.9708 - val_loss: 0.3343 - val_accuracy: 0.9158\n",
            "Epoch 44/256\n",
            "54/54 [==============================] - 1s 19ms/step - loss: 0.0823 - accuracy: 0.9673 - val_loss: 0.3684 - val_accuracy: 0.9105\n",
            "Epoch 45/256\n",
            "54/54 [==============================] - 1s 19ms/step - loss: 0.0835 - accuracy: 0.9696 - val_loss: 0.3504 - val_accuracy: 0.9211\n",
            "Epoch 46/256\n",
            "54/54 [==============================] - 1s 18ms/step - loss: 0.0789 - accuracy: 0.9678 - val_loss: 0.3420 - val_accuracy: 0.9158\n",
            "Epoch 47/256\n",
            "54/54 [==============================] - 1s 18ms/step - loss: 0.0799 - accuracy: 0.9725 - val_loss: 0.3413 - val_accuracy: 0.9053\n",
            "Epoch 48/256\n",
            "54/54 [==============================] - 1s 18ms/step - loss: 0.0787 - accuracy: 0.9731 - val_loss: 0.3543 - val_accuracy: 0.9105\n",
            "Epoch 49/256\n",
            "54/54 [==============================] - 1s 19ms/step - loss: 0.0788 - accuracy: 0.9737 - val_loss: 0.3453 - val_accuracy: 0.9158\n",
            "Epoch 50/256\n",
            "54/54 [==============================] - 1s 19ms/step - loss: 0.0785 - accuracy: 0.9690 - val_loss: 0.3640 - val_accuracy: 0.9158\n",
            "Epoch 51/256\n",
            "54/54 [==============================] - 1s 18ms/step - loss: 0.0771 - accuracy: 0.9713 - val_loss: 0.3285 - val_accuracy: 0.9053\n",
            "Epoch 52/256\n",
            "54/54 [==============================] - 1s 19ms/step - loss: 0.0775 - accuracy: 0.9684 - val_loss: 0.3357 - val_accuracy: 0.8842\n",
            "Epoch 53/256\n",
            "54/54 [==============================] - 1s 19ms/step - loss: 0.0802 - accuracy: 0.9702 - val_loss: 0.3510 - val_accuracy: 0.9158\n",
            "Epoch 54/256\n",
            "54/54 [==============================] - 1s 26ms/step - loss: 0.0781 - accuracy: 0.9725 - val_loss: 0.3370 - val_accuracy: 0.9105\n",
            "Epoch 55/256\n",
            "54/54 [==============================] - 1s 24ms/step - loss: 0.0770 - accuracy: 0.9713 - val_loss: 0.3469 - val_accuracy: 0.9158\n",
            "Epoch 56/256\n",
            "54/54 [==============================] - 1s 18ms/step - loss: 0.0771 - accuracy: 0.9702 - val_loss: 0.3532 - val_accuracy: 0.9158\n",
            "Epoch 57/256\n",
            "54/54 [==============================] - 1s 18ms/step - loss: 0.0775 - accuracy: 0.9702 - val_loss: 0.3502 - val_accuracy: 0.9211\n",
            "Epoch 58/256\n",
            "54/54 [==============================] - 1s 19ms/step - loss: 0.0767 - accuracy: 0.9713 - val_loss: 0.3509 - val_accuracy: 0.9105\n",
            "Epoch 59/256\n",
            "54/54 [==============================] - 1s 19ms/step - loss: 0.0758 - accuracy: 0.9696 - val_loss: 0.3598 - val_accuracy: 0.9158\n",
            "Epoch 60/256\n",
            "54/54 [==============================] - 1s 20ms/step - loss: 0.0788 - accuracy: 0.9719 - val_loss: 0.3704 - val_accuracy: 0.9053\n",
            "Epoch 61/256\n",
            "54/54 [==============================] - 1s 19ms/step - loss: 0.0759 - accuracy: 0.9713 - val_loss: 0.3521 - val_accuracy: 0.9105\n",
            "Epoch 62/256\n",
            "54/54 [==============================] - 1s 19ms/step - loss: 0.0757 - accuracy: 0.9713 - val_loss: 0.3610 - val_accuracy: 0.9105\n",
            "Epoch 63/256\n",
            "54/54 [==============================] - 1s 19ms/step - loss: 0.0803 - accuracy: 0.9696 - val_loss: 0.3643 - val_accuracy: 0.9105\n",
            "Epoch 64/256\n",
            "54/54 [==============================] - 1s 19ms/step - loss: 0.0770 - accuracy: 0.9725 - val_loss: 0.3539 - val_accuracy: 0.9105\n",
            "Epoch 65/256\n",
            "54/54 [==============================] - 1s 19ms/step - loss: 0.0761 - accuracy: 0.9760 - val_loss: 0.3604 - val_accuracy: 0.9105\n",
            "Epoch 66/256\n",
            "54/54 [==============================] - 1s 19ms/step - loss: 0.0748 - accuracy: 0.9702 - val_loss: 0.3622 - val_accuracy: 0.9105\n",
            "Epoch 67/256\n",
            "54/54 [==============================] - 1s 19ms/step - loss: 0.0745 - accuracy: 0.9713 - val_loss: 0.3317 - val_accuracy: 0.9105\n",
            "Epoch 68/256\n",
            "54/54 [==============================] - 1s 18ms/step - loss: 0.0751 - accuracy: 0.9725 - val_loss: 0.3433 - val_accuracy: 0.9105\n",
            "Epoch 69/256\n",
            "54/54 [==============================] - 1s 18ms/step - loss: 0.0771 - accuracy: 0.9690 - val_loss: 0.3421 - val_accuracy: 0.9158\n",
            "Epoch 70/256\n",
            "54/54 [==============================] - 1s 18ms/step - loss: 0.0739 - accuracy: 0.9725 - val_loss: 0.3617 - val_accuracy: 0.9105\n",
            "Epoch 71/256\n",
            "54/54 [==============================] - 1s 19ms/step - loss: 0.0767 - accuracy: 0.9708 - val_loss: 0.3580 - val_accuracy: 0.9053\n",
            "Epoch 72/256\n",
            "54/54 [==============================] - 1s 18ms/step - loss: 0.0735 - accuracy: 0.9731 - val_loss: 0.3688 - val_accuracy: 0.9053\n",
            "Epoch 73/256\n",
            "54/54 [==============================] - 1s 19ms/step - loss: 0.0745 - accuracy: 0.9760 - val_loss: 0.3624 - val_accuracy: 0.9105\n",
            "Epoch 74/256\n",
            "54/54 [==============================] - 1s 19ms/step - loss: 0.0726 - accuracy: 0.9731 - val_loss: 0.3590 - val_accuracy: 0.9105\n",
            "Epoch 75/256\n",
            "54/54 [==============================] - 1s 18ms/step - loss: 0.0759 - accuracy: 0.9678 - val_loss: 0.3710 - val_accuracy: 0.9105\n",
            "Epoch 76/256\n",
            "54/54 [==============================] - 1s 18ms/step - loss: 0.0723 - accuracy: 0.9760 - val_loss: 0.3660 - val_accuracy: 0.9000\n",
            "Epoch 77/256\n",
            "54/54 [==============================] - 1s 18ms/step - loss: 0.0738 - accuracy: 0.9725 - val_loss: 0.3703 - val_accuracy: 0.9105\n",
            "Epoch 78/256\n",
            "54/54 [==============================] - 1s 18ms/step - loss: 0.0740 - accuracy: 0.9725 - val_loss: 0.3683 - val_accuracy: 0.9105\n",
            "Epoch 79/256\n",
            "54/54 [==============================] - 1s 19ms/step - loss: 0.0728 - accuracy: 0.9713 - val_loss: 0.3712 - val_accuracy: 0.9053\n",
            "Epoch 80/256\n",
            "54/54 [==============================] - 1s 18ms/step - loss: 0.0738 - accuracy: 0.9713 - val_loss: 0.4232 - val_accuracy: 0.9105\n",
            "Epoch 81/256\n",
            "54/54 [==============================] - 1s 18ms/step - loss: 0.0744 - accuracy: 0.9719 - val_loss: 0.3858 - val_accuracy: 0.9105\n",
            "Epoch 82/256\n",
            "54/54 [==============================] - 1s 19ms/step - loss: 0.0719 - accuracy: 0.9731 - val_loss: 0.3549 - val_accuracy: 0.9105\n",
            "Epoch 83/256\n",
            "54/54 [==============================] - 1s 20ms/step - loss: 0.0725 - accuracy: 0.9725 - val_loss: 0.3665 - val_accuracy: 0.9053\n",
            "Epoch 84/256\n",
            "54/54 [==============================] - 1s 20ms/step - loss: 0.0766 - accuracy: 0.9708 - val_loss: 0.3795 - val_accuracy: 0.9000\n",
            "Epoch 85/256\n",
            "54/54 [==============================] - 1s 19ms/step - loss: 0.0725 - accuracy: 0.9737 - val_loss: 0.3896 - val_accuracy: 0.9053\n",
            "Epoch 86/256\n",
            "54/54 [==============================] - 1s 19ms/step - loss: 0.0724 - accuracy: 0.9708 - val_loss: 0.3716 - val_accuracy: 0.9105\n",
            "Epoch 87/256\n",
            "54/54 [==============================] - 1s 19ms/step - loss: 0.0742 - accuracy: 0.9713 - val_loss: 0.3776 - val_accuracy: 0.9105\n",
            "Epoch 88/256\n",
            "54/54 [==============================] - 1s 19ms/step - loss: 0.0728 - accuracy: 0.9731 - val_loss: 0.3775 - val_accuracy: 0.9105\n",
            "Epoch 89/256\n",
            "54/54 [==============================] - 1s 21ms/step - loss: 0.0715 - accuracy: 0.9719 - val_loss: 0.3497 - val_accuracy: 0.9105\n",
            "Epoch 90/256\n",
            "54/54 [==============================] - 1s 20ms/step - loss: 0.0706 - accuracy: 0.9737 - val_loss: 0.3684 - val_accuracy: 0.9105\n",
            "Epoch 91/256\n",
            "54/54 [==============================] - 1s 20ms/step - loss: 0.0734 - accuracy: 0.9696 - val_loss: 0.3738 - val_accuracy: 0.9053\n",
            "Epoch 92/256\n",
            "54/54 [==============================] - 1s 19ms/step - loss: 0.0691 - accuracy: 0.9749 - val_loss: 0.3681 - val_accuracy: 0.9105\n",
            "Epoch 93/256\n",
            "54/54 [==============================] - 1s 19ms/step - loss: 0.0712 - accuracy: 0.9719 - val_loss: 0.3720 - val_accuracy: 0.9000\n",
            "Epoch 94/256\n",
            "54/54 [==============================] - 1s 19ms/step - loss: 0.0704 - accuracy: 0.9737 - val_loss: 0.3942 - val_accuracy: 0.9158\n",
            "Epoch 95/256\n",
            "54/54 [==============================] - 2s 32ms/step - loss: 0.0695 - accuracy: 0.9760 - val_loss: 0.3777 - val_accuracy: 0.9105\n",
            "Epoch 96/256\n",
            "54/54 [==============================] - 1s 20ms/step - loss: 0.0696 - accuracy: 0.9754 - val_loss: 0.3809 - val_accuracy: 0.9105\n",
            "Epoch 97/256\n",
            "54/54 [==============================] - 1s 19ms/step - loss: 0.0704 - accuracy: 0.9731 - val_loss: 0.4011 - val_accuracy: 0.9105\n",
            "Epoch 98/256\n",
            "54/54 [==============================] - 1s 20ms/step - loss: 0.0700 - accuracy: 0.9743 - val_loss: 0.3763 - val_accuracy: 0.9053\n",
            "Epoch 99/256\n",
            "54/54 [==============================] - 1s 21ms/step - loss: 0.0677 - accuracy: 0.9766 - val_loss: 0.3783 - val_accuracy: 0.9105\n",
            "Epoch 100/256\n",
            "54/54 [==============================] - 1s 18ms/step - loss: 0.0707 - accuracy: 0.9737 - val_loss: 0.3895 - val_accuracy: 0.9105\n",
            "Epoch 101/256\n",
            "54/54 [==============================] - 1s 19ms/step - loss: 0.0711 - accuracy: 0.9713 - val_loss: 0.3880 - val_accuracy: 0.9053\n",
            "Epoch 102/256\n",
            "54/54 [==============================] - 1s 18ms/step - loss: 0.0682 - accuracy: 0.9749 - val_loss: 0.3847 - val_accuracy: 0.8842\n",
            "Epoch 103/256\n",
            "54/54 [==============================] - 1s 19ms/step - loss: 0.0731 - accuracy: 0.9708 - val_loss: 0.4035 - val_accuracy: 0.9105\n",
            "Epoch 104/256\n",
            "54/54 [==============================] - 1s 19ms/step - loss: 0.0694 - accuracy: 0.9725 - val_loss: 0.4056 - val_accuracy: 0.9105\n",
            "Epoch 105/256\n",
            "54/54 [==============================] - 1s 19ms/step - loss: 0.0690 - accuracy: 0.9719 - val_loss: 0.3597 - val_accuracy: 0.8947\n",
            "Epoch 106/256\n",
            "54/54 [==============================] - 1s 20ms/step - loss: 0.0724 - accuracy: 0.9702 - val_loss: 0.3796 - val_accuracy: 0.9105\n",
            "Epoch 107/256\n",
            "54/54 [==============================] - 1s 19ms/step - loss: 0.0690 - accuracy: 0.9766 - val_loss: 0.3734 - val_accuracy: 0.9000\n",
            "Epoch 108/256\n",
            "54/54 [==============================] - 1s 18ms/step - loss: 0.0675 - accuracy: 0.9772 - val_loss: 0.3624 - val_accuracy: 0.9053\n",
            "Epoch 109/256\n",
            "54/54 [==============================] - 1s 19ms/step - loss: 0.0688 - accuracy: 0.9713 - val_loss: 0.3710 - val_accuracy: 0.9000\n",
            "Epoch 110/256\n",
            "54/54 [==============================] - 1s 19ms/step - loss: 0.0667 - accuracy: 0.9731 - val_loss: 0.3860 - val_accuracy: 0.9105\n",
            "Epoch 111/256\n",
            "54/54 [==============================] - 1s 19ms/step - loss: 0.0687 - accuracy: 0.9725 - val_loss: 0.3684 - val_accuracy: 0.9000\n",
            "Epoch 112/256\n",
            "54/54 [==============================] - 1s 18ms/step - loss: 0.0666 - accuracy: 0.9743 - val_loss: 0.3438 - val_accuracy: 0.9158\n",
            "Epoch 113/256\n",
            "54/54 [==============================] - 1s 19ms/step - loss: 0.0671 - accuracy: 0.9731 - val_loss: 0.3857 - val_accuracy: 0.9053\n",
            "Epoch 114/256\n",
            "54/54 [==============================] - 1s 19ms/step - loss: 0.0709 - accuracy: 0.9719 - val_loss: 0.3618 - val_accuracy: 0.8947\n",
            "Epoch 115/256\n",
            "54/54 [==============================] - 1s 19ms/step - loss: 0.0680 - accuracy: 0.9725 - val_loss: 0.3746 - val_accuracy: 0.9000\n",
            "Epoch 116/256\n",
            "54/54 [==============================] - 1s 19ms/step - loss: 0.0672 - accuracy: 0.9766 - val_loss: 0.3938 - val_accuracy: 0.9053\n",
            "Epoch 117/256\n",
            "54/54 [==============================] - 1s 21ms/step - loss: 0.0653 - accuracy: 0.9778 - val_loss: 0.4231 - val_accuracy: 0.9053\n",
            "Epoch 118/256\n",
            "54/54 [==============================] - 1s 20ms/step - loss: 0.0651 - accuracy: 0.9754 - val_loss: 0.3699 - val_accuracy: 0.9053\n",
            "Epoch 119/256\n",
            "54/54 [==============================] - 1s 21ms/step - loss: 0.0677 - accuracy: 0.9766 - val_loss: 0.3649 - val_accuracy: 0.9053\n",
            "Epoch 120/256\n",
            "54/54 [==============================] - 1s 19ms/step - loss: 0.0649 - accuracy: 0.9772 - val_loss: 0.3683 - val_accuracy: 0.9053\n",
            "Epoch 121/256\n",
            "54/54 [==============================] - 1s 19ms/step - loss: 0.0643 - accuracy: 0.9749 - val_loss: 0.3894 - val_accuracy: 0.9053\n",
            "Epoch 122/256\n",
            "54/54 [==============================] - 1s 18ms/step - loss: 0.0653 - accuracy: 0.9760 - val_loss: 0.3712 - val_accuracy: 0.9211\n",
            "Epoch 123/256\n",
            "54/54 [==============================] - 1s 18ms/step - loss: 0.0659 - accuracy: 0.9766 - val_loss: 0.3855 - val_accuracy: 0.9000\n",
            "Epoch 124/256\n",
            "54/54 [==============================] - 1s 18ms/step - loss: 0.0636 - accuracy: 0.9784 - val_loss: 0.4075 - val_accuracy: 0.9000\n",
            "Epoch 125/256\n",
            "54/54 [==============================] - 1s 18ms/step - loss: 0.0651 - accuracy: 0.9731 - val_loss: 0.4119 - val_accuracy: 0.9105\n",
            "Epoch 126/256\n",
            "54/54 [==============================] - 1s 19ms/step - loss: 0.0669 - accuracy: 0.9743 - val_loss: 0.3984 - val_accuracy: 0.9000\n",
            "Epoch 127/256\n",
            "54/54 [==============================] - 1s 18ms/step - loss: 0.0653 - accuracy: 0.9731 - val_loss: 0.4048 - val_accuracy: 0.9053\n",
            "Epoch 128/256\n",
            "54/54 [==============================] - 1s 18ms/step - loss: 0.0642 - accuracy: 0.9749 - val_loss: 0.3845 - val_accuracy: 0.9105\n",
            "Epoch 129/256\n",
            "54/54 [==============================] - 1s 18ms/step - loss: 0.0649 - accuracy: 0.9766 - val_loss: 0.3763 - val_accuracy: 0.9105\n",
            "Epoch 130/256\n",
            "54/54 [==============================] - 1s 19ms/step - loss: 0.0663 - accuracy: 0.9713 - val_loss: 0.3635 - val_accuracy: 0.9000\n",
            "Epoch 131/256\n",
            "54/54 [==============================] - 1s 24ms/step - loss: 0.0673 - accuracy: 0.9725 - val_loss: 0.3995 - val_accuracy: 0.9053\n",
            "Epoch 132/256\n",
            "54/54 [==============================] - 1s 26ms/step - loss: 0.0639 - accuracy: 0.9772 - val_loss: 0.3875 - val_accuracy: 0.9053\n",
            "Epoch 133/256\n",
            "54/54 [==============================] - 1s 21ms/step - loss: 0.0633 - accuracy: 0.9778 - val_loss: 0.4020 - val_accuracy: 0.9105\n",
            "Epoch 134/256\n",
            "54/54 [==============================] - 1s 19ms/step - loss: 0.0665 - accuracy: 0.9760 - val_loss: 0.3828 - val_accuracy: 0.9053\n",
            "Epoch 135/256\n",
            "54/54 [==============================] - 1s 19ms/step - loss: 0.0644 - accuracy: 0.9754 - val_loss: 0.3760 - val_accuracy: 0.9105\n",
            "Epoch 136/256\n",
            "54/54 [==============================] - 1s 18ms/step - loss: 0.0649 - accuracy: 0.9737 - val_loss: 0.3892 - val_accuracy: 0.9000\n",
            "Epoch 137/256\n",
            "54/54 [==============================] - 1s 19ms/step - loss: 0.0656 - accuracy: 0.9760 - val_loss: 0.4035 - val_accuracy: 0.9158\n",
            "Epoch 138/256\n",
            "54/54 [==============================] - 1s 19ms/step - loss: 0.0684 - accuracy: 0.9731 - val_loss: 0.3900 - val_accuracy: 0.9053\n",
            "Epoch 139/256\n",
            "54/54 [==============================] - 1s 19ms/step - loss: 0.0637 - accuracy: 0.9801 - val_loss: 0.3928 - val_accuracy: 0.9000\n",
            "Epoch 140/256\n",
            "54/54 [==============================] - 1s 19ms/step - loss: 0.0613 - accuracy: 0.9784 - val_loss: 0.3868 - val_accuracy: 0.9053\n",
            "Epoch 141/256\n",
            "54/54 [==============================] - 1s 19ms/step - loss: 0.0632 - accuracy: 0.9784 - val_loss: 0.3774 - val_accuracy: 0.9000\n",
            "Epoch 142/256\n",
            "54/54 [==============================] - 1s 18ms/step - loss: 0.0626 - accuracy: 0.9760 - val_loss: 0.3931 - val_accuracy: 0.9000\n",
            "Epoch 143/256\n",
            "54/54 [==============================] - 1s 18ms/step - loss: 0.0647 - accuracy: 0.9772 - val_loss: 0.4192 - val_accuracy: 0.9000\n",
            "Epoch 144/256\n",
            "54/54 [==============================] - 1s 19ms/step - loss: 0.0659 - accuracy: 0.9737 - val_loss: 0.4242 - val_accuracy: 0.9105\n",
            "Epoch 145/256\n",
            "54/54 [==============================] - 1s 18ms/step - loss: 0.0629 - accuracy: 0.9766 - val_loss: 0.3946 - val_accuracy: 0.9000\n",
            "Epoch 146/256\n",
            "54/54 [==============================] - 1s 19ms/step - loss: 0.0619 - accuracy: 0.9754 - val_loss: 0.3916 - val_accuracy: 0.9053\n",
            "Epoch 147/256\n",
            "54/54 [==============================] - 1s 19ms/step - loss: 0.0617 - accuracy: 0.9743 - val_loss: 0.3738 - val_accuracy: 0.9000\n",
            "Epoch 148/256\n",
            "54/54 [==============================] - 1s 19ms/step - loss: 0.0631 - accuracy: 0.9772 - val_loss: 0.3823 - val_accuracy: 0.9053\n",
            "Epoch 149/256\n",
            "54/54 [==============================] - 1s 19ms/step - loss: 0.0646 - accuracy: 0.9743 - val_loss: 0.3910 - val_accuracy: 0.8947\n",
            "Epoch 150/256\n",
            "54/54 [==============================] - 1s 19ms/step - loss: 0.0641 - accuracy: 0.9766 - val_loss: 0.3906 - val_accuracy: 0.9053\n",
            "Epoch 151/256\n",
            "54/54 [==============================] - 1s 19ms/step - loss: 0.0603 - accuracy: 0.9766 - val_loss: 0.4172 - val_accuracy: 0.9053\n",
            "Epoch 152/256\n",
            "54/54 [==============================] - 1s 19ms/step - loss: 0.0629 - accuracy: 0.9760 - val_loss: 0.3972 - val_accuracy: 0.9105\n",
            "Epoch 153/256\n",
            "54/54 [==============================] - 1s 19ms/step - loss: 0.0607 - accuracy: 0.9778 - val_loss: 0.3970 - val_accuracy: 0.9000\n",
            "Epoch 154/256\n",
            "54/54 [==============================] - 1s 19ms/step - loss: 0.0615 - accuracy: 0.9789 - val_loss: 0.3899 - val_accuracy: 0.9053\n",
            "Epoch 155/256\n",
            "54/54 [==============================] - 1s 19ms/step - loss: 0.0602 - accuracy: 0.9766 - val_loss: 0.3875 - val_accuracy: 0.9105\n",
            "Epoch 156/256\n",
            "54/54 [==============================] - 1s 19ms/step - loss: 0.0599 - accuracy: 0.9807 - val_loss: 0.3753 - val_accuracy: 0.9105\n",
            "Epoch 157/256\n",
            "54/54 [==============================] - 1s 19ms/step - loss: 0.0634 - accuracy: 0.9766 - val_loss: 0.3937 - val_accuracy: 0.9053\n",
            "Epoch 158/256\n",
            "54/54 [==============================] - 1s 19ms/step - loss: 0.0614 - accuracy: 0.9795 - val_loss: 0.4082 - val_accuracy: 0.9053\n",
            "Epoch 159/256\n",
            "54/54 [==============================] - 1s 19ms/step - loss: 0.0611 - accuracy: 0.9795 - val_loss: 0.3928 - val_accuracy: 0.9053\n",
            "Epoch 160/256\n",
            "54/54 [==============================] - 1s 19ms/step - loss: 0.0598 - accuracy: 0.9801 - val_loss: 0.4185 - val_accuracy: 0.9053\n",
            "Epoch 161/256\n",
            "54/54 [==============================] - 1s 19ms/step - loss: 0.0637 - accuracy: 0.9778 - val_loss: 0.3816 - val_accuracy: 0.9158\n",
            "Epoch 162/256\n",
            "54/54 [==============================] - 1s 18ms/step - loss: 0.0605 - accuracy: 0.9784 - val_loss: 0.3862 - val_accuracy: 0.8947\n",
            "Epoch 163/256\n",
            "54/54 [==============================] - 1s 19ms/step - loss: 0.0619 - accuracy: 0.9795 - val_loss: 0.4089 - val_accuracy: 0.9000\n",
            "Epoch 164/256\n",
            "54/54 [==============================] - 1s 19ms/step - loss: 0.0594 - accuracy: 0.9772 - val_loss: 0.3745 - val_accuracy: 0.9053\n",
            "Epoch 165/256\n",
            "54/54 [==============================] - 1s 19ms/step - loss: 0.0621 - accuracy: 0.9749 - val_loss: 0.4032 - val_accuracy: 0.9053\n",
            "Epoch 166/256\n",
            "54/54 [==============================] - 1s 19ms/step - loss: 0.0652 - accuracy: 0.9719 - val_loss: 0.4102 - val_accuracy: 0.9000\n",
            "Epoch 167/256\n",
            "54/54 [==============================] - 1s 20ms/step - loss: 0.0628 - accuracy: 0.9772 - val_loss: 0.3760 - val_accuracy: 0.8947\n",
            "Epoch 168/256\n",
            "54/54 [==============================] - 1s 18ms/step - loss: 0.0600 - accuracy: 0.9789 - val_loss: 0.3964 - val_accuracy: 0.9105\n",
            "Epoch 169/256\n",
            "54/54 [==============================] - 1s 19ms/step - loss: 0.0583 - accuracy: 0.9807 - val_loss: 0.3823 - val_accuracy: 0.9000\n",
            "Epoch 170/256\n",
            "54/54 [==============================] - 1s 18ms/step - loss: 0.0586 - accuracy: 0.9795 - val_loss: 0.4088 - val_accuracy: 0.9053\n",
            "Epoch 171/256\n",
            "54/54 [==============================] - 1s 19ms/step - loss: 0.0569 - accuracy: 0.9801 - val_loss: 0.3858 - val_accuracy: 0.9000\n",
            "Epoch 172/256\n",
            "54/54 [==============================] - 1s 18ms/step - loss: 0.0592 - accuracy: 0.9778 - val_loss: 0.3871 - val_accuracy: 0.9053\n",
            "Epoch 173/256\n",
            "54/54 [==============================] - 1s 20ms/step - loss: 0.0573 - accuracy: 0.9784 - val_loss: 0.3866 - val_accuracy: 0.9053\n",
            "Epoch 174/256\n",
            "54/54 [==============================] - 1s 19ms/step - loss: 0.0609 - accuracy: 0.9766 - val_loss: 0.3889 - val_accuracy: 0.9000\n",
            "Epoch 175/256\n",
            "54/54 [==============================] - 1s 19ms/step - loss: 0.0571 - accuracy: 0.9801 - val_loss: 0.4003 - val_accuracy: 0.9053\n",
            "Epoch 176/256\n",
            "54/54 [==============================] - 1s 20ms/step - loss: 0.0577 - accuracy: 0.9772 - val_loss: 0.3929 - val_accuracy: 0.8895\n",
            "Epoch 177/256\n",
            "54/54 [==============================] - 1s 20ms/step - loss: 0.0561 - accuracy: 0.9784 - val_loss: 0.3932 - val_accuracy: 0.9053\n",
            "Epoch 178/256\n",
            "54/54 [==============================] - 1s 19ms/step - loss: 0.0582 - accuracy: 0.9766 - val_loss: 0.3896 - val_accuracy: 0.9105\n",
            "Epoch 179/256\n",
            "54/54 [==============================] - 1s 19ms/step - loss: 0.0588 - accuracy: 0.9778 - val_loss: 0.4096 - val_accuracy: 0.9053\n",
            "Epoch 180/256\n",
            "54/54 [==============================] - 1s 18ms/step - loss: 0.0577 - accuracy: 0.9813 - val_loss: 0.3820 - val_accuracy: 0.9105\n",
            "Epoch 181/256\n",
            "54/54 [==============================] - 1s 19ms/step - loss: 0.0571 - accuracy: 0.9795 - val_loss: 0.4108 - val_accuracy: 0.9053\n",
            "Epoch 182/256\n",
            "54/54 [==============================] - 1s 19ms/step - loss: 0.0568 - accuracy: 0.9772 - val_loss: 0.4122 - val_accuracy: 0.9000\n",
            "Epoch 183/256\n",
            "54/54 [==============================] - 1s 19ms/step - loss: 0.0572 - accuracy: 0.9772 - val_loss: 0.4089 - val_accuracy: 0.9053\n",
            "Epoch 184/256\n",
            "54/54 [==============================] - 1s 19ms/step - loss: 0.0581 - accuracy: 0.9795 - val_loss: 0.4178 - val_accuracy: 0.9053\n",
            "Epoch 185/256\n",
            "54/54 [==============================] - 1s 18ms/step - loss: 0.0600 - accuracy: 0.9784 - val_loss: 0.4133 - val_accuracy: 0.9053\n",
            "Epoch 186/256\n",
            "54/54 [==============================] - 1s 19ms/step - loss: 0.0576 - accuracy: 0.9795 - val_loss: 0.4108 - val_accuracy: 0.9000\n",
            "Epoch 187/256\n",
            "54/54 [==============================] - 1s 19ms/step - loss: 0.0558 - accuracy: 0.9772 - val_loss: 0.4006 - val_accuracy: 0.9053\n",
            "Epoch 188/256\n",
            "54/54 [==============================] - 1s 19ms/step - loss: 0.0556 - accuracy: 0.9801 - val_loss: 0.4096 - val_accuracy: 0.9053\n",
            "Epoch 189/256\n",
            "54/54 [==============================] - 1s 19ms/step - loss: 0.0571 - accuracy: 0.9807 - val_loss: 0.3913 - val_accuracy: 0.9053\n",
            "Epoch 190/256\n",
            "54/54 [==============================] - 1s 19ms/step - loss: 0.0548 - accuracy: 0.9795 - val_loss: 0.4388 - val_accuracy: 0.9000\n",
            "Epoch 191/256\n",
            "54/54 [==============================] - 1s 19ms/step - loss: 0.0596 - accuracy: 0.9772 - val_loss: 0.3788 - val_accuracy: 0.9000\n",
            "Epoch 192/256\n",
            "54/54 [==============================] - 1s 19ms/step - loss: 0.0565 - accuracy: 0.9795 - val_loss: 0.3891 - val_accuracy: 0.9000\n",
            "Epoch 193/256\n",
            "54/54 [==============================] - 1s 19ms/step - loss: 0.0568 - accuracy: 0.9789 - val_loss: 0.4241 - val_accuracy: 0.9053\n",
            "Epoch 194/256\n",
            "54/54 [==============================] - 1s 19ms/step - loss: 0.0579 - accuracy: 0.9784 - val_loss: 0.4065 - val_accuracy: 0.9053\n",
            "Epoch 195/256\n",
            "54/54 [==============================] - 1s 19ms/step - loss: 0.0581 - accuracy: 0.9778 - val_loss: 0.4277 - val_accuracy: 0.9000\n",
            "Epoch 196/256\n",
            "54/54 [==============================] - 1s 19ms/step - loss: 0.0555 - accuracy: 0.9807 - val_loss: 0.4012 - val_accuracy: 0.9000\n",
            "Epoch 197/256\n",
            "54/54 [==============================] - 1s 19ms/step - loss: 0.0568 - accuracy: 0.9766 - val_loss: 0.4120 - val_accuracy: 0.8947\n",
            "Epoch 198/256\n",
            "54/54 [==============================] - 1s 18ms/step - loss: 0.0592 - accuracy: 0.9778 - val_loss: 0.4247 - val_accuracy: 0.9053\n",
            "Epoch 199/256\n",
            "54/54 [==============================] - 1s 19ms/step - loss: 0.0557 - accuracy: 0.9784 - val_loss: 0.4046 - val_accuracy: 0.9000\n",
            "Epoch 200/256\n",
            "54/54 [==============================] - 1s 19ms/step - loss: 0.0551 - accuracy: 0.9754 - val_loss: 0.4557 - val_accuracy: 0.9000\n",
            "Epoch 201/256\n",
            "54/54 [==============================] - 1s 19ms/step - loss: 0.0571 - accuracy: 0.9784 - val_loss: 0.4606 - val_accuracy: 0.9053\n",
            "Epoch 202/256\n",
            "54/54 [==============================] - 1s 19ms/step - loss: 0.0565 - accuracy: 0.9784 - val_loss: 0.4108 - val_accuracy: 0.9000\n",
            "Epoch 203/256\n",
            "54/54 [==============================] - 1s 19ms/step - loss: 0.0563 - accuracy: 0.9778 - val_loss: 0.4101 - val_accuracy: 0.9053\n",
            "Epoch 204/256\n",
            "54/54 [==============================] - 1s 19ms/step - loss: 0.0567 - accuracy: 0.9778 - val_loss: 0.4195 - val_accuracy: 0.9053\n",
            "Epoch 205/256\n",
            "54/54 [==============================] - 1s 19ms/step - loss: 0.0545 - accuracy: 0.9789 - val_loss: 0.3943 - val_accuracy: 0.9000\n",
            "Epoch 206/256\n",
            "54/54 [==============================] - 1s 18ms/step - loss: 0.0587 - accuracy: 0.9754 - val_loss: 0.4024 - val_accuracy: 0.9053\n",
            "Epoch 207/256\n",
            "54/54 [==============================] - 1s 18ms/step - loss: 0.0561 - accuracy: 0.9784 - val_loss: 0.4323 - val_accuracy: 0.9053\n",
            "Epoch 208/256\n",
            "54/54 [==============================] - 1s 19ms/step - loss: 0.0535 - accuracy: 0.9801 - val_loss: 0.4093 - val_accuracy: 0.9053\n",
            "Epoch 209/256\n",
            "54/54 [==============================] - 1s 19ms/step - loss: 0.0534 - accuracy: 0.9784 - val_loss: 0.4371 - val_accuracy: 0.9053\n",
            "Epoch 210/256\n",
            "54/54 [==============================] - 1s 25ms/step - loss: 0.0543 - accuracy: 0.9813 - val_loss: 0.4072 - val_accuracy: 0.8947\n",
            "Epoch 211/256\n",
            "54/54 [==============================] - 2s 29ms/step - loss: 0.0576 - accuracy: 0.9789 - val_loss: 0.4094 - val_accuracy: 0.9105\n",
            "Epoch 212/256\n",
            "54/54 [==============================] - 1s 21ms/step - loss: 0.0553 - accuracy: 0.9795 - val_loss: 0.4222 - val_accuracy: 0.9053\n",
            "Epoch 213/256\n",
            "54/54 [==============================] - 1s 19ms/step - loss: 0.0531 - accuracy: 0.9813 - val_loss: 0.4095 - val_accuracy: 0.9053\n",
            "Epoch 214/256\n",
            "54/54 [==============================] - 1s 19ms/step - loss: 0.0554 - accuracy: 0.9784 - val_loss: 0.4091 - val_accuracy: 0.9053\n",
            "Epoch 215/256\n",
            "54/54 [==============================] - 1s 20ms/step - loss: 0.0570 - accuracy: 0.9784 - val_loss: 0.4032 - val_accuracy: 0.9105\n",
            "Epoch 216/256\n",
            "54/54 [==============================] - 1s 19ms/step - loss: 0.0528 - accuracy: 0.9789 - val_loss: 0.4063 - val_accuracy: 0.8947\n",
            "Epoch 217/256\n",
            "54/54 [==============================] - 1s 21ms/step - loss: 0.0529 - accuracy: 0.9784 - val_loss: 0.4139 - val_accuracy: 0.9105\n",
            "Epoch 218/256\n",
            "54/54 [==============================] - 1s 19ms/step - loss: 0.0547 - accuracy: 0.9795 - val_loss: 0.4009 - val_accuracy: 0.9000\n",
            "Epoch 219/256\n",
            "54/54 [==============================] - 1s 21ms/step - loss: 0.0524 - accuracy: 0.9819 - val_loss: 0.4166 - val_accuracy: 0.9105\n",
            "Epoch 220/256\n",
            "54/54 [==============================] - 1s 19ms/step - loss: 0.0559 - accuracy: 0.9795 - val_loss: 0.4131 - val_accuracy: 0.9053\n",
            "Epoch 221/256\n",
            "54/54 [==============================] - 1s 20ms/step - loss: 0.0572 - accuracy: 0.9760 - val_loss: 0.4104 - val_accuracy: 0.9053\n",
            "Epoch 222/256\n",
            "54/54 [==============================] - 1s 18ms/step - loss: 0.0569 - accuracy: 0.9772 - val_loss: 0.4108 - val_accuracy: 0.9105\n",
            "Epoch 223/256\n",
            "54/54 [==============================] - 1s 18ms/step - loss: 0.0522 - accuracy: 0.9795 - val_loss: 0.4288 - val_accuracy: 0.9053\n",
            "Epoch 224/256\n",
            "54/54 [==============================] - 1s 19ms/step - loss: 0.0554 - accuracy: 0.9789 - val_loss: 0.3908 - val_accuracy: 0.9053\n",
            "Epoch 225/256\n",
            "54/54 [==============================] - 1s 18ms/step - loss: 0.0534 - accuracy: 0.9807 - val_loss: 0.4007 - val_accuracy: 0.9053\n",
            "Epoch 226/256\n",
            "54/54 [==============================] - 1s 18ms/step - loss: 0.0542 - accuracy: 0.9754 - val_loss: 0.4258 - val_accuracy: 0.9053\n",
            "Epoch 227/256\n",
            "54/54 [==============================] - 1s 19ms/step - loss: 0.0532 - accuracy: 0.9778 - val_loss: 0.4287 - val_accuracy: 0.9105\n",
            "Epoch 228/256\n",
            "54/54 [==============================] - 1s 19ms/step - loss: 0.0520 - accuracy: 0.9801 - val_loss: 0.4087 - val_accuracy: 0.9000\n",
            "Epoch 229/256\n",
            "54/54 [==============================] - 1s 19ms/step - loss: 0.0525 - accuracy: 0.9795 - val_loss: 0.4317 - val_accuracy: 0.9158\n",
            "Epoch 230/256\n",
            "54/54 [==============================] - 1s 20ms/step - loss: 0.0518 - accuracy: 0.9807 - val_loss: 0.4150 - val_accuracy: 0.9053\n",
            "Epoch 231/256\n",
            "54/54 [==============================] - 1s 20ms/step - loss: 0.0526 - accuracy: 0.9801 - val_loss: 0.4183 - val_accuracy: 0.8895\n",
            "Epoch 232/256\n",
            "54/54 [==============================] - 1s 20ms/step - loss: 0.0549 - accuracy: 0.9795 - val_loss: 0.4480 - val_accuracy: 0.9105\n",
            "Epoch 233/256\n",
            "54/54 [==============================] - 1s 20ms/step - loss: 0.0518 - accuracy: 0.9789 - val_loss: 0.4344 - val_accuracy: 0.9105\n",
            "Epoch 234/256\n",
            "54/54 [==============================] - 1s 19ms/step - loss: 0.0517 - accuracy: 0.9813 - val_loss: 0.4360 - val_accuracy: 0.8947\n",
            "Epoch 235/256\n",
            "54/54 [==============================] - 1s 18ms/step - loss: 0.0533 - accuracy: 0.9789 - val_loss: 0.4192 - val_accuracy: 0.8947\n",
            "Epoch 236/256\n",
            "54/54 [==============================] - 1s 18ms/step - loss: 0.0529 - accuracy: 0.9778 - val_loss: 0.4530 - val_accuracy: 0.9105\n",
            "Epoch 237/256\n",
            "54/54 [==============================] - 1s 19ms/step - loss: 0.0536 - accuracy: 0.9766 - val_loss: 0.4017 - val_accuracy: 0.9053\n",
            "Epoch 238/256\n",
            "54/54 [==============================] - 1s 19ms/step - loss: 0.0522 - accuracy: 0.9789 - val_loss: 0.4121 - val_accuracy: 0.9053\n",
            "Epoch 239/256\n",
            "54/54 [==============================] - 1s 20ms/step - loss: 0.0513 - accuracy: 0.9825 - val_loss: 0.4243 - val_accuracy: 0.8947\n",
            "Epoch 240/256\n",
            "54/54 [==============================] - 1s 20ms/step - loss: 0.0526 - accuracy: 0.9801 - val_loss: 0.4565 - val_accuracy: 0.9000\n",
            "Epoch 241/256\n",
            "54/54 [==============================] - 1s 21ms/step - loss: 0.0540 - accuracy: 0.9807 - val_loss: 0.4228 - val_accuracy: 0.9053\n",
            "Epoch 242/256\n",
            "54/54 [==============================] - 1s 19ms/step - loss: 0.0516 - accuracy: 0.9789 - val_loss: 0.4426 - val_accuracy: 0.8947\n",
            "Epoch 243/256\n",
            "54/54 [==============================] - 1s 19ms/step - loss: 0.0538 - accuracy: 0.9784 - val_loss: 0.4542 - val_accuracy: 0.8947\n",
            "Epoch 244/256\n",
            "54/54 [==============================] - 1s 20ms/step - loss: 0.0479 - accuracy: 0.9830 - val_loss: 0.4197 - val_accuracy: 0.9000\n",
            "Epoch 245/256\n",
            "54/54 [==============================] - 1s 19ms/step - loss: 0.0489 - accuracy: 0.9813 - val_loss: 0.4314 - val_accuracy: 0.9000\n",
            "Epoch 246/256\n",
            "54/54 [==============================] - 1s 19ms/step - loss: 0.0491 - accuracy: 0.9807 - val_loss: 0.4335 - val_accuracy: 0.9053\n",
            "Epoch 247/256\n",
            "54/54 [==============================] - 1s 20ms/step - loss: 0.0476 - accuracy: 0.9819 - val_loss: 0.4390 - val_accuracy: 0.9053\n",
            "Epoch 248/256\n",
            "54/54 [==============================] - 1s 18ms/step - loss: 0.0499 - accuracy: 0.9830 - val_loss: 0.4269 - val_accuracy: 0.9000\n",
            "Epoch 249/256\n",
            "54/54 [==============================] - 1s 18ms/step - loss: 0.0512 - accuracy: 0.9825 - val_loss: 0.4174 - val_accuracy: 0.9053\n",
            "Epoch 250/256\n",
            "54/54 [==============================] - 1s 18ms/step - loss: 0.0495 - accuracy: 0.9819 - val_loss: 0.4386 - val_accuracy: 0.9053\n",
            "Epoch 251/256\n",
            "54/54 [==============================] - 1s 19ms/step - loss: 0.0498 - accuracy: 0.9801 - val_loss: 0.4120 - val_accuracy: 0.9000\n",
            "Epoch 252/256\n",
            "54/54 [==============================] - 1s 19ms/step - loss: 0.0507 - accuracy: 0.9778 - val_loss: 0.4177 - val_accuracy: 0.9105\n",
            "Epoch 253/256\n",
            "54/54 [==============================] - 1s 19ms/step - loss: 0.0512 - accuracy: 0.9807 - val_loss: 0.4367 - val_accuracy: 0.9053\n",
            "Epoch 254/256\n",
            "54/54 [==============================] - 1s 19ms/step - loss: 0.0493 - accuracy: 0.9807 - val_loss: 0.4478 - val_accuracy: 0.9053\n",
            "Epoch 255/256\n",
            "54/54 [==============================] - 1s 19ms/step - loss: 0.0508 - accuracy: 0.9784 - val_loss: 0.4351 - val_accuracy: 0.9053\n",
            "Epoch 256/256\n",
            "54/54 [==============================] - 1s 18ms/step - loss: 0.0491 - accuracy: 0.9819 - val_loss: 0.4116 - val_accuracy: 0.9053\n",
            "Epoch 1/256\n",
            " 4/27 [===>..........................] - ETA: 0s - loss: 0.0453 - accuracy: 0.9805"
          ]
        },
        {
          "output_type": "stream",
          "name": "stderr",
          "text": [
            "/usr/local/lib/python3.7/dist-packages/tensorflow/python/data/ops/structured_function.py:265: UserWarning: Even though the `tf.config.experimental_run_functions_eagerly` option is set, this option does not apply to tf.data functions. To force eager execution of tf.data functions, please use `tf.data.experimental.enable_debug_mode()`.\n",
            "  \"Even though the `tf.config.experimental_run_functions_eagerly` \"\n",
            "/usr/local/lib/python3.7/dist-packages/tensorflow/python/data/ops/structured_function.py:265: UserWarning: Even though the `tf.config.experimental_run_functions_eagerly` option is set, this option does not apply to tf.data functions. To force eager execution of tf.data functions, please use `tf.data.experimental.enable_debug_mode()`.\n",
            "  \"Even though the `tf.config.experimental_run_functions_eagerly` \"\n",
            "/usr/local/lib/python3.7/dist-packages/tensorflow/python/data/ops/structured_function.py:265: UserWarning: Even though the `tf.config.experimental_run_functions_eagerly` option is set, this option does not apply to tf.data functions. To force eager execution of tf.data functions, please use `tf.data.experimental.enable_debug_mode()`.\n",
            "  \"Even though the `tf.config.experimental_run_functions_eagerly` \"\n"
          ]
        },
        {
          "output_type": "stream",
          "name": "stdout",
          "text": [
            "27/27 [==============================] - 1s 22ms/step - loss: 0.0495 - accuracy: 0.9801 - val_loss: 0.4331 - val_accuracy: 0.9000\n",
            "Epoch 2/256\n",
            " 4/27 [===>..........................] - ETA: 0s - loss: 0.0435 - accuracy: 0.9805"
          ]
        },
        {
          "output_type": "stream",
          "name": "stderr",
          "text": [
            "/usr/local/lib/python3.7/dist-packages/tensorflow/python/data/ops/structured_function.py:265: UserWarning: Even though the `tf.config.experimental_run_functions_eagerly` option is set, this option does not apply to tf.data functions. To force eager execution of tf.data functions, please use `tf.data.experimental.enable_debug_mode()`.\n",
            "  \"Even though the `tf.config.experimental_run_functions_eagerly` \"\n"
          ]
        },
        {
          "output_type": "stream",
          "name": "stdout",
          "text": [
            "27/27 [==============================] - 1s 20ms/step - loss: 0.0476 - accuracy: 0.9801 - val_loss: 0.4314 - val_accuracy: 0.9000\n",
            "Epoch 3/256\n",
            "27/27 [==============================] - 1s 20ms/step - loss: 0.0468 - accuracy: 0.9807 - val_loss: 0.4301 - val_accuracy: 0.9053\n",
            "Epoch 4/256\n",
            "27/27 [==============================] - 1s 20ms/step - loss: 0.0455 - accuracy: 0.9825 - val_loss: 0.4339 - val_accuracy: 0.9000\n",
            "Epoch 5/256\n",
            "27/27 [==============================] - 1s 19ms/step - loss: 0.0454 - accuracy: 0.9836 - val_loss: 0.4238 - val_accuracy: 0.9000\n",
            "Epoch 6/256\n",
            "27/27 [==============================] - 1s 21ms/step - loss: 0.0467 - accuracy: 0.9813 - val_loss: 0.4271 - val_accuracy: 0.9053\n",
            "Epoch 7/256\n",
            "27/27 [==============================] - 1s 19ms/step - loss: 0.0452 - accuracy: 0.9825 - val_loss: 0.4332 - val_accuracy: 0.9053\n",
            "Epoch 8/256\n",
            "27/27 [==============================] - 1s 20ms/step - loss: 0.0449 - accuracy: 0.9825 - val_loss: 0.4315 - val_accuracy: 0.9053\n",
            "Epoch 9/256\n",
            "27/27 [==============================] - 1s 19ms/step - loss: 0.0451 - accuracy: 0.9830 - val_loss: 0.4393 - val_accuracy: 0.9053\n",
            "Epoch 10/256\n",
            "27/27 [==============================] - 1s 21ms/step - loss: 0.0449 - accuracy: 0.9836 - val_loss: 0.4287 - val_accuracy: 0.9105\n",
            "Epoch 11/256\n",
            "27/27 [==============================] - 0s 18ms/step - loss: 0.0443 - accuracy: 0.9836 - val_loss: 0.4316 - val_accuracy: 0.9053\n",
            "Epoch 12/256\n",
            "27/27 [==============================] - 1s 20ms/step - loss: 0.0441 - accuracy: 0.9854 - val_loss: 0.4332 - val_accuracy: 0.9000\n",
            "Epoch 13/256\n",
            "27/27 [==============================] - 1s 19ms/step - loss: 0.0461 - accuracy: 0.9813 - val_loss: 0.4234 - val_accuracy: 0.9053\n",
            "Epoch 14/256\n",
            "27/27 [==============================] - 1s 20ms/step - loss: 0.0444 - accuracy: 0.9825 - val_loss: 0.4412 - val_accuracy: 0.9053\n",
            "Epoch 15/256\n",
            "27/27 [==============================] - 0s 18ms/step - loss: 0.0449 - accuracy: 0.9836 - val_loss: 0.4313 - val_accuracy: 0.9053\n",
            "Epoch 16/256\n",
            "27/27 [==============================] - 1s 19ms/step - loss: 0.0461 - accuracy: 0.9854 - val_loss: 0.4328 - val_accuracy: 0.9053\n",
            "Epoch 17/256\n",
            "27/27 [==============================] - 0s 18ms/step - loss: 0.0453 - accuracy: 0.9830 - val_loss: 0.4306 - val_accuracy: 0.9053\n",
            "Epoch 18/256\n",
            "27/27 [==============================] - 1s 18ms/step - loss: 0.0470 - accuracy: 0.9813 - val_loss: 0.4425 - val_accuracy: 0.9053\n",
            "Epoch 19/256\n",
            "27/27 [==============================] - 0s 18ms/step - loss: 0.0447 - accuracy: 0.9842 - val_loss: 0.4374 - val_accuracy: 0.9053\n",
            "Epoch 20/256\n",
            "27/27 [==============================] - 1s 19ms/step - loss: 0.0440 - accuracy: 0.9830 - val_loss: 0.4410 - val_accuracy: 0.9053\n",
            "Epoch 21/256\n",
            "27/27 [==============================] - 0s 18ms/step - loss: 0.0460 - accuracy: 0.9842 - val_loss: 0.4372 - val_accuracy: 0.9053\n",
            "Epoch 22/256\n",
            "27/27 [==============================] - 1s 20ms/step - loss: 0.0442 - accuracy: 0.9842 - val_loss: 0.4469 - val_accuracy: 0.9105\n",
            "Epoch 23/256\n",
            "27/27 [==============================] - 1s 20ms/step - loss: 0.0467 - accuracy: 0.9825 - val_loss: 0.4370 - val_accuracy: 0.9053\n",
            "Epoch 24/256\n",
            "27/27 [==============================] - 1s 20ms/step - loss: 0.0447 - accuracy: 0.9830 - val_loss: 0.4357 - val_accuracy: 0.9053\n",
            "Epoch 25/256\n",
            "27/27 [==============================] - 1s 20ms/step - loss: 0.0439 - accuracy: 0.9842 - val_loss: 0.4453 - val_accuracy: 0.9053\n",
            "Epoch 26/256\n",
            "27/27 [==============================] - 0s 18ms/step - loss: 0.0448 - accuracy: 0.9848 - val_loss: 0.4347 - val_accuracy: 0.9000\n",
            "Epoch 27/256\n",
            "27/27 [==============================] - 1s 19ms/step - loss: 0.0441 - accuracy: 0.9842 - val_loss: 0.4472 - val_accuracy: 0.9053\n",
            "Epoch 28/256\n",
            "27/27 [==============================] - 1s 20ms/step - loss: 0.0442 - accuracy: 0.9825 - val_loss: 0.4393 - val_accuracy: 0.9000\n",
            "Epoch 29/256\n",
            "27/27 [==============================] - 1s 20ms/step - loss: 0.0445 - accuracy: 0.9830 - val_loss: 0.4579 - val_accuracy: 0.9053\n",
            "Epoch 30/256\n",
            "27/27 [==============================] - 1s 19ms/step - loss: 0.0454 - accuracy: 0.9830 - val_loss: 0.4378 - val_accuracy: 0.9000\n",
            "Epoch 31/256\n",
            "27/27 [==============================] - 1s 21ms/step - loss: 0.0440 - accuracy: 0.9830 - val_loss: 0.4460 - val_accuracy: 0.9053\n",
            "Epoch 32/256\n",
            "27/27 [==============================] - 1s 20ms/step - loss: 0.0437 - accuracy: 0.9842 - val_loss: 0.4399 - val_accuracy: 0.9053\n",
            "Epoch 33/256\n",
            "27/27 [==============================] - 0s 18ms/step - loss: 0.0445 - accuracy: 0.9819 - val_loss: 0.4565 - val_accuracy: 0.9053\n",
            "Epoch 34/256\n",
            "27/27 [==============================] - 1s 20ms/step - loss: 0.0460 - accuracy: 0.9825 - val_loss: 0.4396 - val_accuracy: 0.9000\n",
            "Epoch 35/256\n",
            "27/27 [==============================] - 1s 20ms/step - loss: 0.0444 - accuracy: 0.9825 - val_loss: 0.4344 - val_accuracy: 0.9053\n",
            "Epoch 36/256\n",
            "27/27 [==============================] - 1s 20ms/step - loss: 0.0440 - accuracy: 0.9830 - val_loss: 0.4469 - val_accuracy: 0.9053\n",
            "Epoch 37/256\n",
            "27/27 [==============================] - 1s 21ms/step - loss: 0.0440 - accuracy: 0.9836 - val_loss: 0.4630 - val_accuracy: 0.9000\n",
            "Epoch 38/256\n",
            "27/27 [==============================] - 1s 19ms/step - loss: 0.0464 - accuracy: 0.9819 - val_loss: 0.4622 - val_accuracy: 0.9000\n",
            "Epoch 39/256\n",
            "27/27 [==============================] - 1s 19ms/step - loss: 0.0444 - accuracy: 0.9813 - val_loss: 0.4394 - val_accuracy: 0.9053\n",
            "Epoch 40/256\n",
            "27/27 [==============================] - 0s 18ms/step - loss: 0.0465 - accuracy: 0.9819 - val_loss: 0.4541 - val_accuracy: 0.9053\n",
            "Epoch 41/256\n",
            "27/27 [==============================] - 1s 22ms/step - loss: 0.0445 - accuracy: 0.9842 - val_loss: 0.4515 - val_accuracy: 0.9053\n",
            "Epoch 42/256\n",
            "27/27 [==============================] - 1s 21ms/step - loss: 0.0451 - accuracy: 0.9807 - val_loss: 0.4575 - val_accuracy: 0.9053\n",
            "Epoch 43/256\n",
            "27/27 [==============================] - 1s 20ms/step - loss: 0.0440 - accuracy: 0.9813 - val_loss: 0.4355 - val_accuracy: 0.9000\n",
            "Epoch 44/256\n",
            "27/27 [==============================] - 1s 19ms/step - loss: 0.0436 - accuracy: 0.9842 - val_loss: 0.4580 - val_accuracy: 0.9053\n",
            "Epoch 45/256\n",
            "27/27 [==============================] - 0s 18ms/step - loss: 0.0461 - accuracy: 0.9819 - val_loss: 0.4354 - val_accuracy: 0.9000\n",
            "Epoch 46/256\n",
            "27/27 [==============================] - 1s 20ms/step - loss: 0.0427 - accuracy: 0.9830 - val_loss: 0.4555 - val_accuracy: 0.8947\n",
            "Epoch 47/256\n",
            "27/27 [==============================] - 0s 18ms/step - loss: 0.0455 - accuracy: 0.9825 - val_loss: 0.4373 - val_accuracy: 0.9053\n",
            "Epoch 48/256\n",
            "27/27 [==============================] - 1s 20ms/step - loss: 0.0435 - accuracy: 0.9801 - val_loss: 0.4501 - val_accuracy: 0.9053\n",
            "Epoch 49/256\n",
            "27/27 [==============================] - 1s 20ms/step - loss: 0.0428 - accuracy: 0.9842 - val_loss: 0.4435 - val_accuracy: 0.9053\n",
            "Epoch 50/256\n",
            "27/27 [==============================] - 1s 21ms/step - loss: 0.0426 - accuracy: 0.9825 - val_loss: 0.4441 - val_accuracy: 0.9000\n",
            "Epoch 51/256\n",
            "27/27 [==============================] - 1s 20ms/step - loss: 0.0460 - accuracy: 0.9789 - val_loss: 0.4496 - val_accuracy: 0.9000\n",
            "Epoch 52/256\n",
            "27/27 [==============================] - 1s 19ms/step - loss: 0.0446 - accuracy: 0.9825 - val_loss: 0.4688 - val_accuracy: 0.9053\n",
            "Epoch 53/256\n",
            "27/27 [==============================] - 1s 19ms/step - loss: 0.0437 - accuracy: 0.9801 - val_loss: 0.4546 - val_accuracy: 0.9000\n",
            "Epoch 54/256\n",
            "27/27 [==============================] - 1s 20ms/step - loss: 0.0445 - accuracy: 0.9854 - val_loss: 0.4288 - val_accuracy: 0.9105\n",
            "Epoch 55/256\n",
            "27/27 [==============================] - 0s 18ms/step - loss: 0.0438 - accuracy: 0.9830 - val_loss: 0.4663 - val_accuracy: 0.9000\n",
            "Epoch 56/256\n",
            "27/27 [==============================] - 1s 18ms/step - loss: 0.0432 - accuracy: 0.9825 - val_loss: 0.4530 - val_accuracy: 0.9053\n",
            "Epoch 57/256\n",
            "27/27 [==============================] - 1s 19ms/step - loss: 0.0429 - accuracy: 0.9842 - val_loss: 0.4534 - val_accuracy: 0.9053\n",
            "Epoch 58/256\n",
            "27/27 [==============================] - 0s 18ms/step - loss: 0.0435 - accuracy: 0.9807 - val_loss: 0.4474 - val_accuracy: 0.9105\n",
            "Epoch 59/256\n",
            "27/27 [==============================] - 1s 19ms/step - loss: 0.0435 - accuracy: 0.9801 - val_loss: 0.4470 - val_accuracy: 0.9158\n",
            "Epoch 60/256\n",
            "27/27 [==============================] - 1s 21ms/step - loss: 0.0424 - accuracy: 0.9854 - val_loss: 0.4534 - val_accuracy: 0.9053\n",
            "Epoch 61/256\n",
            "27/27 [==============================] - 1s 21ms/step - loss: 0.0423 - accuracy: 0.9825 - val_loss: 0.4473 - val_accuracy: 0.9105\n",
            "Epoch 62/256\n",
            "27/27 [==============================] - 1s 19ms/step - loss: 0.0421 - accuracy: 0.9848 - val_loss: 0.4452 - val_accuracy: 0.9053\n",
            "Epoch 63/256\n",
            "27/27 [==============================] - 1s 21ms/step - loss: 0.0442 - accuracy: 0.9830 - val_loss: 0.4491 - val_accuracy: 0.9000\n",
            "Epoch 64/256\n",
            "27/27 [==============================] - 1s 19ms/step - loss: 0.0438 - accuracy: 0.9836 - val_loss: 0.4480 - val_accuracy: 0.9053\n",
            "Epoch 65/256\n",
            "27/27 [==============================] - 1s 20ms/step - loss: 0.0433 - accuracy: 0.9836 - val_loss: 0.4675 - val_accuracy: 0.8947\n",
            "Epoch 66/256\n",
            "27/27 [==============================] - 1s 20ms/step - loss: 0.0412 - accuracy: 0.9848 - val_loss: 0.4497 - val_accuracy: 0.9053\n",
            "Epoch 67/256\n",
            "27/27 [==============================] - 1s 20ms/step - loss: 0.0417 - accuracy: 0.9848 - val_loss: 0.4572 - val_accuracy: 0.9000\n",
            "Epoch 68/256\n",
            "27/27 [==============================] - 1s 20ms/step - loss: 0.0419 - accuracy: 0.9842 - val_loss: 0.4500 - val_accuracy: 0.9053\n",
            "Epoch 69/256\n",
            "27/27 [==============================] - 1s 21ms/step - loss: 0.0421 - accuracy: 0.9825 - val_loss: 0.4723 - val_accuracy: 0.9053\n",
            "Epoch 70/256\n",
            "27/27 [==============================] - 1s 20ms/step - loss: 0.0434 - accuracy: 0.9825 - val_loss: 0.4476 - val_accuracy: 0.9105\n",
            "Epoch 71/256\n",
            "27/27 [==============================] - 1s 19ms/step - loss: 0.0431 - accuracy: 0.9819 - val_loss: 0.4632 - val_accuracy: 0.9000\n",
            "Epoch 72/256\n",
            "27/27 [==============================] - 1s 20ms/step - loss: 0.0429 - accuracy: 0.9830 - val_loss: 0.4676 - val_accuracy: 0.9053\n",
            "Epoch 73/256\n",
            "27/27 [==============================] - 1s 20ms/step - loss: 0.0434 - accuracy: 0.9842 - val_loss: 0.4603 - val_accuracy: 0.9053\n",
            "Epoch 74/256\n",
            "27/27 [==============================] - 1s 19ms/step - loss: 0.0418 - accuracy: 0.9842 - val_loss: 0.4588 - val_accuracy: 0.9053\n",
            "Epoch 75/256\n",
            "27/27 [==============================] - 1s 20ms/step - loss: 0.0411 - accuracy: 0.9860 - val_loss: 0.4574 - val_accuracy: 0.9000\n",
            "Epoch 76/256\n",
            "27/27 [==============================] - 1s 20ms/step - loss: 0.0417 - accuracy: 0.9842 - val_loss: 0.4629 - val_accuracy: 0.9053\n",
            "Epoch 77/256\n",
            "27/27 [==============================] - 1s 21ms/step - loss: 0.0422 - accuracy: 0.9865 - val_loss: 0.4556 - val_accuracy: 0.9053\n",
            "Epoch 78/256\n",
            "27/27 [==============================] - 1s 19ms/step - loss: 0.0430 - accuracy: 0.9830 - val_loss: 0.4586 - val_accuracy: 0.9053\n",
            "Epoch 79/256\n",
            "27/27 [==============================] - 1s 20ms/step - loss: 0.0408 - accuracy: 0.9848 - val_loss: 0.4582 - val_accuracy: 0.9053\n",
            "Epoch 80/256\n",
            "27/27 [==============================] - 1s 21ms/step - loss: 0.0411 - accuracy: 0.9836 - val_loss: 0.4633 - val_accuracy: 0.9105\n",
            "Epoch 81/256\n",
            "27/27 [==============================] - 1s 20ms/step - loss: 0.0407 - accuracy: 0.9860 - val_loss: 0.4542 - val_accuracy: 0.9000\n",
            "Epoch 82/256\n",
            "27/27 [==============================] - 1s 19ms/step - loss: 0.0406 - accuracy: 0.9848 - val_loss: 0.4743 - val_accuracy: 0.9053\n",
            "Epoch 83/256\n",
            "27/27 [==============================] - 1s 21ms/step - loss: 0.0448 - accuracy: 0.9830 - val_loss: 0.4613 - val_accuracy: 0.9053\n",
            "Epoch 84/256\n",
            "27/27 [==============================] - 1s 20ms/step - loss: 0.0459 - accuracy: 0.9807 - val_loss: 0.4541 - val_accuracy: 0.9105\n",
            "Epoch 85/256\n",
            "27/27 [==============================] - 1s 20ms/step - loss: 0.0401 - accuracy: 0.9842 - val_loss: 0.4696 - val_accuracy: 0.9000\n",
            "Epoch 86/256\n",
            "27/27 [==============================] - 1s 21ms/step - loss: 0.0404 - accuracy: 0.9865 - val_loss: 0.4841 - val_accuracy: 0.8895\n",
            "Epoch 87/256\n",
            "27/27 [==============================] - 0s 18ms/step - loss: 0.0419 - accuracy: 0.9848 - val_loss: 0.4698 - val_accuracy: 0.9053\n",
            "Epoch 88/256\n",
            "27/27 [==============================] - 1s 21ms/step - loss: 0.0424 - accuracy: 0.9848 - val_loss: 0.4632 - val_accuracy: 0.9105\n",
            "Epoch 89/256\n",
            "27/27 [==============================] - 1s 21ms/step - loss: 0.0419 - accuracy: 0.9819 - val_loss: 0.4554 - val_accuracy: 0.9053\n",
            "Epoch 90/256\n",
            "27/27 [==============================] - 1s 21ms/step - loss: 0.0429 - accuracy: 0.9819 - val_loss: 0.4537 - val_accuracy: 0.9105\n",
            "Epoch 91/256\n",
            "27/27 [==============================] - 0s 18ms/step - loss: 0.0403 - accuracy: 0.9854 - val_loss: 0.4593 - val_accuracy: 0.9105\n",
            "Epoch 92/256\n",
            "27/27 [==============================] - 1s 21ms/step - loss: 0.0406 - accuracy: 0.9836 - val_loss: 0.4851 - val_accuracy: 0.9000\n",
            "Epoch 93/256\n",
            "27/27 [==============================] - 1s 20ms/step - loss: 0.0414 - accuracy: 0.9825 - val_loss: 0.4573 - val_accuracy: 0.9000\n",
            "Epoch 94/256\n",
            "27/27 [==============================] - 1s 19ms/step - loss: 0.0424 - accuracy: 0.9854 - val_loss: 0.4572 - val_accuracy: 0.9105\n",
            "Epoch 95/256\n",
            "27/27 [==============================] - 1s 20ms/step - loss: 0.0405 - accuracy: 0.9848 - val_loss: 0.4724 - val_accuracy: 0.8947\n",
            "Epoch 96/256\n",
            "27/27 [==============================] - 1s 21ms/step - loss: 0.0419 - accuracy: 0.9842 - val_loss: 0.4703 - val_accuracy: 0.9000\n",
            "Epoch 97/256\n",
            "27/27 [==============================] - 1s 20ms/step - loss: 0.0407 - accuracy: 0.9848 - val_loss: 0.4685 - val_accuracy: 0.9053\n",
            "Epoch 98/256\n",
            "27/27 [==============================] - 1s 20ms/step - loss: 0.0406 - accuracy: 0.9836 - val_loss: 0.4669 - val_accuracy: 0.9000\n",
            "Epoch 99/256\n",
            "27/27 [==============================] - 1s 19ms/step - loss: 0.0427 - accuracy: 0.9801 - val_loss: 0.4621 - val_accuracy: 0.9105\n",
            "Epoch 100/256\n",
            "27/27 [==============================] - 1s 20ms/step - loss: 0.0430 - accuracy: 0.9830 - val_loss: 0.4733 - val_accuracy: 0.9000\n",
            "Epoch 101/256\n",
            "27/27 [==============================] - 1s 20ms/step - loss: 0.0406 - accuracy: 0.9830 - val_loss: 0.4717 - val_accuracy: 0.9000\n",
            "Epoch 102/256\n",
            "27/27 [==============================] - 1s 18ms/step - loss: 0.0397 - accuracy: 0.9860 - val_loss: 0.4709 - val_accuracy: 0.8947\n",
            "Epoch 103/256\n",
            "27/27 [==============================] - 1s 19ms/step - loss: 0.0398 - accuracy: 0.9842 - val_loss: 0.4694 - val_accuracy: 0.9053\n",
            "Epoch 104/256\n",
            "27/27 [==============================] - 1s 20ms/step - loss: 0.0389 - accuracy: 0.9854 - val_loss: 0.4623 - val_accuracy: 0.9053\n",
            "Epoch 105/256\n",
            "27/27 [==============================] - 1s 21ms/step - loss: 0.0396 - accuracy: 0.9836 - val_loss: 0.4589 - val_accuracy: 0.9105\n",
            "Epoch 106/256\n",
            "27/27 [==============================] - 1s 20ms/step - loss: 0.0405 - accuracy: 0.9842 - val_loss: 0.4677 - val_accuracy: 0.9053\n",
            "Epoch 107/256\n",
            "27/27 [==============================] - 1s 20ms/step - loss: 0.0401 - accuracy: 0.9860 - val_loss: 0.4879 - val_accuracy: 0.8947\n",
            "Epoch 108/256\n",
            "27/27 [==============================] - 1s 24ms/step - loss: 0.0404 - accuracy: 0.9865 - val_loss: 0.4714 - val_accuracy: 0.8947\n",
            "Epoch 109/256\n",
            "27/27 [==============================] - 1s 26ms/step - loss: 0.0397 - accuracy: 0.9848 - val_loss: 0.4517 - val_accuracy: 0.9053\n",
            "Epoch 110/256\n",
            "27/27 [==============================] - 1s 29ms/step - loss: 0.0425 - accuracy: 0.9819 - val_loss: 0.4914 - val_accuracy: 0.9000\n",
            "Epoch 111/256\n",
            "27/27 [==============================] - 1s 26ms/step - loss: 0.0402 - accuracy: 0.9842 - val_loss: 0.4671 - val_accuracy: 0.8947\n",
            "Epoch 112/256\n",
            "27/27 [==============================] - 1s 21ms/step - loss: 0.0400 - accuracy: 0.9860 - val_loss: 0.4641 - val_accuracy: 0.9105\n",
            "Epoch 113/256\n",
            "27/27 [==============================] - 1s 22ms/step - loss: 0.0407 - accuracy: 0.9830 - val_loss: 0.4768 - val_accuracy: 0.9053\n",
            "Epoch 114/256\n",
            "27/27 [==============================] - 1s 19ms/step - loss: 0.0386 - accuracy: 0.9848 - val_loss: 0.4663 - val_accuracy: 0.9053\n",
            "Epoch 115/256\n",
            "27/27 [==============================] - 1s 21ms/step - loss: 0.0395 - accuracy: 0.9830 - val_loss: 0.4976 - val_accuracy: 0.9000\n",
            "Epoch 116/256\n",
            "27/27 [==============================] - 1s 20ms/step - loss: 0.0395 - accuracy: 0.9848 - val_loss: 0.4610 - val_accuracy: 0.9053\n",
            "Epoch 117/256\n",
            "27/27 [==============================] - 1s 21ms/step - loss: 0.0398 - accuracy: 0.9848 - val_loss: 0.4931 - val_accuracy: 0.9000\n",
            "Epoch 118/256\n",
            "27/27 [==============================] - 1s 20ms/step - loss: 0.0409 - accuracy: 0.9854 - val_loss: 0.4847 - val_accuracy: 0.9053\n",
            "Epoch 119/256\n",
            "27/27 [==============================] - 1s 20ms/step - loss: 0.0430 - accuracy: 0.9836 - val_loss: 0.4752 - val_accuracy: 0.9053\n",
            "Epoch 120/256\n",
            "27/27 [==============================] - 1s 21ms/step - loss: 0.0413 - accuracy: 0.9836 - val_loss: 0.4729 - val_accuracy: 0.9053\n",
            "Epoch 121/256\n",
            "27/27 [==============================] - 1s 20ms/step - loss: 0.0403 - accuracy: 0.9848 - val_loss: 0.4668 - val_accuracy: 0.9105\n",
            "Epoch 122/256\n",
            "27/27 [==============================] - 1s 22ms/step - loss: 0.0397 - accuracy: 0.9865 - val_loss: 0.4583 - val_accuracy: 0.9105\n",
            "Epoch 123/256\n",
            "27/27 [==============================] - 1s 20ms/step - loss: 0.0403 - accuracy: 0.9825 - val_loss: 0.4669 - val_accuracy: 0.8947\n",
            "Epoch 124/256\n",
            "27/27 [==============================] - 1s 21ms/step - loss: 0.0405 - accuracy: 0.9854 - val_loss: 0.4782 - val_accuracy: 0.9000\n",
            "Epoch 125/256\n",
            "27/27 [==============================] - 1s 21ms/step - loss: 0.0382 - accuracy: 0.9836 - val_loss: 0.4903 - val_accuracy: 0.9000\n",
            "Epoch 126/256\n",
            "27/27 [==============================] - 1s 22ms/step - loss: 0.0416 - accuracy: 0.9813 - val_loss: 0.4886 - val_accuracy: 0.9053\n",
            "Epoch 127/256\n",
            "27/27 [==============================] - 1s 21ms/step - loss: 0.0388 - accuracy: 0.9830 - val_loss: 0.4729 - val_accuracy: 0.9105\n",
            "Epoch 128/256\n",
            "27/27 [==============================] - 1s 20ms/step - loss: 0.0389 - accuracy: 0.9842 - val_loss: 0.4677 - val_accuracy: 0.9053\n",
            "Epoch 129/256\n",
            "27/27 [==============================] - 1s 20ms/step - loss: 0.0390 - accuracy: 0.9825 - val_loss: 0.4707 - val_accuracy: 0.9053\n",
            "Epoch 130/256\n",
            "27/27 [==============================] - 1s 21ms/step - loss: 0.0409 - accuracy: 0.9825 - val_loss: 0.4769 - val_accuracy: 0.9000\n",
            "Epoch 131/256\n",
            "27/27 [==============================] - 1s 21ms/step - loss: 0.0410 - accuracy: 0.9825 - val_loss: 0.4684 - val_accuracy: 0.9053\n",
            "Epoch 132/256\n",
            "27/27 [==============================] - 1s 19ms/step - loss: 0.0429 - accuracy: 0.9830 - val_loss: 0.4757 - val_accuracy: 0.9000\n",
            "Epoch 133/256\n",
            "27/27 [==============================] - 1s 21ms/step - loss: 0.0441 - accuracy: 0.9819 - val_loss: 0.4803 - val_accuracy: 0.9158\n",
            "Epoch 134/256\n",
            "27/27 [==============================] - 1s 20ms/step - loss: 0.0386 - accuracy: 0.9836 - val_loss: 0.4793 - val_accuracy: 0.9053\n",
            "Epoch 135/256\n",
            "27/27 [==============================] - 1s 21ms/step - loss: 0.0390 - accuracy: 0.9842 - val_loss: 0.4726 - val_accuracy: 0.9105\n",
            "Epoch 136/256\n",
            "27/27 [==============================] - 1s 21ms/step - loss: 0.0393 - accuracy: 0.9860 - val_loss: 0.4923 - val_accuracy: 0.9105\n",
            "Epoch 137/256\n",
            "27/27 [==============================] - 1s 20ms/step - loss: 0.0384 - accuracy: 0.9842 - val_loss: 0.4963 - val_accuracy: 0.9053\n",
            "Epoch 138/256\n",
            "27/27 [==============================] - 1s 21ms/step - loss: 0.0399 - accuracy: 0.9842 - val_loss: 0.4755 - val_accuracy: 0.9053\n",
            "Epoch 139/256\n",
            "27/27 [==============================] - 1s 20ms/step - loss: 0.0398 - accuracy: 0.9825 - val_loss: 0.4645 - val_accuracy: 0.9105\n",
            "Epoch 140/256\n",
            "27/27 [==============================] - 1s 19ms/step - loss: 0.0394 - accuracy: 0.9842 - val_loss: 0.4829 - val_accuracy: 0.9053\n",
            "Epoch 141/256\n",
            "27/27 [==============================] - 1s 20ms/step - loss: 0.0381 - accuracy: 0.9860 - val_loss: 0.5039 - val_accuracy: 0.9158\n",
            "Epoch 142/256\n",
            "27/27 [==============================] - 1s 20ms/step - loss: 0.0372 - accuracy: 0.9865 - val_loss: 0.4673 - val_accuracy: 0.9105\n",
            "Epoch 143/256\n",
            "27/27 [==============================] - 1s 20ms/step - loss: 0.0380 - accuracy: 0.9842 - val_loss: 0.5050 - val_accuracy: 0.9000\n",
            "Epoch 144/256\n",
            "27/27 [==============================] - 1s 21ms/step - loss: 0.0379 - accuracy: 0.9836 - val_loss: 0.4941 - val_accuracy: 0.9053\n",
            "Epoch 145/256\n",
            "27/27 [==============================] - 1s 21ms/step - loss: 0.0384 - accuracy: 0.9842 - val_loss: 0.4939 - val_accuracy: 0.9053\n",
            "Epoch 146/256\n",
            "27/27 [==============================] - 1s 21ms/step - loss: 0.0376 - accuracy: 0.9848 - val_loss: 0.4894 - val_accuracy: 0.9053\n",
            "Epoch 147/256\n",
            "27/27 [==============================] - 1s 18ms/step - loss: 0.0385 - accuracy: 0.9860 - val_loss: 0.4975 - val_accuracy: 0.9000\n",
            "Epoch 148/256\n",
            "27/27 [==============================] - 1s 19ms/step - loss: 0.0374 - accuracy: 0.9848 - val_loss: 0.4966 - val_accuracy: 0.9053\n",
            "Epoch 149/256\n",
            "27/27 [==============================] - 1s 19ms/step - loss: 0.0374 - accuracy: 0.9877 - val_loss: 0.4842 - val_accuracy: 0.9053\n",
            "Epoch 150/256\n",
            "27/27 [==============================] - 1s 20ms/step - loss: 0.0360 - accuracy: 0.9854 - val_loss: 0.4986 - val_accuracy: 0.8947\n",
            "Epoch 151/256\n",
            "27/27 [==============================] - 1s 20ms/step - loss: 0.0389 - accuracy: 0.9848 - val_loss: 0.4854 - val_accuracy: 0.9000\n",
            "Epoch 152/256\n",
            "27/27 [==============================] - 1s 21ms/step - loss: 0.0379 - accuracy: 0.9836 - val_loss: 0.5123 - val_accuracy: 0.9000\n",
            "Epoch 153/256\n",
            "27/27 [==============================] - 1s 21ms/step - loss: 0.0397 - accuracy: 0.9830 - val_loss: 0.4993 - val_accuracy: 0.9000\n",
            "Epoch 154/256\n",
            "27/27 [==============================] - 1s 20ms/step - loss: 0.0359 - accuracy: 0.9865 - val_loss: 0.4839 - val_accuracy: 0.9053\n",
            "Epoch 155/256\n",
            "27/27 [==============================] - 1s 21ms/step - loss: 0.0371 - accuracy: 0.9860 - val_loss: 0.4926 - val_accuracy: 0.9000\n",
            "Epoch 156/256\n",
            "27/27 [==============================] - 1s 20ms/step - loss: 0.0359 - accuracy: 0.9854 - val_loss: 0.4939 - val_accuracy: 0.9000\n",
            "Epoch 157/256\n",
            "27/27 [==============================] - 1s 18ms/step - loss: 0.0377 - accuracy: 0.9860 - val_loss: 0.5004 - val_accuracy: 0.9000\n",
            "Epoch 158/256\n",
            "27/27 [==============================] - 1s 20ms/step - loss: 0.0381 - accuracy: 0.9848 - val_loss: 0.4951 - val_accuracy: 0.9105\n",
            "Epoch 159/256\n",
            "27/27 [==============================] - 1s 21ms/step - loss: 0.0394 - accuracy: 0.9836 - val_loss: 0.4664 - val_accuracy: 0.9053\n",
            "Epoch 160/256\n",
            "27/27 [==============================] - 1s 18ms/step - loss: 0.0392 - accuracy: 0.9842 - val_loss: 0.4780 - val_accuracy: 0.9105\n",
            "Epoch 161/256\n",
            "27/27 [==============================] - 1s 21ms/step - loss: 0.0366 - accuracy: 0.9836 - val_loss: 0.4755 - val_accuracy: 0.9000\n",
            "Epoch 162/256\n",
            "27/27 [==============================] - 1s 20ms/step - loss: 0.0369 - accuracy: 0.9860 - val_loss: 0.4807 - val_accuracy: 0.9105\n",
            "Epoch 163/256\n",
            "27/27 [==============================] - 1s 20ms/step - loss: 0.0366 - accuracy: 0.9848 - val_loss: 0.4781 - val_accuracy: 0.9000\n",
            "Epoch 164/256\n",
            "27/27 [==============================] - 1s 19ms/step - loss: 0.0354 - accuracy: 0.9883 - val_loss: 0.4856 - val_accuracy: 0.9000\n",
            "Epoch 165/256\n",
            "27/27 [==============================] - 1s 20ms/step - loss: 0.0360 - accuracy: 0.9842 - val_loss: 0.4960 - val_accuracy: 0.9000\n",
            "Epoch 166/256\n",
            "27/27 [==============================] - 1s 18ms/step - loss: 0.0390 - accuracy: 0.9836 - val_loss: 0.4874 - val_accuracy: 0.9000\n",
            "Epoch 167/256\n",
            "27/27 [==============================] - 1s 19ms/step - loss: 0.0380 - accuracy: 0.9854 - val_loss: 0.4838 - val_accuracy: 0.9105\n",
            "Epoch 168/256\n",
            "27/27 [==============================] - 1s 21ms/step - loss: 0.0362 - accuracy: 0.9842 - val_loss: 0.4852 - val_accuracy: 0.9105\n",
            "Epoch 169/256\n",
            "27/27 [==============================] - 1s 20ms/step - loss: 0.0357 - accuracy: 0.9877 - val_loss: 0.4918 - val_accuracy: 0.9000\n",
            "Epoch 170/256\n",
            "27/27 [==============================] - 1s 20ms/step - loss: 0.0350 - accuracy: 0.9848 - val_loss: 0.4922 - val_accuracy: 0.9000\n",
            "Epoch 171/256\n",
            "27/27 [==============================] - 1s 19ms/step - loss: 0.0389 - accuracy: 0.9842 - val_loss: 0.4823 - val_accuracy: 0.9158\n",
            "Epoch 172/256\n",
            "27/27 [==============================] - 1s 19ms/step - loss: 0.0396 - accuracy: 0.9819 - val_loss: 0.5128 - val_accuracy: 0.9053\n",
            "Epoch 173/256\n",
            "27/27 [==============================] - 1s 20ms/step - loss: 0.0354 - accuracy: 0.9871 - val_loss: 0.5031 - val_accuracy: 0.9000\n",
            "Epoch 174/256\n",
            "27/27 [==============================] - 1s 20ms/step - loss: 0.0357 - accuracy: 0.9871 - val_loss: 0.4826 - val_accuracy: 0.8947\n",
            "Epoch 175/256\n",
            "27/27 [==============================] - 1s 21ms/step - loss: 0.0355 - accuracy: 0.9854 - val_loss: 0.5185 - val_accuracy: 0.9053\n",
            "Epoch 176/256\n",
            "27/27 [==============================] - 1s 19ms/step - loss: 0.0354 - accuracy: 0.9871 - val_loss: 0.4854 - val_accuracy: 0.8947\n",
            "Epoch 177/256\n",
            "27/27 [==============================] - 1s 18ms/step - loss: 0.0372 - accuracy: 0.9854 - val_loss: 0.4991 - val_accuracy: 0.9000\n",
            "Epoch 178/256\n",
            "27/27 [==============================] - 1s 20ms/step - loss: 0.0356 - accuracy: 0.9860 - val_loss: 0.5107 - val_accuracy: 0.9000\n",
            "Epoch 179/256\n",
            "27/27 [==============================] - 1s 21ms/step - loss: 0.0393 - accuracy: 0.9871 - val_loss: 0.5063 - val_accuracy: 0.9000\n",
            "Epoch 180/256\n",
            "27/27 [==============================] - 1s 20ms/step - loss: 0.0355 - accuracy: 0.9871 - val_loss: 0.5058 - val_accuracy: 0.9053\n",
            "Epoch 181/256\n",
            "27/27 [==============================] - 1s 20ms/step - loss: 0.0365 - accuracy: 0.9842 - val_loss: 0.4832 - val_accuracy: 0.9053\n",
            "Epoch 182/256\n",
            "27/27 [==============================] - 1s 22ms/step - loss: 0.0380 - accuracy: 0.9836 - val_loss: 0.4922 - val_accuracy: 0.9000\n",
            "Epoch 183/256\n",
            "27/27 [==============================] - 1s 20ms/step - loss: 0.0381 - accuracy: 0.9860 - val_loss: 0.5002 - val_accuracy: 0.9000\n",
            "Epoch 184/256\n",
            "27/27 [==============================] - 1s 21ms/step - loss: 0.0376 - accuracy: 0.9836 - val_loss: 0.5024 - val_accuracy: 0.9000\n",
            "Epoch 185/256\n",
            "27/27 [==============================] - 1s 21ms/step - loss: 0.0375 - accuracy: 0.9854 - val_loss: 0.4980 - val_accuracy: 0.9000\n",
            "Epoch 186/256\n",
            "27/27 [==============================] - 1s 19ms/step - loss: 0.0346 - accuracy: 0.9889 - val_loss: 0.5009 - val_accuracy: 0.8947\n",
            "Epoch 187/256\n",
            "27/27 [==============================] - 1s 20ms/step - loss: 0.0362 - accuracy: 0.9836 - val_loss: 0.5137 - val_accuracy: 0.9053\n",
            "Epoch 188/256\n",
            "27/27 [==============================] - 1s 21ms/step - loss: 0.0351 - accuracy: 0.9865 - val_loss: 0.4998 - val_accuracy: 0.9000\n",
            "Epoch 189/256\n",
            "27/27 [==============================] - 1s 21ms/step - loss: 0.0368 - accuracy: 0.9836 - val_loss: 0.5074 - val_accuracy: 0.9000\n",
            "Epoch 190/256\n",
            "27/27 [==============================] - 1s 21ms/step - loss: 0.0352 - accuracy: 0.9860 - val_loss: 0.5238 - val_accuracy: 0.9000\n",
            "Epoch 191/256\n",
            "27/27 [==============================] - 1s 19ms/step - loss: 0.0349 - accuracy: 0.9871 - val_loss: 0.5079 - val_accuracy: 0.9000\n",
            "Epoch 192/256\n",
            "27/27 [==============================] - 1s 19ms/step - loss: 0.0343 - accuracy: 0.9871 - val_loss: 0.5144 - val_accuracy: 0.9053\n",
            "Epoch 193/256\n",
            "27/27 [==============================] - 1s 20ms/step - loss: 0.0343 - accuracy: 0.9883 - val_loss: 0.5125 - val_accuracy: 0.9000\n",
            "Epoch 194/256\n",
            "27/27 [==============================] - 1s 20ms/step - loss: 0.0343 - accuracy: 0.9865 - val_loss: 0.5151 - val_accuracy: 0.9000\n",
            "Epoch 195/256\n",
            "27/27 [==============================] - 1s 18ms/step - loss: 0.0355 - accuracy: 0.9854 - val_loss: 0.5196 - val_accuracy: 0.9000\n",
            "Epoch 196/256\n",
            "27/27 [==============================] - 1s 20ms/step - loss: 0.0366 - accuracy: 0.9854 - val_loss: 0.5250 - val_accuracy: 0.9105\n",
            "Epoch 197/256\n",
            "27/27 [==============================] - 1s 20ms/step - loss: 0.0379 - accuracy: 0.9836 - val_loss: 0.5155 - val_accuracy: 0.9000\n",
            "Epoch 198/256\n",
            "27/27 [==============================] - 1s 20ms/step - loss: 0.0352 - accuracy: 0.9871 - val_loss: 0.5021 - val_accuracy: 0.9000\n",
            "Epoch 199/256\n",
            "27/27 [==============================] - 1s 18ms/step - loss: 0.0358 - accuracy: 0.9848 - val_loss: 0.5174 - val_accuracy: 0.9000\n",
            "Epoch 200/256\n",
            "27/27 [==============================] - 1s 20ms/step - loss: 0.0348 - accuracy: 0.9883 - val_loss: 0.5000 - val_accuracy: 0.9105\n",
            "Epoch 201/256\n",
            "27/27 [==============================] - 1s 19ms/step - loss: 0.0345 - accuracy: 0.9877 - val_loss: 0.5041 - val_accuracy: 0.9105\n",
            "Epoch 202/256\n",
            "27/27 [==============================] - 1s 19ms/step - loss: 0.0339 - accuracy: 0.9883 - val_loss: 0.5120 - val_accuracy: 0.8947\n",
            "Epoch 203/256\n",
            "27/27 [==============================] - 1s 20ms/step - loss: 0.0365 - accuracy: 0.9865 - val_loss: 0.5171 - val_accuracy: 0.8947\n",
            "Epoch 204/256\n",
            "27/27 [==============================] - 1s 20ms/step - loss: 0.0342 - accuracy: 0.9865 - val_loss: 0.5179 - val_accuracy: 0.9000\n",
            "Epoch 205/256\n",
            "27/27 [==============================] - 1s 20ms/step - loss: 0.0345 - accuracy: 0.9871 - val_loss: 0.5139 - val_accuracy: 0.9000\n",
            "Epoch 206/256\n",
            "27/27 [==============================] - 1s 20ms/step - loss: 0.0339 - accuracy: 0.9883 - val_loss: 0.5090 - val_accuracy: 0.9053\n",
            "Epoch 207/256\n",
            "27/27 [==============================] - 1s 21ms/step - loss: 0.0341 - accuracy: 0.9877 - val_loss: 0.5253 - val_accuracy: 0.9000\n",
            "Epoch 208/256\n",
            "27/27 [==============================] - 1s 19ms/step - loss: 0.0362 - accuracy: 0.9877 - val_loss: 0.5232 - val_accuracy: 0.9000\n",
            "Epoch 209/256\n",
            "27/27 [==============================] - 1s 19ms/step - loss: 0.0332 - accuracy: 0.9877 - val_loss: 0.5241 - val_accuracy: 0.9000\n",
            "Epoch 210/256\n",
            "27/27 [==============================] - 1s 20ms/step - loss: 0.0324 - accuracy: 0.9883 - val_loss: 0.5254 - val_accuracy: 0.9105\n",
            "Epoch 211/256\n",
            "27/27 [==============================] - 1s 20ms/step - loss: 0.0338 - accuracy: 0.9865 - val_loss: 0.5195 - val_accuracy: 0.9000\n",
            "Epoch 212/256\n",
            "27/27 [==============================] - 1s 21ms/step - loss: 0.0326 - accuracy: 0.9906 - val_loss: 0.5321 - val_accuracy: 0.9000\n",
            "Epoch 213/256\n",
            "27/27 [==============================] - 1s 20ms/step - loss: 0.0337 - accuracy: 0.9895 - val_loss: 0.5023 - val_accuracy: 0.9000\n",
            "Epoch 214/256\n",
            "27/27 [==============================] - 1s 21ms/step - loss: 0.0345 - accuracy: 0.9854 - val_loss: 0.5520 - val_accuracy: 0.9000\n",
            "Epoch 215/256\n",
            "27/27 [==============================] - 1s 21ms/step - loss: 0.0373 - accuracy: 0.9860 - val_loss: 0.5045 - val_accuracy: 0.9053\n",
            "Epoch 216/256\n",
            "27/27 [==============================] - 1s 21ms/step - loss: 0.0332 - accuracy: 0.9889 - val_loss: 0.5288 - val_accuracy: 0.9000\n",
            "Epoch 217/256\n",
            "27/27 [==============================] - 1s 20ms/step - loss: 0.0350 - accuracy: 0.9865 - val_loss: 0.5137 - val_accuracy: 0.9053\n",
            "Epoch 218/256\n",
            "27/27 [==============================] - 1s 19ms/step - loss: 0.0336 - accuracy: 0.9877 - val_loss: 0.5098 - val_accuracy: 0.9053\n",
            "Epoch 219/256\n",
            "27/27 [==============================] - 1s 19ms/step - loss: 0.0350 - accuracy: 0.9860 - val_loss: 0.5344 - val_accuracy: 0.9000\n",
            "Epoch 220/256\n",
            "27/27 [==============================] - 1s 21ms/step - loss: 0.0383 - accuracy: 0.9825 - val_loss: 0.5241 - val_accuracy: 0.9000\n",
            "Epoch 221/256\n",
            "27/27 [==============================] - 1s 20ms/step - loss: 0.0319 - accuracy: 0.9906 - val_loss: 0.5116 - val_accuracy: 0.9000\n",
            "Epoch 222/256\n",
            "27/27 [==============================] - 1s 20ms/step - loss: 0.0334 - accuracy: 0.9860 - val_loss: 0.5357 - val_accuracy: 0.9000\n",
            "Epoch 223/256\n",
            "27/27 [==============================] - 1s 20ms/step - loss: 0.0329 - accuracy: 0.9883 - val_loss: 0.5203 - val_accuracy: 0.9000\n",
            "Epoch 224/256\n",
            "27/27 [==============================] - 1s 19ms/step - loss: 0.0332 - accuracy: 0.9883 - val_loss: 0.5268 - val_accuracy: 0.9000\n",
            "Epoch 225/256\n",
            "27/27 [==============================] - 1s 19ms/step - loss: 0.0335 - accuracy: 0.9883 - val_loss: 0.5209 - val_accuracy: 0.9000\n",
            "Epoch 226/256\n",
            "27/27 [==============================] - 1s 20ms/step - loss: 0.0323 - accuracy: 0.9901 - val_loss: 0.5449 - val_accuracy: 0.9000\n",
            "Epoch 227/256\n",
            "27/27 [==============================] - 1s 20ms/step - loss: 0.0313 - accuracy: 0.9883 - val_loss: 0.5249 - val_accuracy: 0.9105\n",
            "Epoch 228/256\n",
            "27/27 [==============================] - 1s 20ms/step - loss: 0.0323 - accuracy: 0.9865 - val_loss: 0.5407 - val_accuracy: 0.9000\n",
            "Epoch 229/256\n",
            "27/27 [==============================] - 1s 22ms/step - loss: 0.0336 - accuracy: 0.9865 - val_loss: 0.5377 - val_accuracy: 0.9000\n",
            "Epoch 230/256\n",
            "27/27 [==============================] - 1s 20ms/step - loss: 0.0321 - accuracy: 0.9901 - val_loss: 0.5019 - val_accuracy: 0.9053\n",
            "Epoch 231/256\n",
            "27/27 [==============================] - 1s 21ms/step - loss: 0.0366 - accuracy: 0.9860 - val_loss: 0.5388 - val_accuracy: 0.9000\n",
            "Epoch 232/256\n",
            "27/27 [==============================] - 1s 22ms/step - loss: 0.0325 - accuracy: 0.9877 - val_loss: 0.5292 - val_accuracy: 0.8947\n",
            "Epoch 233/256\n",
            "27/27 [==============================] - 1s 20ms/step - loss: 0.0327 - accuracy: 0.9889 - val_loss: 0.5209 - val_accuracy: 0.9000\n",
            "Epoch 234/256\n",
            "27/27 [==============================] - 1s 21ms/step - loss: 0.0329 - accuracy: 0.9871 - val_loss: 0.5507 - val_accuracy: 0.9000\n",
            "Epoch 235/256\n",
            "27/27 [==============================] - 1s 21ms/step - loss: 0.0325 - accuracy: 0.9883 - val_loss: 0.5151 - val_accuracy: 0.9053\n",
            "Epoch 236/256\n",
            "27/27 [==============================] - 1s 21ms/step - loss: 0.0347 - accuracy: 0.9860 - val_loss: 0.5755 - val_accuracy: 0.9000\n",
            "Epoch 237/256\n",
            "27/27 [==============================] - 1s 21ms/step - loss: 0.0336 - accuracy: 0.9895 - val_loss: 0.5240 - val_accuracy: 0.9000\n",
            "Epoch 238/256\n",
            "27/27 [==============================] - 1s 20ms/step - loss: 0.0315 - accuracy: 0.9889 - val_loss: 0.5180 - val_accuracy: 0.9053\n",
            "Epoch 239/256\n",
            "27/27 [==============================] - 1s 20ms/step - loss: 0.0316 - accuracy: 0.9906 - val_loss: 0.5453 - val_accuracy: 0.9053\n",
            "Epoch 240/256\n",
            "27/27 [==============================] - 1s 20ms/step - loss: 0.0336 - accuracy: 0.9854 - val_loss: 0.5324 - val_accuracy: 0.9000\n",
            "Epoch 241/256\n",
            "27/27 [==============================] - 1s 19ms/step - loss: 0.0370 - accuracy: 0.9877 - val_loss: 0.5580 - val_accuracy: 0.9053\n",
            "Epoch 242/256\n",
            "27/27 [==============================] - 1s 20ms/step - loss: 0.0349 - accuracy: 0.9848 - val_loss: 0.5723 - val_accuracy: 0.9053\n",
            "Epoch 243/256\n",
            "27/27 [==============================] - 1s 20ms/step - loss: 0.0381 - accuracy: 0.9848 - val_loss: 0.5688 - val_accuracy: 0.9000\n",
            "Epoch 244/256\n",
            "27/27 [==============================] - 1s 20ms/step - loss: 0.0334 - accuracy: 0.9865 - val_loss: 0.5562 - val_accuracy: 0.9000\n",
            "Epoch 245/256\n",
            "27/27 [==============================] - 1s 20ms/step - loss: 0.0326 - accuracy: 0.9877 - val_loss: 0.5468 - val_accuracy: 0.9000\n",
            "Epoch 246/256\n",
            "27/27 [==============================] - 1s 20ms/step - loss: 0.0315 - accuracy: 0.9906 - val_loss: 0.5576 - val_accuracy: 0.9000\n",
            "Epoch 247/256\n",
            "27/27 [==============================] - 0s 18ms/step - loss: 0.0333 - accuracy: 0.9877 - val_loss: 0.5440 - val_accuracy: 0.9000\n",
            "Epoch 248/256\n",
            "27/27 [==============================] - 1s 19ms/step - loss: 0.0330 - accuracy: 0.9860 - val_loss: 0.5581 - val_accuracy: 0.9053\n",
            "Epoch 249/256\n",
            "27/27 [==============================] - 1s 21ms/step - loss: 0.0332 - accuracy: 0.9883 - val_loss: 0.5441 - val_accuracy: 0.9000\n",
            "Epoch 250/256\n",
            "27/27 [==============================] - 1s 21ms/step - loss: 0.0327 - accuracy: 0.9871 - val_loss: 0.5436 - val_accuracy: 0.9000\n",
            "Epoch 251/256\n",
            "27/27 [==============================] - 1s 20ms/step - loss: 0.0320 - accuracy: 0.9865 - val_loss: 0.5461 - val_accuracy: 0.9000\n",
            "Epoch 252/256\n",
            "27/27 [==============================] - 1s 20ms/step - loss: 0.0322 - accuracy: 0.9883 - val_loss: 0.5449 - val_accuracy: 0.9000\n",
            "Epoch 253/256\n",
            "27/27 [==============================] - 1s 20ms/step - loss: 0.0335 - accuracy: 0.9871 - val_loss: 0.5286 - val_accuracy: 0.9053\n",
            "Epoch 254/256\n",
            "27/27 [==============================] - 1s 21ms/step - loss: 0.0310 - accuracy: 0.9895 - val_loss: 0.5548 - val_accuracy: 0.9000\n",
            "Epoch 255/256\n",
            "27/27 [==============================] - 1s 20ms/step - loss: 0.0311 - accuracy: 0.9883 - val_loss: 0.5446 - val_accuracy: 0.9000\n",
            "Epoch 256/256\n",
            "27/27 [==============================] - 1s 26ms/step - loss: 0.0336 - accuracy: 0.9865 - val_loss: 0.5595 - val_accuracy: 0.9000\n"
          ]
        },
        {
          "output_type": "stream",
          "name": "stderr",
          "text": [
            "/usr/local/lib/python3.7/dist-packages/tensorflow/python/data/ops/structured_function.py:265: UserWarning: Even though the `tf.config.experimental_run_functions_eagerly` option is set, this option does not apply to tf.data functions. To force eager execution of tf.data functions, please use `tf.data.experimental.enable_debug_mode()`.\n",
            "  \"Even though the `tf.config.experimental_run_functions_eagerly` \"\n"
          ]
        }
      ]
    },
    {
      "cell_type": "markdown",
      "source": [
        "#### Confusion Matrix Report"
      ],
      "metadata": {
        "id": "m99iYhnSYiF8"
      }
    },
    {
      "cell_type": "code",
      "source": [
        "print('Batch size: ', batch_size, ' Epoch size: ', epoch_size)\n",
        "print('Model Accuracy: ', max_accuracy)\n",
        "cof_mat(cf_matrix, 'Artificial Neural Network (ANN)')\n",
        "print(clf_report)"
      ],
      "metadata": {
        "id": "VFQLi_cdR3u5",
        "colab": {
          "base_uri": "https://localhost:8080/",
          "height": 556
        },
        "outputId": "585ca754-af27-4d10-bf54-321ee8ed2d60"
      },
      "execution_count": null,
      "outputs": [
        {
          "output_type": "stream",
          "name": "stdout",
          "text": [
            "Batch size:  32  Epoch size:  256\n",
            "Model Accuracy:  0.9056603773584906\n"
          ]
        },
        {
          "output_type": "display_data",
          "data": {
            "text/plain": [
              "<Figure size 432x288 with 2 Axes>"
            ],
            "image/png": "[encoded data removed]"
          },
          "metadata": {
            "needs_background": "light"
          }
        },
        {
          "output_type": "stream",
          "name": "stdout",
          "text": [
            "              precision    recall  f1-score   support\n",
            "\n",
            "         1.0       0.96      0.95      0.95       165\n",
            "         2.0       0.64      0.79      0.71        29\n",
            "         3.0       0.93      0.72      0.81        18\n",
            "\n",
            "    accuracy                           0.91       212\n",
            "   macro avg       0.84      0.82      0.82       212\n",
            "weighted avg       0.92      0.91      0.91       212\n",
            "\n"
          ]
        }
      ]
    },
    {
      "cell_type": "markdown",
      "source": [
        "### Random Forest"
      ],
      "metadata": {
        "id": "DmPq7eM2W1HM"
      }
    },
    {
      "cell_type": "markdown",
      "source": [
        "#### Model Training"
      ],
      "metadata": {
        "id": "sSVBIXWAYarZ"
      }
    },
    {
      "cell_type": "code",
      "source": [
        "## To print the best parameter values\n",
        "def print_cv(cv, X, y, model_name):\n",
        "    \"\"\" Prints best score, best parameter values, and in and out of sample confusion matrices for a cv\n",
        "    result \"\"\"\n",
        "    print('Results for {}:'.format(model_name))\n",
        "    print('The best out-of-sample performance is {}'.format(cv.best_score_))\n",
        "    print('Best parameter values: ', cv.best_params_)\n",
        "\n",
        "    pred = cv.best_estimator_.predict(X)\n",
        "    print('In-sample confusion matrix of best estimator:\\n{}'.format(sklearn.metrics.confusion_matrix(y, pred)))\n",
        "\n",
        "    cross_val_pred = sklearn.model_selection.cross_val_predict(cv.best_estimator_, X, y, cv=5, n_jobs=-1)\n",
        "    print('Out-of-sample confusion matrix of best estimator:\\n{}'.format(\n",
        "        sklearn.metrics.confusion_matrix(y, cross_val_pred)))\n",
        "\n",
        "    return"
      ],
      "metadata": {
        "id": "XCiwcrL4JHIW"
      },
      "execution_count": null,
      "outputs": []
    },
    {
      "cell_type": "code",
      "source": [
        "seed = 42\n",
        "random_forest = sklearn.ensemble.RandomForestClassifier(n_estimators=100, criterion='gini', max_depth=2,\n",
        "    min_samples_split=2, min_samples_leaf=1, min_weight_fraction_leaf=0.0, max_features=10,\n",
        "    bootstrap=True, oob_score=False, n_jobs=-1, random_state=seed, class_weight='balanced')\n",
        "\n",
        "# values for cross-validation\n",
        "# Number of trees in random forest\n",
        "tree_numbers = [20, 50, 100, 200]\n",
        "# Maximum number of levels in tree\n",
        "tree_depths = [1, 2, 3, 4, 5, 6, 7, 8]\n",
        "# Number of features to consider at every split\n",
        "max_feature_vals = [3, 5, 8, 10, 15]\n",
        "\n",
        "random_forest_grid = {\"n_estimators\": tree_numbers,\n",
        "    \"max_depth\": tree_depths,\n",
        "    \"max_features\": max_feature_vals}\n",
        "\n",
        "random_forest_cv = sklearn.model_selection.GridSearchCV(random_forest, random_forest_grid,\n",
        "    scoring='balanced_accuracy', n_jobs=-1, refit=True, verbose=True, return_train_score=True, cv=5)\n",
        "\n",
        "random_forest_cv.fit(X_train_featured, y_train)\n",
        "print_cv(random_forest_cv, X_train_featured, y_train, 'Random forest')"
      ],
      "metadata": {
        "id": "j2ke6VX18RGE",
        "colab": {
          "base_uri": "https://localhost:8080/"
        },
        "outputId": "78825789-7f6f-4a05-eaeb-a15dc1f0b26a"
      },
      "execution_count": null,
      "outputs": [
        {
          "output_type": "stream",
          "name": "stdout",
          "text": [
            "Fitting 5 folds for each of 160 candidates, totalling 800 fits\n",
            "Results for Random forest:\n",
            "The best out-of-sample performance is 0.8949851137427217\n",
            "Best parameter values:  {'max_depth': 5, 'max_features': 5, 'n_estimators': 200}\n",
            "In-sample confusion matrix of best estimator:\n",
            "[[1364  114    3]\n",
            " [  21  240    2]\n",
            " [   2    4  150]]\n",
            "Out-of-sample confusion matrix of best estimator:\n",
            "[[1356  117    8]\n",
            " [  34  226    3]\n",
            " [   6    8  142]]\n"
          ]
        }
      ]
    },
    {
      "cell_type": "code",
      "source": [
        "seed = 42\n",
        "random_forest = sklearn.ensemble.RandomForestClassifier(n_estimators=200, criterion='gini', max_depth=5,\n",
        "    min_samples_split=2, min_samples_leaf=1, min_weight_fraction_leaf=0.0, max_features=5,\n",
        "    bootstrap=True, oob_score=False, n_jobs=-1, random_state=seed, class_weight='balanced')\n",
        "\n",
        "random_forest.fit(X_train_featured, y_train)"
      ],
      "metadata": {
        "colab": {
          "base_uri": "https://localhost:8080/"
        },
        "id": "0zBEBMi_OZJ8",
        "outputId": "6653170d-f0c5-4ed0-bb0b-827c2cb88b75"
      },
      "execution_count": null,
      "outputs": [
        {
          "output_type": "execute_result",
          "data": {
            "text/plain": [
              "RandomForestClassifier(class_weight='balanced', max_depth=5, max_features=5,\n",
              "                       n_estimators=200, n_jobs=-1, random_state=42)"
            ]
          },
          "metadata": {},
          "execution_count": 31
        }
      ]
    },
    {
      "cell_type": "code",
      "source": [
        "y_pred = random_forest.predict(X_test_featured)"
      ],
      "metadata": {
        "id": "4wUwgwgbX0IR"
      },
      "execution_count": null,
      "outputs": []
    },
    {
      "cell_type": "markdown",
      "source": [
        "#### Confusion Matrix Report"
      ],
      "metadata": {
        "id": "DCBoTWCoreSN"
      }
    },
    {
      "cell_type": "code",
      "source": [
        "cf_matrix = confusion_matrix(y_test, y_pred)\n",
        "clf_report = classification_report(y_test, y_pred)"
      ],
      "metadata": {
        "id": "aW0TjBlcX1_b"
      },
      "execution_count": null,
      "outputs": []
    },
    {
      "cell_type": "code",
      "source": [
        "print('Model Accuracy: ', accuracy_score(y_test, y_pred))\n",
        "cof_mat(cf_matrix, 'Random Forest')\n",
        "print(clf_report)"
      ],
      "metadata": {
        "id": "cIyE2uOsBwkC",
        "colab": {
          "base_uri": "https://localhost:8080/",
          "height": 528
        },
        "outputId": "041debb9-2fd4-48a6-94cf-e538fd1cc419"
      },
      "execution_count": null,
      "outputs": [
        {
          "output_type": "stream",
          "name": "stdout",
          "text": [
            "Model Accuracy:  0.9009433962264151\n"
          ]
        },
        {
          "output_type": "display_data",
          "data": {
            "text/plain": [
              "<Figure size 432x288 with 2 Axes>"
            ],
            "image/png": "[encoded data removed]"
          },
          "metadata": {
            "needs_background": "light"
          }
        },
        {
          "output_type": "stream",
          "name": "stdout",
          "text": [
            "              precision    recall  f1-score   support\n",
            "\n",
            "         1.0       0.95      0.92      0.94       165\n",
            "         2.0       0.65      0.76      0.70        29\n",
            "         3.0       0.94      0.94      0.94        18\n",
            "\n",
            "    accuracy                           0.90       212\n",
            "   macro avg       0.85      0.87      0.86       212\n",
            "weighted avg       0.91      0.90      0.90       212\n",
            "\n"
          ]
        }
      ]
    }
  ],
  "metadata": {
    "kernelspec": {
      "display_name": "Python 3.10.2 64-bit",
      "language": "python",
      "name": "python3"
    },
    "language_info": {
      "codemirror_mode": {
        "name": "ipython",
        "version": 3
      },
      "file_extension": ".py",
      "mimetype": "text/x-python",
      "name": "python",
      "nbconvert_exporter": "python",
      "pygments_lexer": "ipython3",
      "version": "3.10.2"
    },
    "orig_nbformat": 4,
    "vscode": {
      "interpreter": {
        "hash": "4d0648000be28e50208d202d097233315abbddc5facc57225e53ce810e34a358"
      }
    },
    "colab": {
      "name": "Cardio_4_Project2.ipynb",
      "provenance": [],
      "collapsed_sections": [],
      "include_colab_link": true
    }
  },
  "nbformat": 4,
  "nbformat_minor": 0
}